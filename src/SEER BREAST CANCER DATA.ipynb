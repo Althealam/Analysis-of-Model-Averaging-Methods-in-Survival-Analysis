{
 "cells": [
  {
   "cell_type": "markdown",
   "id": "5041caac",
   "metadata": {},
   "source": [
    "乳腺癌数据集具有的特征：\n",
    "* Age(年龄)<br>\n",
    "* Race(种族）<br>\n",
    "* Marital_Status(婚姻状态)<br>\n",
    "* T_Stage(原发肿瘤的大小)<br>\n",
    "* N_Stage(癌细胞扩散的淋巴结情况)<br>\n",
    "* Sixth_Stage<br>\n",
    "* Grade<br>\n",
    "* A_Stage<br>\n",
    "* Tumor_Size(肿瘤大小)<br>\n",
    "* Estrogen_Status(雌激素受体是否阳性)<br>\n",
    "* Progesterone_Status(孕激素受体是否阳性)<br>\n",
    "* Regional_Node_Examined<br>\n",
    "* Reginol_Node_Positive<br>\n",
    "* Survival_Months（生存时间，单位:月)<br>\n",
    "<br>\n",
    "<br>\n",
    "这个乳腺癌数据集研究的失效事件是\"Status\"中的\"Dead\",生存时间是\"Survival_Months\"单位是月"
   ]
  },
  {
   "cell_type": "code",
   "execution_count": 2,
   "id": "b32be143",
   "metadata": {},
   "outputs": [],
   "source": [
    "import pandas as pd\n",
    "import numpy as np\n",
    "import seaborn as sns\n",
    "import matplotlib.pyplot as plt"
   ]
  },
  {
   "cell_type": "code",
   "execution_count": 3,
   "id": "fa68f5f4",
   "metadata": {},
   "outputs": [],
   "source": [
    "file_path=\"/Users/linjiaxi/Desktop/Graduation Thesis/数据集/SEER Breast Cancer Dataset.csv\"\n",
    "\n",
    "# 读取CSV文件\n",
    "df = pd.read_csv(file_path)"
   ]
  },
  {
   "cell_type": "code",
   "execution_count": 4,
   "id": "bcd1d789",
   "metadata": {},
   "outputs": [
    {
     "data": {
      "text/html": [
       "<div>\n",
       "<style scoped>\n",
       "    .dataframe tbody tr th:only-of-type {\n",
       "        vertical-align: middle;\n",
       "    }\n",
       "\n",
       "    .dataframe tbody tr th {\n",
       "        vertical-align: top;\n",
       "    }\n",
       "\n",
       "    .dataframe thead th {\n",
       "        text-align: right;\n",
       "    }\n",
       "</style>\n",
       "<table border=\"1\" class=\"dataframe\">\n",
       "  <thead>\n",
       "    <tr style=\"text-align: right;\">\n",
       "      <th></th>\n",
       "      <th>Age</th>\n",
       "      <th>Race</th>\n",
       "      <th>Marital Status</th>\n",
       "      <th>Unnamed: 3</th>\n",
       "      <th>T Stage</th>\n",
       "      <th>N Stage</th>\n",
       "      <th>6th Stage</th>\n",
       "      <th>Grade</th>\n",
       "      <th>A Stage</th>\n",
       "      <th>Tumor Size</th>\n",
       "      <th>Estrogen Status</th>\n",
       "      <th>Progesterone Status</th>\n",
       "      <th>Regional Node Examined</th>\n",
       "      <th>Reginol Node Positive</th>\n",
       "      <th>Survival Months</th>\n",
       "      <th>Status</th>\n",
       "    </tr>\n",
       "  </thead>\n",
       "  <tbody>\n",
       "    <tr>\n",
       "      <th>0</th>\n",
       "      <td>43</td>\n",
       "      <td>Other (American Indian/AK Native, Asian/Pacifi...</td>\n",
       "      <td>Married (including common law)</td>\n",
       "      <td>NaN</td>\n",
       "      <td>T2</td>\n",
       "      <td>N3</td>\n",
       "      <td>IIIC</td>\n",
       "      <td>Moderately differentiated; Grade II</td>\n",
       "      <td>Regional</td>\n",
       "      <td>40</td>\n",
       "      <td>Positive</td>\n",
       "      <td>Positive</td>\n",
       "      <td>19</td>\n",
       "      <td>11</td>\n",
       "      <td>1</td>\n",
       "      <td>Alive</td>\n",
       "    </tr>\n",
       "    <tr>\n",
       "      <th>1</th>\n",
       "      <td>47</td>\n",
       "      <td>Other (American Indian/AK Native, Asian/Pacifi...</td>\n",
       "      <td>Married (including common law)</td>\n",
       "      <td>NaN</td>\n",
       "      <td>T2</td>\n",
       "      <td>N2</td>\n",
       "      <td>IIIA</td>\n",
       "      <td>Moderately differentiated; Grade II</td>\n",
       "      <td>Regional</td>\n",
       "      <td>45</td>\n",
       "      <td>Positive</td>\n",
       "      <td>Positive</td>\n",
       "      <td>25</td>\n",
       "      <td>9</td>\n",
       "      <td>2</td>\n",
       "      <td>Alive</td>\n",
       "    </tr>\n",
       "    <tr>\n",
       "      <th>2</th>\n",
       "      <td>67</td>\n",
       "      <td>White</td>\n",
       "      <td>Married (including common law)</td>\n",
       "      <td>NaN</td>\n",
       "      <td>T2</td>\n",
       "      <td>N1</td>\n",
       "      <td>IIB</td>\n",
       "      <td>Poorly differentiated; Grade III</td>\n",
       "      <td>Regional</td>\n",
       "      <td>25</td>\n",
       "      <td>Positive</td>\n",
       "      <td>Positive</td>\n",
       "      <td>4</td>\n",
       "      <td>1</td>\n",
       "      <td>2</td>\n",
       "      <td>Dead</td>\n",
       "    </tr>\n",
       "    <tr>\n",
       "      <th>3</th>\n",
       "      <td>46</td>\n",
       "      <td>White</td>\n",
       "      <td>Divorced</td>\n",
       "      <td>NaN</td>\n",
       "      <td>T1</td>\n",
       "      <td>N1</td>\n",
       "      <td>IIA</td>\n",
       "      <td>Moderately differentiated; Grade II</td>\n",
       "      <td>Regional</td>\n",
       "      <td>19</td>\n",
       "      <td>Positive</td>\n",
       "      <td>Positive</td>\n",
       "      <td>26</td>\n",
       "      <td>1</td>\n",
       "      <td>2</td>\n",
       "      <td>Dead</td>\n",
       "    </tr>\n",
       "    <tr>\n",
       "      <th>4</th>\n",
       "      <td>63</td>\n",
       "      <td>White</td>\n",
       "      <td>Married (including common law)</td>\n",
       "      <td>NaN</td>\n",
       "      <td>T2</td>\n",
       "      <td>N2</td>\n",
       "      <td>IIIA</td>\n",
       "      <td>Moderately differentiated; Grade II</td>\n",
       "      <td>Regional</td>\n",
       "      <td>35</td>\n",
       "      <td>Positive</td>\n",
       "      <td>Positive</td>\n",
       "      <td>21</td>\n",
       "      <td>5</td>\n",
       "      <td>3</td>\n",
       "      <td>Dead</td>\n",
       "    </tr>\n",
       "    <tr>\n",
       "      <th>5</th>\n",
       "      <td>49</td>\n",
       "      <td>White</td>\n",
       "      <td>Married (including common law)</td>\n",
       "      <td>NaN</td>\n",
       "      <td>T2</td>\n",
       "      <td>N3</td>\n",
       "      <td>IIIC</td>\n",
       "      <td>Moderately differentiated; Grade II</td>\n",
       "      <td>Regional</td>\n",
       "      <td>32</td>\n",
       "      <td>Positive</td>\n",
       "      <td>Positive</td>\n",
       "      <td>20</td>\n",
       "      <td>11</td>\n",
       "      <td>3</td>\n",
       "      <td>Alive</td>\n",
       "    </tr>\n",
       "    <tr>\n",
       "      <th>6</th>\n",
       "      <td>64</td>\n",
       "      <td>White</td>\n",
       "      <td>Single (never married)</td>\n",
       "      <td>NaN</td>\n",
       "      <td>T2</td>\n",
       "      <td>N1</td>\n",
       "      <td>IIB</td>\n",
       "      <td>Moderately differentiated; Grade II</td>\n",
       "      <td>Regional</td>\n",
       "      <td>22</td>\n",
       "      <td>Positive</td>\n",
       "      <td>Positive</td>\n",
       "      <td>1</td>\n",
       "      <td>1</td>\n",
       "      <td>3</td>\n",
       "      <td>Dead</td>\n",
       "    </tr>\n",
       "    <tr>\n",
       "      <th>7</th>\n",
       "      <td>55</td>\n",
       "      <td>White</td>\n",
       "      <td>Married (including common law)</td>\n",
       "      <td>NaN</td>\n",
       "      <td>T1</td>\n",
       "      <td>N1</td>\n",
       "      <td>IIA</td>\n",
       "      <td>Moderately differentiated; Grade II</td>\n",
       "      <td>Regional</td>\n",
       "      <td>15</td>\n",
       "      <td>Positive</td>\n",
       "      <td>Positive</td>\n",
       "      <td>9</td>\n",
       "      <td>1</td>\n",
       "      <td>3</td>\n",
       "      <td>Alive</td>\n",
       "    </tr>\n",
       "    <tr>\n",
       "      <th>8</th>\n",
       "      <td>59</td>\n",
       "      <td>White</td>\n",
       "      <td>Single (never married)</td>\n",
       "      <td>NaN</td>\n",
       "      <td>T3</td>\n",
       "      <td>N1</td>\n",
       "      <td>IIIA</td>\n",
       "      <td>Moderately differentiated; Grade II</td>\n",
       "      <td>Regional</td>\n",
       "      <td>70</td>\n",
       "      <td>Positive</td>\n",
       "      <td>Positive</td>\n",
       "      <td>9</td>\n",
       "      <td>1</td>\n",
       "      <td>4</td>\n",
       "      <td>Dead</td>\n",
       "    </tr>\n",
       "    <tr>\n",
       "      <th>9</th>\n",
       "      <td>67</td>\n",
       "      <td>White</td>\n",
       "      <td>Married (including common law)</td>\n",
       "      <td>NaN</td>\n",
       "      <td>T3</td>\n",
       "      <td>N2</td>\n",
       "      <td>IIIA</td>\n",
       "      <td>Poorly differentiated; Grade III</td>\n",
       "      <td>Regional</td>\n",
       "      <td>55</td>\n",
       "      <td>Positive</td>\n",
       "      <td>Positive</td>\n",
       "      <td>9</td>\n",
       "      <td>9</td>\n",
       "      <td>4</td>\n",
       "      <td>Dead</td>\n",
       "    </tr>\n",
       "  </tbody>\n",
       "</table>\n",
       "</div>"
      ],
      "text/plain": [
       "   Age                                              Race   \\\n",
       "0   43  Other (American Indian/AK Native, Asian/Pacifi...   \n",
       "1   47  Other (American Indian/AK Native, Asian/Pacifi...   \n",
       "2   67                                              White   \n",
       "3   46                                              White   \n",
       "4   63                                              White   \n",
       "5   49                                              White   \n",
       "6   64                                              White   \n",
       "7   55                                              White   \n",
       "8   59                                              White   \n",
       "9   67                                              White   \n",
       "\n",
       "                   Marital Status  Unnamed: 3 T Stage  N Stage 6th Stage  \\\n",
       "0  Married (including common law)         NaN       T2      N3      IIIC   \n",
       "1  Married (including common law)         NaN       T2      N2      IIIA   \n",
       "2  Married (including common law)         NaN       T2      N1       IIB   \n",
       "3                        Divorced         NaN       T1      N1       IIA   \n",
       "4  Married (including common law)         NaN       T2      N2      IIIA   \n",
       "5  Married (including common law)         NaN       T2      N3      IIIC   \n",
       "6          Single (never married)         NaN       T2      N1       IIB   \n",
       "7  Married (including common law)         NaN       T1      N1       IIA   \n",
       "8          Single (never married)         NaN       T3      N1      IIIA   \n",
       "9  Married (including common law)         NaN       T3      N2      IIIA   \n",
       "\n",
       "                                 Grade   A Stage  Tumor Size Estrogen Status  \\\n",
       "0  Moderately differentiated; Grade II  Regional          40        Positive   \n",
       "1  Moderately differentiated; Grade II  Regional          45        Positive   \n",
       "2     Poorly differentiated; Grade III  Regional          25        Positive   \n",
       "3  Moderately differentiated; Grade II  Regional          19        Positive   \n",
       "4  Moderately differentiated; Grade II  Regional          35        Positive   \n",
       "5  Moderately differentiated; Grade II  Regional          32        Positive   \n",
       "6  Moderately differentiated; Grade II  Regional          22        Positive   \n",
       "7  Moderately differentiated; Grade II  Regional          15        Positive   \n",
       "8  Moderately differentiated; Grade II  Regional          70        Positive   \n",
       "9     Poorly differentiated; Grade III  Regional          55        Positive   \n",
       "\n",
       "  Progesterone Status  Regional Node Examined  Reginol Node Positive  \\\n",
       "0            Positive                      19                     11   \n",
       "1            Positive                      25                      9   \n",
       "2            Positive                       4                      1   \n",
       "3            Positive                      26                      1   \n",
       "4            Positive                      21                      5   \n",
       "5            Positive                      20                     11   \n",
       "6            Positive                       1                      1   \n",
       "7            Positive                       9                      1   \n",
       "8            Positive                       9                      1   \n",
       "9            Positive                       9                      9   \n",
       "\n",
       "   Survival Months Status  \n",
       "0                1  Alive  \n",
       "1                2  Alive  \n",
       "2                2   Dead  \n",
       "3                2   Dead  \n",
       "4                3   Dead  \n",
       "5                3  Alive  \n",
       "6                3   Dead  \n",
       "7                3  Alive  \n",
       "8                4   Dead  \n",
       "9                4   Dead  "
      ]
     },
     "execution_count": 4,
     "metadata": {},
     "output_type": "execute_result"
    }
   ],
   "source": [
    "df.head(10)"
   ]
  },
  {
   "cell_type": "code",
   "execution_count": 5,
   "id": "aba4afd3",
   "metadata": {},
   "outputs": [
    {
     "data": {
      "text/plain": [
       "Index(['Age', 'Race ', 'Marital Status', 'Unnamed: 3', 'T Stage ', 'N Stage',\n",
       "       '6th Stage', 'Grade', 'A Stage', 'Tumor Size', 'Estrogen Status',\n",
       "       'Progesterone Status', 'Regional Node Examined',\n",
       "       'Reginol Node Positive', 'Survival Months', 'Status'],\n",
       "      dtype='object')"
      ]
     },
     "execution_count": 5,
     "metadata": {},
     "output_type": "execute_result"
    }
   ],
   "source": [
    "df.columns"
   ]
  },
  {
   "cell_type": "code",
   "execution_count": 6,
   "id": "ad39e246",
   "metadata": {},
   "outputs": [],
   "source": [
    "new_column_names = {\n",
    "    'Age': 'Age',\n",
    "    'Race ': 'Race',\n",
    "    'Marital Status': 'Marital_Status',\n",
    "    'Unnamed: 3': 'Unnamed:3',\n",
    "    'T Stage ': 'T_Stage',\n",
    "    'N Stage': 'N_Stage',\n",
    "    '6th Stage': 'Sixth_Stage',\n",
    "    'Grade': 'Grade',\n",
    "    'A Stage': 'A_Stage',\n",
    "    'Tumor Size': 'Tumor_Size',\n",
    "    'Estrogen Status': 'Estrogen_Status',\n",
    "    'Progesterone Status': 'Progesterone_Status',\n",
    "    'Regional Node Examined': 'Regional_Node_Examined',\n",
    "    'Reginol Node Positive': 'Regional_Node_Positive',\n",
    "    'Survival Months': 'Survival_Month',\n",
    "    'Status': 'Status'\n",
    "}\n",
    "\n",
    "# 使用rename()方法修改列名\n",
    "df = df.rename(columns=new_column_names)\n",
    "\n",
    "# 删除名为'Unnamed:3'的列\n",
    "df = df.drop(columns=['Unnamed:3'])"
   ]
  },
  {
   "cell_type": "code",
   "execution_count": 7,
   "id": "6750715f",
   "metadata": {},
   "outputs": [
    {
     "data": {
      "text/html": [
       "<div>\n",
       "<style scoped>\n",
       "    .dataframe tbody tr th:only-of-type {\n",
       "        vertical-align: middle;\n",
       "    }\n",
       "\n",
       "    .dataframe tbody tr th {\n",
       "        vertical-align: top;\n",
       "    }\n",
       "\n",
       "    .dataframe thead th {\n",
       "        text-align: right;\n",
       "    }\n",
       "</style>\n",
       "<table border=\"1\" class=\"dataframe\">\n",
       "  <thead>\n",
       "    <tr style=\"text-align: right;\">\n",
       "      <th></th>\n",
       "      <th>Age</th>\n",
       "      <th>Race</th>\n",
       "      <th>Marital_Status</th>\n",
       "      <th>T_Stage</th>\n",
       "      <th>N_Stage</th>\n",
       "      <th>Sixth_Stage</th>\n",
       "      <th>Grade</th>\n",
       "      <th>A_Stage</th>\n",
       "      <th>Tumor_Size</th>\n",
       "      <th>Estrogen_Status</th>\n",
       "      <th>Progesterone_Status</th>\n",
       "      <th>Regional_Node_Examined</th>\n",
       "      <th>Regional_Node_Positive</th>\n",
       "      <th>Survival_Month</th>\n",
       "      <th>Status</th>\n",
       "    </tr>\n",
       "  </thead>\n",
       "  <tbody>\n",
       "    <tr>\n",
       "      <th>0</th>\n",
       "      <td>43</td>\n",
       "      <td>Other (American Indian/AK Native, Asian/Pacifi...</td>\n",
       "      <td>Married (including common law)</td>\n",
       "      <td>T2</td>\n",
       "      <td>N3</td>\n",
       "      <td>IIIC</td>\n",
       "      <td>Moderately differentiated; Grade II</td>\n",
       "      <td>Regional</td>\n",
       "      <td>40</td>\n",
       "      <td>Positive</td>\n",
       "      <td>Positive</td>\n",
       "      <td>19</td>\n",
       "      <td>11</td>\n",
       "      <td>1</td>\n",
       "      <td>Alive</td>\n",
       "    </tr>\n",
       "    <tr>\n",
       "      <th>1</th>\n",
       "      <td>47</td>\n",
       "      <td>Other (American Indian/AK Native, Asian/Pacifi...</td>\n",
       "      <td>Married (including common law)</td>\n",
       "      <td>T2</td>\n",
       "      <td>N2</td>\n",
       "      <td>IIIA</td>\n",
       "      <td>Moderately differentiated; Grade II</td>\n",
       "      <td>Regional</td>\n",
       "      <td>45</td>\n",
       "      <td>Positive</td>\n",
       "      <td>Positive</td>\n",
       "      <td>25</td>\n",
       "      <td>9</td>\n",
       "      <td>2</td>\n",
       "      <td>Alive</td>\n",
       "    </tr>\n",
       "    <tr>\n",
       "      <th>2</th>\n",
       "      <td>67</td>\n",
       "      <td>White</td>\n",
       "      <td>Married (including common law)</td>\n",
       "      <td>T2</td>\n",
       "      <td>N1</td>\n",
       "      <td>IIB</td>\n",
       "      <td>Poorly differentiated; Grade III</td>\n",
       "      <td>Regional</td>\n",
       "      <td>25</td>\n",
       "      <td>Positive</td>\n",
       "      <td>Positive</td>\n",
       "      <td>4</td>\n",
       "      <td>1</td>\n",
       "      <td>2</td>\n",
       "      <td>Dead</td>\n",
       "    </tr>\n",
       "    <tr>\n",
       "      <th>3</th>\n",
       "      <td>46</td>\n",
       "      <td>White</td>\n",
       "      <td>Divorced</td>\n",
       "      <td>T1</td>\n",
       "      <td>N1</td>\n",
       "      <td>IIA</td>\n",
       "      <td>Moderately differentiated; Grade II</td>\n",
       "      <td>Regional</td>\n",
       "      <td>19</td>\n",
       "      <td>Positive</td>\n",
       "      <td>Positive</td>\n",
       "      <td>26</td>\n",
       "      <td>1</td>\n",
       "      <td>2</td>\n",
       "      <td>Dead</td>\n",
       "    </tr>\n",
       "    <tr>\n",
       "      <th>4</th>\n",
       "      <td>63</td>\n",
       "      <td>White</td>\n",
       "      <td>Married (including common law)</td>\n",
       "      <td>T2</td>\n",
       "      <td>N2</td>\n",
       "      <td>IIIA</td>\n",
       "      <td>Moderately differentiated; Grade II</td>\n",
       "      <td>Regional</td>\n",
       "      <td>35</td>\n",
       "      <td>Positive</td>\n",
       "      <td>Positive</td>\n",
       "      <td>21</td>\n",
       "      <td>5</td>\n",
       "      <td>3</td>\n",
       "      <td>Dead</td>\n",
       "    </tr>\n",
       "  </tbody>\n",
       "</table>\n",
       "</div>"
      ],
      "text/plain": [
       "   Age                                               Race  \\\n",
       "0   43  Other (American Indian/AK Native, Asian/Pacifi...   \n",
       "1   47  Other (American Indian/AK Native, Asian/Pacifi...   \n",
       "2   67                                              White   \n",
       "3   46                                              White   \n",
       "4   63                                              White   \n",
       "\n",
       "                   Marital_Status T_Stage N_Stage Sixth_Stage  \\\n",
       "0  Married (including common law)      T2      N3        IIIC   \n",
       "1  Married (including common law)      T2      N2        IIIA   \n",
       "2  Married (including common law)      T2      N1         IIB   \n",
       "3                        Divorced      T1      N1         IIA   \n",
       "4  Married (including common law)      T2      N2        IIIA   \n",
       "\n",
       "                                 Grade   A_Stage  Tumor_Size Estrogen_Status  \\\n",
       "0  Moderately differentiated; Grade II  Regional          40        Positive   \n",
       "1  Moderately differentiated; Grade II  Regional          45        Positive   \n",
       "2     Poorly differentiated; Grade III  Regional          25        Positive   \n",
       "3  Moderately differentiated; Grade II  Regional          19        Positive   \n",
       "4  Moderately differentiated; Grade II  Regional          35        Positive   \n",
       "\n",
       "  Progesterone_Status  Regional_Node_Examined  Regional_Node_Positive  \\\n",
       "0            Positive                      19                      11   \n",
       "1            Positive                      25                       9   \n",
       "2            Positive                       4                       1   \n",
       "3            Positive                      26                       1   \n",
       "4            Positive                      21                       5   \n",
       "\n",
       "   Survival_Month Status  \n",
       "0               1  Alive  \n",
       "1               2  Alive  \n",
       "2               2   Dead  \n",
       "3               2   Dead  \n",
       "4               3   Dead  "
      ]
     },
     "execution_count": 7,
     "metadata": {},
     "output_type": "execute_result"
    }
   ],
   "source": [
    "df.head()"
   ]
  },
  {
   "cell_type": "code",
   "execution_count": 8,
   "id": "c5528b15",
   "metadata": {},
   "outputs": [
    {
     "name": "stdout",
     "output_type": "stream",
     "text": [
      "<class 'pandas.core.frame.DataFrame'>\n",
      "RangeIndex: 4024 entries, 0 to 4023\n",
      "Data columns (total 15 columns):\n",
      " #   Column                  Non-Null Count  Dtype \n",
      "---  ------                  --------------  ----- \n",
      " 0   Age                     4024 non-null   int64 \n",
      " 1   Race                    4024 non-null   object\n",
      " 2   Marital_Status          4024 non-null   object\n",
      " 3   T_Stage                 4024 non-null   object\n",
      " 4   N_Stage                 4024 non-null   object\n",
      " 5   Sixth_Stage             4024 non-null   object\n",
      " 6   Grade                   4024 non-null   object\n",
      " 7   A_Stage                 4024 non-null   object\n",
      " 8   Tumor_Size              4024 non-null   int64 \n",
      " 9   Estrogen_Status         4024 non-null   object\n",
      " 10  Progesterone_Status     4024 non-null   object\n",
      " 11  Regional_Node_Examined  4024 non-null   int64 \n",
      " 12  Regional_Node_Positive  4024 non-null   int64 \n",
      " 13  Survival_Month          4024 non-null   int64 \n",
      " 14  Status                  4024 non-null   object\n",
      "dtypes: int64(5), object(10)\n",
      "memory usage: 471.7+ KB\n"
     ]
    }
   ],
   "source": [
    "df.info()"
   ]
  },
  {
   "cell_type": "markdown",
   "id": "dcbfb5ff",
   "metadata": {},
   "source": [
    "## 数据预处理"
   ]
  },
  {
   "cell_type": "code",
   "execution_count": 9,
   "id": "2e85de9f",
   "metadata": {},
   "outputs": [
    {
     "name": "stdout",
     "output_type": "stream",
     "text": [
      "Column name:Race\n",
      "value:['Other (American Indian/AK Native, Asian/Pacific Islander)', 'White', 'Black']\n",
      "\n",
      "Column name:Marital_Status\n",
      "value:['Married (including common law)', 'Divorced', 'Single (never married)', 'Widowed', 'Separated']\n",
      "\n",
      "Column name:T_Stage\n",
      "value:['T2', 'T1', 'T3', 'T4']\n",
      "\n",
      "Column name:N_Stage\n",
      "value:['N3', 'N2', 'N1']\n",
      "\n",
      "Column name:Sixth_Stage\n",
      "value:['IIIC', 'IIIA', 'IIB', 'IIA', 'IIIB']\n",
      "\n",
      "Column name:Grade\n",
      "value:['Moderately differentiated; Grade II', 'Poorly differentiated; Grade III', 'Well differentiated; Grade I', 'Undifferentiated; anaplastic; Grade IV']\n",
      "\n",
      "Column name:A_Stage\n",
      "value:['Regional', 'Distant']\n",
      "\n",
      "Column name:Estrogen_Status\n",
      "value:['Positive', 'Negative']\n",
      "\n",
      "Column name:Progesterone_Status\n",
      "value:['Positive', 'Negative']\n",
      "\n",
      "Column name:Status\n",
      "value:['Alive', 'Dead']\n",
      "\n"
     ]
    }
   ],
   "source": [
    "for name in df.columns.values:\n",
    "    if df[name].dtype==object:\n",
    "        print(f'Column name:{name}')\n",
    "        print(f'value:{df[name].unique().tolist()}\\n')"
   ]
  },
  {
   "cell_type": "code",
   "execution_count": 10,
   "id": "e011aef6",
   "metadata": {
    "scrolled": true
   },
   "outputs": [
    {
     "data": {
      "text/plain": [
       "0       0\n",
       "1       0\n",
       "2       1\n",
       "3       1\n",
       "4       1\n",
       "       ..\n",
       "4019    1\n",
       "4020    1\n",
       "4021    1\n",
       "4022    0\n",
       "4023    1\n",
       "Name: Race, Length: 4024, dtype: uint16"
      ]
     },
     "execution_count": 10,
     "metadata": {},
     "output_type": "execute_result"
    }
   ],
   "source": [
    "# 1. 对Race进行预处理\n",
    "# Race：Other (American Indian/AK Native, Asian/Pacific Islander), White, Black\n",
    "# 将Race编码为数字\n",
    "df['Race']=pd.factorize(df['Race'])[0].astype(np.uint16)\n",
    "df['Race']"
   ]
  },
  {
   "cell_type": "code",
   "execution_count": 11,
   "id": "029996e9",
   "metadata": {},
   "outputs": [
    {
     "data": {
      "text/plain": [
       "0       0\n",
       "1       0\n",
       "2       0\n",
       "3       1\n",
       "4       0\n",
       "       ..\n",
       "4019    0\n",
       "4020    0\n",
       "4021    1\n",
       "4022    0\n",
       "4023    1\n",
       "Name: Marital_Status, Length: 4024, dtype: uint16"
      ]
     },
     "execution_count": 11,
     "metadata": {},
     "output_type": "execute_result"
    }
   ],
   "source": [
    "# 2. 对Marital Status进行预处理\n",
    "df['Marital_Status']=pd.factorize(df['Marital_Status'])[0].astype(np.uint16)\n",
    "df['Marital_Status']"
   ]
  },
  {
   "cell_type": "code",
   "execution_count": 12,
   "id": "bcda0be5",
   "metadata": {},
   "outputs": [
    {
     "data": {
      "text/plain": [
       "0       0\n",
       "1       0\n",
       "2       0\n",
       "3       0\n",
       "4       0\n",
       "       ..\n",
       "4019    0\n",
       "4020    0\n",
       "4021    0\n",
       "4022    0\n",
       "4023    0\n",
       "Name: A_Stage, Length: 4024, dtype: uint16"
      ]
     },
     "execution_count": 12,
     "metadata": {},
     "output_type": "execute_result"
    }
   ],
   "source": [
    "# 3. 对A_Stage进行预处理\n",
    "df['A_Stage']=pd.factorize(df['A_Stage'])[0].astype(np.uint16)\n",
    "df['A_Stage']"
   ]
  },
  {
   "cell_type": "code",
   "execution_count": 13,
   "id": "abed26be",
   "metadata": {},
   "outputs": [
    {
     "data": {
      "text/plain": [
       "0       2\n",
       "1       2\n",
       "2       2\n",
       "3       1\n",
       "4       2\n",
       "       ..\n",
       "4019    1\n",
       "4020    1\n",
       "4021    1\n",
       "4022    1\n",
       "4023    1\n",
       "Name: T_Stage, Length: 4024, dtype: int64"
      ]
     },
     "execution_count": 13,
     "metadata": {},
     "output_type": "execute_result"
    }
   ],
   "source": [
    "# 4. 对T_Stage进行预处理\n",
    "df['T_Stage']=df['T_Stage'].map({'T1':1,'T2':2,'T3':3,'T4':4})\n",
    "df['T_Stage']"
   ]
  },
  {
   "cell_type": "code",
   "execution_count": 14,
   "id": "82fe2a00",
   "metadata": {},
   "outputs": [
    {
     "data": {
      "text/plain": [
       "0       4\n",
       "1       2\n",
       "2       1\n",
       "3       0\n",
       "4       2\n",
       "       ..\n",
       "4019    0\n",
       "4020    2\n",
       "4021    0\n",
       "4022    0\n",
       "4023    0\n",
       "Name: Sixth_Stage, Length: 4024, dtype: int64"
      ]
     },
     "execution_count": 14,
     "metadata": {},
     "output_type": "execute_result"
    }
   ],
   "source": [
    "# 5. 对Sixth_Stage进行预处理\n",
    "df['Sixth_Stage']=df['Sixth_Stage'].map({'IIA':0,'IIB':1,'IIIA':2,'IIIB':3,'IIIC':4})\n",
    "df['Sixth_Stage']"
   ]
  },
  {
   "cell_type": "code",
   "execution_count": 15,
   "id": "a16f5141",
   "metadata": {},
   "outputs": [
    {
     "data": {
      "text/plain": [
       "0       1\n",
       "1       1\n",
       "2       2\n",
       "3       1\n",
       "4       1\n",
       "       ..\n",
       "4019    0\n",
       "4020    2\n",
       "4021    1\n",
       "4022    1\n",
       "4023    1\n",
       "Name: Grade, Length: 4024, dtype: int64"
      ]
     },
     "execution_count": 15,
     "metadata": {},
     "output_type": "execute_result"
    }
   ],
   "source": [
    "# 6. 对Grade进行预处理\n",
    "df['Grade']=df['Grade'].map({'Well differentiated; Grade I':0,\n",
    "                            'Moderately differentiated; Grade II':1,\n",
    "                            'Poorly differentiated; Grade III':2,\n",
    "                            'Undifferentiated; anaplastic; Grade IV':3})\n",
    "df['Grade']"
   ]
  },
  {
   "cell_type": "code",
   "execution_count": 16,
   "id": "fb8cfd7a",
   "metadata": {},
   "outputs": [
    {
     "data": {
      "text/plain": [
       "0       0\n",
       "1       0\n",
       "2       0\n",
       "3       0\n",
       "4       0\n",
       "       ..\n",
       "4019    0\n",
       "4020    1\n",
       "4021    1\n",
       "4022    0\n",
       "4023    0\n",
       "Name: Estrogen_Status, Length: 4024, dtype: int64"
      ]
     },
     "execution_count": 16,
     "metadata": {},
     "output_type": "execute_result"
    }
   ],
   "source": [
    "# 7. 对Estrogen_Status进行预处理\n",
    "df['Estrogen_Status']=df['Estrogen_Status'].map({'Positive':0,'Negative':1})\n",
    "df['Estrogen_Status']"
   ]
  },
  {
   "cell_type": "code",
   "execution_count": 17,
   "id": "f9a073a3",
   "metadata": {},
   "outputs": [
    {
     "data": {
      "text/plain": [
       "0       0\n",
       "1       0\n",
       "2       0\n",
       "3       0\n",
       "4       0\n",
       "       ..\n",
       "4019    0\n",
       "4020    1\n",
       "4021    1\n",
       "4022    0\n",
       "4023    0\n",
       "Name: Progesterone_Status, Length: 4024, dtype: int64"
      ]
     },
     "execution_count": 17,
     "metadata": {},
     "output_type": "execute_result"
    }
   ],
   "source": [
    "# 8. 对Progesterone_Status进行预处理\n",
    "df['Progesterone_Status']=df['Progesterone_Status'].map({'Positive':0,'Negative':1})\n",
    "df['Progesterone_Status']"
   ]
  },
  {
   "cell_type": "code",
   "execution_count": 18,
   "id": "1c27c828",
   "metadata": {},
   "outputs": [
    {
     "data": {
      "text/plain": [
       "0       0\n",
       "1       0\n",
       "2       1\n",
       "3       1\n",
       "4       1\n",
       "       ..\n",
       "4019    0\n",
       "4020    0\n",
       "4021    0\n",
       "4022    0\n",
       "4023    0\n",
       "Name: Status, Length: 4024, dtype: int64"
      ]
     },
     "execution_count": 18,
     "metadata": {},
     "output_type": "execute_result"
    }
   ],
   "source": [
    "# 9. 对Status进行预处理\n",
    "df['Status']=df['Status'].map({'Alive':0,'Dead':1})\n",
    "df['Status']"
   ]
  },
  {
   "cell_type": "code",
   "execution_count": 19,
   "id": "4cdb9fa4",
   "metadata": {},
   "outputs": [
    {
     "data": {
      "text/plain": [
       "0       2\n",
       "1       1\n",
       "2       0\n",
       "3       0\n",
       "4       1\n",
       "       ..\n",
       "4019    0\n",
       "4020    1\n",
       "4021    0\n",
       "4022    0\n",
       "4023    0\n",
       "Name: N_Stage, Length: 4024, dtype: int64"
      ]
     },
     "execution_count": 19,
     "metadata": {},
     "output_type": "execute_result"
    }
   ],
   "source": [
    "# 10. 对N_Stage进行预处理\n",
    "df['N_Stage']=df['N_Stage'].map({'N1':0,'N2':1,'N3':2})\n",
    "df['N_Stage']"
   ]
  },
  {
   "cell_type": "code",
   "execution_count": 20,
   "id": "9b874c35",
   "metadata": {},
   "outputs": [
    {
     "data": {
      "text/html": [
       "<div>\n",
       "<style scoped>\n",
       "    .dataframe tbody tr th:only-of-type {\n",
       "        vertical-align: middle;\n",
       "    }\n",
       "\n",
       "    .dataframe tbody tr th {\n",
       "        vertical-align: top;\n",
       "    }\n",
       "\n",
       "    .dataframe thead th {\n",
       "        text-align: right;\n",
       "    }\n",
       "</style>\n",
       "<table border=\"1\" class=\"dataframe\">\n",
       "  <thead>\n",
       "    <tr style=\"text-align: right;\">\n",
       "      <th></th>\n",
       "      <th>Age</th>\n",
       "      <th>Race</th>\n",
       "      <th>Marital_Status</th>\n",
       "      <th>T_Stage</th>\n",
       "      <th>N_Stage</th>\n",
       "      <th>Sixth_Stage</th>\n",
       "      <th>Grade</th>\n",
       "      <th>A_Stage</th>\n",
       "      <th>Tumor_Size</th>\n",
       "      <th>Estrogen_Status</th>\n",
       "      <th>Progesterone_Status</th>\n",
       "      <th>Regional_Node_Examined</th>\n",
       "      <th>Regional_Node_Positive</th>\n",
       "      <th>Survival_Month</th>\n",
       "      <th>Status</th>\n",
       "    </tr>\n",
       "  </thead>\n",
       "  <tbody>\n",
       "    <tr>\n",
       "      <th>0</th>\n",
       "      <td>43</td>\n",
       "      <td>0</td>\n",
       "      <td>0</td>\n",
       "      <td>2</td>\n",
       "      <td>2</td>\n",
       "      <td>4</td>\n",
       "      <td>1</td>\n",
       "      <td>0</td>\n",
       "      <td>40</td>\n",
       "      <td>0</td>\n",
       "      <td>0</td>\n",
       "      <td>19</td>\n",
       "      <td>11</td>\n",
       "      <td>1</td>\n",
       "      <td>0</td>\n",
       "    </tr>\n",
       "    <tr>\n",
       "      <th>1</th>\n",
       "      <td>47</td>\n",
       "      <td>0</td>\n",
       "      <td>0</td>\n",
       "      <td>2</td>\n",
       "      <td>1</td>\n",
       "      <td>2</td>\n",
       "      <td>1</td>\n",
       "      <td>0</td>\n",
       "      <td>45</td>\n",
       "      <td>0</td>\n",
       "      <td>0</td>\n",
       "      <td>25</td>\n",
       "      <td>9</td>\n",
       "      <td>2</td>\n",
       "      <td>0</td>\n",
       "    </tr>\n",
       "    <tr>\n",
       "      <th>2</th>\n",
       "      <td>67</td>\n",
       "      <td>1</td>\n",
       "      <td>0</td>\n",
       "      <td>2</td>\n",
       "      <td>0</td>\n",
       "      <td>1</td>\n",
       "      <td>2</td>\n",
       "      <td>0</td>\n",
       "      <td>25</td>\n",
       "      <td>0</td>\n",
       "      <td>0</td>\n",
       "      <td>4</td>\n",
       "      <td>1</td>\n",
       "      <td>2</td>\n",
       "      <td>1</td>\n",
       "    </tr>\n",
       "    <tr>\n",
       "      <th>3</th>\n",
       "      <td>46</td>\n",
       "      <td>1</td>\n",
       "      <td>1</td>\n",
       "      <td>1</td>\n",
       "      <td>0</td>\n",
       "      <td>0</td>\n",
       "      <td>1</td>\n",
       "      <td>0</td>\n",
       "      <td>19</td>\n",
       "      <td>0</td>\n",
       "      <td>0</td>\n",
       "      <td>26</td>\n",
       "      <td>1</td>\n",
       "      <td>2</td>\n",
       "      <td>1</td>\n",
       "    </tr>\n",
       "    <tr>\n",
       "      <th>4</th>\n",
       "      <td>63</td>\n",
       "      <td>1</td>\n",
       "      <td>0</td>\n",
       "      <td>2</td>\n",
       "      <td>1</td>\n",
       "      <td>2</td>\n",
       "      <td>1</td>\n",
       "      <td>0</td>\n",
       "      <td>35</td>\n",
       "      <td>0</td>\n",
       "      <td>0</td>\n",
       "      <td>21</td>\n",
       "      <td>5</td>\n",
       "      <td>3</td>\n",
       "      <td>1</td>\n",
       "    </tr>\n",
       "  </tbody>\n",
       "</table>\n",
       "</div>"
      ],
      "text/plain": [
       "   Age  Race  Marital_Status  T_Stage  N_Stage  Sixth_Stage  Grade  A_Stage  \\\n",
       "0   43     0               0        2        2            4      1        0   \n",
       "1   47     0               0        2        1            2      1        0   \n",
       "2   67     1               0        2        0            1      2        0   \n",
       "3   46     1               1        1        0            0      1        0   \n",
       "4   63     1               0        2        1            2      1        0   \n",
       "\n",
       "   Tumor_Size  Estrogen_Status  Progesterone_Status  Regional_Node_Examined  \\\n",
       "0          40                0                    0                      19   \n",
       "1          45                0                    0                      25   \n",
       "2          25                0                    0                       4   \n",
       "3          19                0                    0                      26   \n",
       "4          35                0                    0                      21   \n",
       "\n",
       "   Regional_Node_Positive  Survival_Month  Status  \n",
       "0                      11               1       0  \n",
       "1                       9               2       0  \n",
       "2                       1               2       1  \n",
       "3                       1               2       1  \n",
       "4                       5               3       1  "
      ]
     },
     "execution_count": 20,
     "metadata": {},
     "output_type": "execute_result"
    }
   ],
   "source": [
    "df.head()"
   ]
  },
  {
   "cell_type": "markdown",
   "id": "8687de51",
   "metadata": {},
   "source": [
    "## 数据分析"
   ]
  },
  {
   "cell_type": "code",
   "execution_count": 21,
   "id": "81f85b42",
   "metadata": {},
   "outputs": [
    {
     "name": "stdout",
     "output_type": "stream",
     "text": [
      "4024\n"
     ]
    }
   ],
   "source": [
    "print(len(df))"
   ]
  },
  {
   "cell_type": "code",
   "execution_count": 22,
   "id": "a249c862",
   "metadata": {},
   "outputs": [
    {
     "name": "stdout",
     "output_type": "stream",
     "text": [
      "Status\n",
      "0    3408\n",
      "1     616\n",
      "Name: count, dtype: int64\n"
     ]
    }
   ],
   "source": [
    "print(df['Status'].value_counts())"
   ]
  },
  {
   "cell_type": "markdown",
   "id": "8f20839f",
   "metadata": {},
   "source": [
    "### 1. 不同原发肿瘤分期人数的柱状分布图"
   ]
  },
  {
   "cell_type": "code",
   "execution_count": 23,
   "id": "7612ff66",
   "metadata": {},
   "outputs": [
    {
     "data": {
      "text/plain": [
       "<AxesSubplot:xlabel='T_Stage', ylabel='count'>"
      ]
     },
     "execution_count": 23,
     "metadata": {},
     "output_type": "execute_result"
    },
    {
     "data": {
      "image/png": "[encoded data removed]",
      "text/plain": [
       "<Figure size 432x288 with 1 Axes>"
      ]
     },
     "metadata": {
      "needs_background": "light"
     },
     "output_type": "display_data"
    }
   ],
   "source": [
    "sns.countplot(x='T_Stage',hue='Status',data=df)"
   ]
  },
  {
   "cell_type": "markdown",
   "id": "531db3e1",
   "metadata": {},
   "source": [
    "### 2. 不同淋巴结转移情况人数的柱状分布图（删失人数和死亡人数）"
   ]
  },
  {
   "cell_type": "code",
   "execution_count": 24,
   "id": "38e1bbc9",
   "metadata": {},
   "outputs": [
    {
     "data": {
      "text/plain": [
       "<AxesSubplot:xlabel='N_Stage', ylabel='count'>"
      ]
     },
     "execution_count": 24,
     "metadata": {},
     "output_type": "execute_result"
    },
    {
     "data": {
      "image/png": "[encoded data removed]",
      "text/plain": [
       "<Figure size 432x288 with 1 Axes>"
      ]
     },
     "metadata": {
      "needs_background": "light"
     },
     "output_type": "display_data"
    }
   ],
   "source": [
    "sns.countplot(x='N_Stage',hue='Status',data=df)"
   ]
  },
  {
   "cell_type": "markdown",
   "id": "6d3271fe",
   "metadata": {},
   "source": [
    "### 3. 不同年龄人数的箱线图"
   ]
  },
  {
   "cell_type": "code",
   "execution_count": 25,
   "id": "dd353483",
   "metadata": {},
   "outputs": [
    {
     "data": {
      "text/plain": [
       "[Text(1, 0, 'censor'), Text(2, 0, 'death')]"
      ]
     },
     "execution_count": 25,
     "metadata": {},
     "output_type": "execute_result"
    },
    {
     "data": {
      "image/png": "[encoded data removed]",
      "text/plain": [
       "<Figure size 432x432 with 1 Axes>"
      ]
     },
     "metadata": {
      "needs_background": "light"
     },
     "output_type": "display_data"
    }
   ],
   "source": [
    "ax=df.boxplot(column='Age',by='Status',figsize=(6,6))\n",
    "ax.set_xticklabels(['censor','death'])\n",
    "#death组的年龄中位数为censor组高一点"
   ]
  },
  {
   "cell_type": "markdown",
   "id": "ff5adcee",
   "metadata": {},
   "source": [
    "### 4. 绘制生命周期图"
   ]
  },
  {
   "cell_type": "code",
   "execution_count": 26,
   "id": "3bccf030",
   "metadata": {},
   "outputs": [],
   "source": [
    "#从数据集中随机挑选30例患者，绘制生命周期图\n",
    "from lifelines.plotting import plot_lifetimes\n",
    "df_sample=df.sample(n=30,random_state=10)"
   ]
  },
  {
   "cell_type": "code",
   "execution_count": 27,
   "id": "23bd9b6e",
   "metadata": {},
   "outputs": [
    {
     "name": "stderr",
     "output_type": "stream",
     "text": [
      "/Users/linjiaxi/Anaconda/anaconda3/lib/python3.9/site-packages/lifelines/plotting.py:773: UserWarning: For less visual clutter, you may want to subsample to less than 25 individuals.\n",
      "  warnings.warn(\n"
     ]
    },
    {
     "data": {
      "text/plain": [
       "Text(0.5, 0, 'Months')"
      ]
     },
     "execution_count": 27,
     "metadata": {},
     "output_type": "execute_result"
    },
    {
     "data": {
      "image/png": "[encoded data removed]",
      "text/plain": [
       "<Figure size 576x432 with 1 Axes>"
      ]
     },
     "metadata": {
      "needs_background": "light"
     },
     "output_type": "display_data"
    }
   ],
   "source": [
    "df_sample['Status']=np.where(df_sample['Status']==1,True,False)\n",
    "plt.figure(figsize=[8,6])\n",
    "ax=plot_lifetimes(df_sample['Survival_Month'],event_observed=df_sample['Status'],sort_by_duration=False)\n",
    "ax.vlines(96,0,30,lw=2,linestyles='--',colors='black')\n",
    "plt.xlabel('Months')"
   ]
  },
  {
   "cell_type": "markdown",
   "id": "58cfa512",
   "metadata": {},
   "source": [
    "观测时间的定位为96个月，在96个月中，有5位患者发生死亡时间，其余患者大多数还没到96个月就失去了联系/无法随访到患者（属于删失数据）<br>\n",
    "Eg: 图片中1347号患者，在随访到第62个月，患者就失去了联系，并不知道患者的实际存活时间<br>\n",
    "结论：无论不结合删失数据，单独计算发生失效事件的患者的平均存活时间，还是结合删失数据一起计算患者的平均存活时间，这样计算都是要低估了真实的存活时间"
   ]
  },
  {
   "cell_type": "markdown",
   "id": "304658dd",
   "metadata": {},
   "source": [
    "## 生存分析"
   ]
  },
  {
   "cell_type": "markdown",
   "id": "863ea5bb",
   "metadata": {},
   "source": [
    "### 1. 绘制寿命表，计算生存率并绘制生存曲线"
   ]
  },
  {
   "cell_type": "code",
   "execution_count": 28,
   "id": "9b63f9cd",
   "metadata": {},
   "outputs": [
    {
     "data": {
      "text/html": [
       "<div>\n",
       "<style scoped>\n",
       "    .dataframe tbody tr th:only-of-type {\n",
       "        vertical-align: middle;\n",
       "    }\n",
       "\n",
       "    .dataframe tbody tr th {\n",
       "        vertical-align: top;\n",
       "    }\n",
       "\n",
       "    .dataframe thead th {\n",
       "        text-align: right;\n",
       "    }\n",
       "</style>\n",
       "<table border=\"1\" class=\"dataframe\">\n",
       "  <thead>\n",
       "    <tr style=\"text-align: right;\">\n",
       "      <th></th>\n",
       "      <th>removed</th>\n",
       "      <th>observed</th>\n",
       "      <th>censored</th>\n",
       "      <th>entrance</th>\n",
       "      <th>at_risk</th>\n",
       "    </tr>\n",
       "    <tr>\n",
       "      <th>event_at</th>\n",
       "      <th></th>\n",
       "      <th></th>\n",
       "      <th></th>\n",
       "      <th></th>\n",
       "      <th></th>\n",
       "    </tr>\n",
       "  </thead>\n",
       "  <tbody>\n",
       "    <tr>\n",
       "      <th>0.0</th>\n",
       "      <td>0</td>\n",
       "      <td>0</td>\n",
       "      <td>0</td>\n",
       "      <td>4024</td>\n",
       "      <td>4024</td>\n",
       "    </tr>\n",
       "    <tr>\n",
       "      <th>1.0</th>\n",
       "      <td>71</td>\n",
       "      <td>47</td>\n",
       "      <td>24</td>\n",
       "      <td>0</td>\n",
       "      <td>4024</td>\n",
       "    </tr>\n",
       "    <tr>\n",
       "      <th>2.0</th>\n",
       "      <td>114</td>\n",
       "      <td>88</td>\n",
       "      <td>26</td>\n",
       "      <td>0</td>\n",
       "      <td>3953</td>\n",
       "    </tr>\n",
       "    <tr>\n",
       "      <th>3.0</th>\n",
       "      <td>117</td>\n",
       "      <td>100</td>\n",
       "      <td>17</td>\n",
       "      <td>0</td>\n",
       "      <td>3839</td>\n",
       "    </tr>\n",
       "    <tr>\n",
       "      <th>4.0</th>\n",
       "      <td>225</td>\n",
       "      <td>118</td>\n",
       "      <td>107</td>\n",
       "      <td>0</td>\n",
       "      <td>3722</td>\n",
       "    </tr>\n",
       "    <tr>\n",
       "      <th>5.0</th>\n",
       "      <td>739</td>\n",
       "      <td>105</td>\n",
       "      <td>634</td>\n",
       "      <td>0</td>\n",
       "      <td>3497</td>\n",
       "    </tr>\n",
       "    <tr>\n",
       "      <th>6.0</th>\n",
       "      <td>725</td>\n",
       "      <td>60</td>\n",
       "      <td>665</td>\n",
       "      <td>0</td>\n",
       "      <td>2758</td>\n",
       "    </tr>\n",
       "    <tr>\n",
       "      <th>7.0</th>\n",
       "      <td>731</td>\n",
       "      <td>54</td>\n",
       "      <td>677</td>\n",
       "      <td>0</td>\n",
       "      <td>2033</td>\n",
       "    </tr>\n",
       "    <tr>\n",
       "      <th>8.0</th>\n",
       "      <td>674</td>\n",
       "      <td>33</td>\n",
       "      <td>641</td>\n",
       "      <td>0</td>\n",
       "      <td>1302</td>\n",
       "    </tr>\n",
       "    <tr>\n",
       "      <th>9.0</th>\n",
       "      <td>628</td>\n",
       "      <td>11</td>\n",
       "      <td>617</td>\n",
       "      <td>0</td>\n",
       "      <td>628</td>\n",
       "    </tr>\n",
       "  </tbody>\n",
       "</table>\n",
       "</div>"
      ],
      "text/plain": [
       "          removed  observed  censored  entrance  at_risk\n",
       "event_at                                                \n",
       "0.0             0         0         0      4024     4024\n",
       "1.0            71        47        24         0     4024\n",
       "2.0           114        88        26         0     3953\n",
       "3.0           117       100        17         0     3839\n",
       "4.0           225       118       107         0     3722\n",
       "5.0           739       105       634         0     3497\n",
       "6.0           725        60       665         0     2758\n",
       "7.0           731        54       677         0     2033\n",
       "8.0           674        33       641         0     1302\n",
       "9.0           628        11       617         0      628"
      ]
     },
     "execution_count": 28,
     "metadata": {},
     "output_type": "execute_result"
    }
   ],
   "source": [
    "from lifelines.utils import survival_table_from_events\n",
    "\n",
    "def months_to_year(x):\n",
    "    if x%12==0:\n",
    "        return x/12\n",
    "    else:\n",
    "        return int(x/12)+1\n",
    "df['year']=df['Survival_Month'].map(months_to_year)\n",
    "T=df['year']\n",
    "E=df['Status']\n",
    "survival_table_from_events(T,E,columns=['removed','observed','censored','entrance','at_risk'])"
   ]
  },
  {
   "cell_type": "code",
   "execution_count": 29,
   "id": "9e7b5023",
   "metadata": {},
   "outputs": [
    {
     "data": {
      "image/png": "[encoded data removed]",
      "text/plain": [
       "<Figure size 576x576 with 1 Axes>"
      ]
     },
     "metadata": {
      "needs_background": "light"
     },
     "output_type": "display_data"
    }
   ],
   "source": [
    "#通过计算出的生存率绘制生存曲线\n",
    "x=[0,1,2,3,4,5,6,7,8,9]\n",
    "y=[1,0.9883,0.9663,0.941,0.911,0.881,0.858,0.8313,0.803,0.776]\n",
    "plt.figure(figsize=(8,8))\n",
    "plt.title('Survival Curve')\n",
    "plt.step(x,y,color='#8dd3c7',where='pre',lw=2)\n",
    "plt.xlim(0,9)\n",
    "plt.ylim(0.7,1)\n",
    "plt.xlabel(\"year\")\n",
    "plt.ylabel(\"S(t)\")\n",
    "plt.show()"
   ]
  },
  {
   "cell_type": "markdown",
   "id": "e4a5e1b4",
   "metadata": {},
   "source": [
    "### 2. Kaplan-Meier法"
   ]
  },
  {
   "cell_type": "markdown",
   "id": "48b94f6a",
   "metadata": {},
   "source": [
    "生存率S(t)，当t=3时，意思研究对象活过3年时的生存率，是对象活过2年时的前提下计算活过3年的生存率，而知道活过2年的生存率，是研究对象活过1年的前提下计算出来。<br>\n",
    "S(t=3) = P1 * P2 * P3 ,P是每一年的生存概率"
   ]
  },
  {
   "cell_type": "markdown",
   "id": "b8b8441d",
   "metadata": {},
   "source": [
    "#### （1）绘制生存曲线"
   ]
  },
  {
   "cell_type": "code",
   "execution_count": 30,
   "id": "cb5c49dc",
   "metadata": {},
   "outputs": [
    {
     "name": "stdout",
     "output_type": "stream",
     "text": [
      "生成概率：\n",
      "          KM_estimate\n",
      "timeline             \n",
      "0.0          1.000000\n",
      "1.0          1.000000\n",
      "2.0          0.999503\n",
      "3.0          0.999006\n",
      "4.0          0.996767\n",
      "...               ...\n",
      "103.0        0.785709\n",
      "104.0        0.785709\n",
      "105.0        0.785709\n",
      "106.0        0.785709\n",
      "107.0        0.785709\n",
      "\n",
      "[108 rows x 1 columns]\n",
      "中间存活概率=0.5时的，95%区间\n",
      "     KM_estimate_lower_0.95  KM_estimate_upper_0.95\n",
      "0.5                     inf                     inf\n"
     ]
    },
    {
     "data": {
      "text/plain": [
       "<AxesSubplot:xlabel='timeline'>"
      ]
     },
     "execution_count": 30,
     "metadata": {},
     "output_type": "execute_result"
    },
    {
     "data": {
      "image/png": "[encoded data removed]",
      "text/plain": [
       "<Figure size 720x720 with 2 Axes>"
      ]
     },
     "metadata": {
      "needs_background": "light"
     },
     "output_type": "display_data"
    }
   ],
   "source": [
    "from lifelines import KaplanMeierFitter\n",
    "from lifelines.utils import median_survival_times\n",
    "\n",
    "#使用 KaplanMeierFitter() 创建了一个KaplanMeierFitter对象 kmf\n",
    "kmf = KaplanMeierFitter()\n",
    "\n",
    "#拟合生存数据：传入生存时间和事件发生指示作为参数，对乳腺癌数据进行拟合\n",
    "kmf.fit(durations=df['Survival_Month'],\n",
    "       event_observed=df['Status']) \n",
    "print(\"生成概率：\")\n",
    "print(kmf.survival_function_)\n",
    "print(\"中间存活概率=0.5时的，95%区间\") \n",
    "\n",
    "#计算中位生存时间：计算了中位生存时间的95%置信区间\n",
    "median_confidence_interval = median_survival_times(kmf.confidence_interval_)\n",
    "print(median_confidence_interval)  #因为在研究期间生存概率没有低于0.5，所以没有中间生存概率对应的时间\n",
    "plt.figure(figsize=[10,10])\n",
    "\n",
    "#绘制生存曲线：使用 kmf.plot_survival_function() 方法绘制了生存曲线，并设置了参数 at_risk_counts=True，以显示每个时间点的风险计数。\n",
    "kmf.plot_survival_function(at_risk_counts=True)#show_censors =True  是否显示删失 ，at_risk_counts=True 是否显示风险计数"
   ]
  },
  {
   "cell_type": "markdown",
   "id": "13e500fc",
   "metadata": {},
   "source": [
    "结论：<br>\n",
    "1. 生成概率<br>\n",
    "给定不同的时间点（timeline），生存函数估计值（KM_estimate）表示在该时间点之前仍然存活的概率。<br>\n",
    "例如，当时间为0时，生存概率为1.0，表示所有患者在入组时均存活；随着时间的推移，患者的生存概率逐渐下降，直到某个时间点患者的生存概率为0.785709，表示在该时间点后，大约有78.57%的患者存活。<br>\n",
    "即：随着时间的推移，患者的生存概率在逐渐下降。<br>\n",
    "2. 中间存活概率=0.5时，95%区间：<br>\n",
    "由于生存概率没有低于0.5，因此在研究期间没有中间生存概率对应的时间，因此区间的下限和上限都是正无穷（inf）\n",
    "即：在研究期间没有观察到生存概率低于0.5的情况<br>"
   ]
  },
  {
   "cell_type": "code",
   "execution_count": 31,
   "id": "446d5f34",
   "metadata": {},
   "outputs": [
    {
     "data": {
      "text/html": [
       "<div>\n",
       "<style scoped>\n",
       "    .dataframe tbody tr th:only-of-type {\n",
       "        vertical-align: middle;\n",
       "    }\n",
       "\n",
       "    .dataframe tbody tr th {\n",
       "        vertical-align: top;\n",
       "    }\n",
       "\n",
       "    .dataframe thead th {\n",
       "        text-align: right;\n",
       "    }\n",
       "</style>\n",
       "<table border=\"1\" class=\"dataframe\">\n",
       "  <thead>\n",
       "    <tr style=\"text-align: right;\">\n",
       "      <th></th>\n",
       "      <th>removed</th>\n",
       "      <th>observed</th>\n",
       "      <th>censored</th>\n",
       "      <th>entrance</th>\n",
       "      <th>at_risk</th>\n",
       "      <th>KM_estimate</th>\n",
       "      <th>KM_estimate_lower_0.95</th>\n",
       "      <th>KM_estimate_upper_0.95</th>\n",
       "    </tr>\n",
       "  </thead>\n",
       "  <tbody>\n",
       "    <tr>\n",
       "      <th>0.0</th>\n",
       "      <td>0</td>\n",
       "      <td>0</td>\n",
       "      <td>0</td>\n",
       "      <td>4024</td>\n",
       "      <td>4024</td>\n",
       "      <td>1.000000</td>\n",
       "      <td>1.000000</td>\n",
       "      <td>1.000000</td>\n",
       "    </tr>\n",
       "    <tr>\n",
       "      <th>1.0</th>\n",
       "      <td>1</td>\n",
       "      <td>0</td>\n",
       "      <td>1</td>\n",
       "      <td>0</td>\n",
       "      <td>4024</td>\n",
       "      <td>1.000000</td>\n",
       "      <td>1.000000</td>\n",
       "      <td>1.000000</td>\n",
       "    </tr>\n",
       "    <tr>\n",
       "      <th>2.0</th>\n",
       "      <td>3</td>\n",
       "      <td>2</td>\n",
       "      <td>1</td>\n",
       "      <td>0</td>\n",
       "      <td>4023</td>\n",
       "      <td>0.999503</td>\n",
       "      <td>0.998014</td>\n",
       "      <td>0.999876</td>\n",
       "    </tr>\n",
       "    <tr>\n",
       "      <th>3.0</th>\n",
       "      <td>4</td>\n",
       "      <td>2</td>\n",
       "      <td>2</td>\n",
       "      <td>0</td>\n",
       "      <td>4020</td>\n",
       "      <td>0.999006</td>\n",
       "      <td>0.997353</td>\n",
       "      <td>0.999627</td>\n",
       "    </tr>\n",
       "    <tr>\n",
       "      <th>4.0</th>\n",
       "      <td>10</td>\n",
       "      <td>9</td>\n",
       "      <td>1</td>\n",
       "      <td>0</td>\n",
       "      <td>4016</td>\n",
       "      <td>0.996767</td>\n",
       "      <td>0.994438</td>\n",
       "      <td>0.998121</td>\n",
       "    </tr>\n",
       "    <tr>\n",
       "      <th>...</th>\n",
       "      <td>...</td>\n",
       "      <td>...</td>\n",
       "      <td>...</td>\n",
       "      <td>...</td>\n",
       "      <td>...</td>\n",
       "      <td>...</td>\n",
       "      <td>...</td>\n",
       "      <td>...</td>\n",
       "    </tr>\n",
       "    <tr>\n",
       "      <th>103.0</th>\n",
       "      <td>50</td>\n",
       "      <td>0</td>\n",
       "      <td>50</td>\n",
       "      <td>0</td>\n",
       "      <td>251</td>\n",
       "      <td>0.785709</td>\n",
       "      <td>0.765872</td>\n",
       "      <td>0.804086</td>\n",
       "    </tr>\n",
       "    <tr>\n",
       "      <th>104.0</th>\n",
       "      <td>48</td>\n",
       "      <td>0</td>\n",
       "      <td>48</td>\n",
       "      <td>0</td>\n",
       "      <td>201</td>\n",
       "      <td>0.785709</td>\n",
       "      <td>0.765872</td>\n",
       "      <td>0.804086</td>\n",
       "    </tr>\n",
       "    <tr>\n",
       "      <th>105.0</th>\n",
       "      <td>45</td>\n",
       "      <td>0</td>\n",
       "      <td>45</td>\n",
       "      <td>0</td>\n",
       "      <td>153</td>\n",
       "      <td>0.785709</td>\n",
       "      <td>0.765872</td>\n",
       "      <td>0.804086</td>\n",
       "    </tr>\n",
       "    <tr>\n",
       "      <th>106.0</th>\n",
       "      <td>47</td>\n",
       "      <td>0</td>\n",
       "      <td>47</td>\n",
       "      <td>0</td>\n",
       "      <td>108</td>\n",
       "      <td>0.785709</td>\n",
       "      <td>0.765872</td>\n",
       "      <td>0.804086</td>\n",
       "    </tr>\n",
       "    <tr>\n",
       "      <th>107.0</th>\n",
       "      <td>61</td>\n",
       "      <td>0</td>\n",
       "      <td>61</td>\n",
       "      <td>0</td>\n",
       "      <td>61</td>\n",
       "      <td>0.785709</td>\n",
       "      <td>0.765872</td>\n",
       "      <td>0.804086</td>\n",
       "    </tr>\n",
       "  </tbody>\n",
       "</table>\n",
       "<p>108 rows × 8 columns</p>\n",
       "</div>"
      ],
      "text/plain": [
       "       removed  observed  censored  entrance  at_risk  KM_estimate  \\\n",
       "0.0          0         0         0      4024     4024     1.000000   \n",
       "1.0          1         0         1         0     4024     1.000000   \n",
       "2.0          3         2         1         0     4023     0.999503   \n",
       "3.0          4         2         2         0     4020     0.999006   \n",
       "4.0         10         9         1         0     4016     0.996767   \n",
       "...        ...       ...       ...       ...      ...          ...   \n",
       "103.0       50         0        50         0      251     0.785709   \n",
       "104.0       48         0        48         0      201     0.785709   \n",
       "105.0       45         0        45         0      153     0.785709   \n",
       "106.0       47         0        47         0      108     0.785709   \n",
       "107.0       61         0        61         0       61     0.785709   \n",
       "\n",
       "       KM_estimate_lower_0.95  KM_estimate_upper_0.95  \n",
       "0.0                  1.000000                1.000000  \n",
       "1.0                  1.000000                1.000000  \n",
       "2.0                  0.998014                0.999876  \n",
       "3.0                  0.997353                0.999627  \n",
       "4.0                  0.994438                0.998121  \n",
       "...                       ...                     ...  \n",
       "103.0                0.765872                0.804086  \n",
       "104.0                0.765872                0.804086  \n",
       "105.0                0.765872                0.804086  \n",
       "106.0                0.765872                0.804086  \n",
       "107.0                0.765872                0.804086  \n",
       "\n",
       "[108 rows x 8 columns]"
      ]
     },
     "execution_count": 31,
     "metadata": {},
     "output_type": "execute_result"
    }
   ],
   "source": [
    "#打印生存曲线的简短统计内容(寿命表)。包括观察值，事件数，删失数，生存率和其置信区间。\n",
    "pd.concat([kmf.event_table,kmf.survival_function_,kmf.confidence_interval_],axis=1)"
   ]
  },
  {
   "cell_type": "markdown",
   "id": "b6ce3e42",
   "metadata": {},
   "source": [
    "#### （2）对数据进行分组后，进行单因素方差分析"
   ]
  },
  {
   "cell_type": "markdown",
   "id": "62e10e45",
   "metadata": {},
   "source": [
    "#### (2.1) 对T_Stage组别进行分组，观察不同肿瘤大小时期的生存情况"
   ]
  },
  {
   "cell_type": "code",
   "execution_count": 32,
   "id": "0dcdf73a",
   "metadata": {},
   "outputs": [
    {
     "data": {
      "image/png": "[encoded data removed]",
      "text/plain": [
       "<Figure size 576x576 with 1 Axes>"
      ]
     },
     "metadata": {
      "needs_background": "light"
     },
     "output_type": "display_data"
    }
   ],
   "source": [
    "#分析：设置对照组与实验组，比较两组之间的生存差异，\n",
    "#Method1: 通过中位生存时间进行比较\n",
    "#Method2: 指定时间点来计算P值两组曲线是否有显著性差异\n",
    "#Method3: 计算T时间内生存曲线下的面积\n",
    "#Method4: 计算第p百分位生存时间来比较两组之间的生存差异\n",
    "\n",
    "from lifelines import KaplanMeierFitter\n",
    "plt.figure(figsize=(8,8))\n",
    "kmf = KaplanMeierFitter()\n",
    "#对每个T_Stage组别进行生存分析：\n",
    "#对于每个 T_Stage 组别，调用 kmf.fit() 方法，传入该组别的生存时间和事件发生指示作为参数，对该组别的数据进行 Kaplan-Meier 生存分析\n",
    "for name, grouped_df in df.groupby('T_Stage'):\n",
    "    kmf.fit(grouped_df[\"Survival_Month\"], grouped_df[\"Status\"], label=name)\n",
    "    #绘制生存曲线\n",
    "    kmf.plot_survival_function()\n"
   ]
  },
  {
   "cell_type": "markdown",
   "id": "ebc2c7a9",
   "metadata": {},
   "source": [
    "#### (2.2) 对Age组别进行分组，观察不同年龄段的生存情况"
   ]
  },
  {
   "cell_type": "code",
   "execution_count": 39,
   "id": "5c932d34",
   "metadata": {},
   "outputs": [
    {
     "data": {
      "image/png": "[encoded data removed]",
      "text/plain": [
       "<Figure size 576x576 with 1 Axes>"
      ]
     },
     "metadata": {
      "needs_background": "light"
     },
     "output_type": "display_data"
    }
   ],
   "source": [
    "from lifelines import KaplanMeierFitter\n",
    "df['age_'] = pd.cut(df['Age'],[0,40,50,60])\n",
    "plt.figure(figsize=(8,8))\n",
    "kmf = KaplanMeierFitter()\n",
    "\n",
    "#循环遍历不同的年龄段组别：使用 df.groupby('age_') 对 DataFrame 中的数据按照年龄段进行分组，并依次遍历每个分组\n",
    "for name, grouped_df in df.groupby('age_'):\n",
    "    #对每个年龄段组别进行生存分析：对于每个年龄段组别，调用 kmf.fit() 方法，传入该组别的生存时间和事件发生指示作为参数，对该组别的数据进行 Kaplan-Meier 生存分析。\n",
    "    kmf.fit(grouped_df[\"Survival_Month\"], grouped_df[\"Status\"], label=name)\n",
    "    #绘制生存曲线\n",
    "    kmf.plot_survival_function()"
   ]
  },
  {
   "cell_type": "markdown",
   "id": "7cc08584",
   "metadata": {},
   "source": [
    "#### (2.3) 计算不同T_Stage组别的患者的中位生存时间"
   ]
  },
  {
   "cell_type": "code",
   "execution_count": 33,
   "id": "3c24d3c5",
   "metadata": {},
   "outputs": [
    {
     "name": "stdout",
     "output_type": "stream",
     "text": [
      "1组的中位生存时间:inf\n",
      "2组的中位生存时间:inf\n",
      "3组的中位生存时间:inf\n",
      "4组的中位生存时间:inf\n"
     ]
    }
   ],
   "source": [
    "from lifelines.utils import median_survival_times\n",
    "kmf = KaplanMeierFitter()\n",
    "\n",
    "#循环遍历不同的 T_Stage 组别：使用 df.groupby('T_Stage') 对 df 中的数据按照 T_Stage 进行分组，并依次遍历每个分组\n",
    "for name, grouped_df in df.groupby('T_Stage'):\n",
    "    kmf_temp = KaplanMeierFitter().fit(grouped_df[\"Survival_Month\"], grouped_df[\"Status\"])\n",
    "    #计算中位生存时间：使用 median_survival_times() 函数，传入 kmf_temp 对象作为参数，计算该组别的中位生存时间\n",
    "    median = median_survival_times(kmf_temp)\n",
    "    print(f\"{name}组的中位生存时间:{median}\")"
   ]
  },
  {
   "cell_type": "markdown",
   "id": "975a23da",
   "metadata": {},
   "source": [
    "结论：因为这个数据有些组的生存率最后都是大于0.5，因此无法计算中位生存时间，因此显示inf"
   ]
  },
  {
   "cell_type": "markdown",
   "id": "86fd5b4b",
   "metadata": {},
   "source": [
    "#### (2.4) 根据第qth分位数的生存时间，来求对应的生存时间"
   ]
  },
  {
   "cell_type": "code",
   "execution_count": 34,
   "id": "dfc42d15",
   "metadata": {},
   "outputs": [
    {
     "name": "stdout",
     "output_type": "stream",
     "text": [
      "1组的第90.0分位数的生存时间:81.0\n",
      "2组的第90.0分位数的生存时间:49.0\n",
      "3组的第90.0分位数的生存时间:40.0\n",
      "4组的第90.0分位数的生存时间:25.0\n"
     ]
    },
    {
     "name": "stderr",
     "output_type": "stream",
     "text": [
      "/Users/linjiaxi/Anaconda/anaconda3/lib/python3.9/site-packages/lifelines/fitters/__init__.py:279: ApproximationWarning: Approximating using `survival_function_`. To increase accuracy, try using or increasing the resolution of the timeline kwarg in `.fit(..., timeline=timeline)`.\n",
      "\n",
      "  warnings.warn(\n",
      "/Users/linjiaxi/Anaconda/anaconda3/lib/python3.9/site-packages/lifelines/fitters/__init__.py:279: ApproximationWarning: Approximating using `survival_function_`. To increase accuracy, try using or increasing the resolution of the timeline kwarg in `.fit(..., timeline=timeline)`.\n",
      "\n",
      "  warnings.warn(\n",
      "/Users/linjiaxi/Anaconda/anaconda3/lib/python3.9/site-packages/lifelines/fitters/__init__.py:279: ApproximationWarning: Approximating using `survival_function_`. To increase accuracy, try using or increasing the resolution of the timeline kwarg in `.fit(..., timeline=timeline)`.\n",
      "\n",
      "  warnings.warn(\n",
      "/Users/linjiaxi/Anaconda/anaconda3/lib/python3.9/site-packages/lifelines/fitters/__init__.py:279: ApproximationWarning: Approximating using `survival_function_`. To increase accuracy, try using or increasing the resolution of the timeline kwarg in `.fit(..., timeline=timeline)`.\n",
      "\n",
      "  warnings.warn(\n"
     ]
    }
   ],
   "source": [
    "from lifelines.utils import qth_survival_time\n",
    "qth = 0.9 #生存时间的90%分位数\n",
    "kmf = KaplanMeierFitter()\n",
    "\n",
    "#循环遍历不同的 T_Stage 组别：使用 df.groupby('T_Stage') 对 df 中的数据按照 T_Stage 进行分组，并依次遍历每个分组\n",
    "for name, grouped_df in df.groupby('T_Stage'):\n",
    "    kmf_temp = KaplanMeierFitter().fit(grouped_df[\"Survival_Month\"], grouped_df[\"Status\"])\n",
    "    #计算生存时间的第 90 百分位数：使用 qth_survival_time() 函数，传入 qth 和 kmf_temp 对象作为参数，计算该组别的生存时间的第 90 百分位数\n",
    "    time = qth_survival_time(qth,kmf_temp)\n",
    "    print(f\"{name}组的第{qth*100}分位数的生存时间:{time}\")\n"
   ]
  },
  {
   "cell_type": "markdown",
   "id": "6ced5669",
   "metadata": {},
   "source": [
    "#### (2.5) 在特定时间进行生存差异检验"
   ]
  },
  {
   "cell_type": "code",
   "execution_count": 35,
   "id": "34c9d2c1",
   "metadata": {
    "scrolled": true
   },
   "outputs": [
    {
     "name": "stdout",
     "output_type": "stream",
     "text": [
      "曲线下面积:57.22662022019027\n",
      "曲线下面积:49.82516339891577\n"
     ]
    },
    {
     "data": {
      "text/html": [
       "<div>\n",
       "<style scoped>\n",
       "    .dataframe tbody tr th:only-of-type {\n",
       "        vertical-align: middle;\n",
       "    }\n",
       "\n",
       "    .dataframe tbody tr th {\n",
       "        vertical-align: top;\n",
       "    }\n",
       "\n",
       "    .dataframe thead th {\n",
       "        text-align: right;\n",
       "    }\n",
       "</style>\n",
       "<table border=\"1\" class=\"dataframe\">\n",
       "  <tbody>\n",
       "    <tr>\n",
       "      <th>null_distribution</th>\n",
       "      <td>chi squared</td>\n",
       "    </tr>\n",
       "    <tr>\n",
       "      <th>degrees_of_freedom</th>\n",
       "      <td>1</td>\n",
       "    </tr>\n",
       "    <tr>\n",
       "      <th>point_in_time</th>\n",
       "      <td>60.0</td>\n",
       "    </tr>\n",
       "    <tr>\n",
       "      <th>fitterA</th>\n",
       "      <td>&lt;lifelines.KaplanMeierFitter:\"KM_estimate\", fi...</td>\n",
       "    </tr>\n",
       "    <tr>\n",
       "      <th>fitterB</th>\n",
       "      <td>&lt;lifelines.KaplanMeierFitter:\"KM_estimate\", fi...</td>\n",
       "    </tr>\n",
       "    <tr>\n",
       "      <th>test_name</th>\n",
       "      <td>survival_difference_at_fixed_point_in_time_test</td>\n",
       "    </tr>\n",
       "  </tbody>\n",
       "</table>\n",
       "</div><table border=\"1\" class=\"dataframe\">\n",
       "  <thead>\n",
       "    <tr style=\"text-align: right;\">\n",
       "      <th></th>\n",
       "      <th>test_statistic</th>\n",
       "      <th>p</th>\n",
       "      <th>-log2(p)</th>\n",
       "    </tr>\n",
       "  </thead>\n",
       "  <tbody>\n",
       "    <tr>\n",
       "      <th>0</th>\n",
       "      <td>40.84</td>\n",
       "      <td>&lt;0.005</td>\n",
       "      <td>32.49</td>\n",
       "    </tr>\n",
       "  </tbody>\n",
       "</table>"
      ],
      "text/latex": [
       "\\begin{tabular}{lrrr}\n",
       " & test_statistic & p & -log2(p) \\\\\n",
       "0 & 40.84 & 0.00 & 32.49 \\\\\n",
       "\\end{tabular}\n"
      ],
      "text/plain": [
       "<lifelines.StatisticalResult: survival_difference_at_fixed_point_in_time_test>\n",
       " null_distribution = chi squared\n",
       "degrees_of_freedom = 1\n",
       "     point_in_time = 60.0\n",
       "           fitterA = <lifelines.KaplanMeierFitter:\"KM_estimate\", fitted with 3932 total observations, 3351 right-censored observations>\n",
       "           fitterB = <lifelines.KaplanMeierFitter:\"KM_estimate\", fitted with 92 total observations, 57 right-censored observations>\n",
       "         test_name = survival_difference_at_fixed_point_in_time_test\n",
       "\n",
       "---\n",
       " test_statistic      p  -log2(p)\n",
       "          40.84 <0.005     32.49"
      ]
     },
     "metadata": {},
     "output_type": "display_data"
    }
   ],
   "source": [
    "from lifelines.statistics import survival_difference_at_fixed_point_in_time_test\n",
    "from lifelines.datasets import load_waltons\n",
    "from lifelines.utils import restricted_mean_survival_time\n",
    "from lifelines.plotting import rmst_plot\n",
    "\n",
    "T = df['Survival_Month'] #提取数据中的生存时间\n",
    "E = df['Status'] #提取数据中的事件发生指示\n",
    "ix = df['A_Stage']== 0 #设置比较组\n",
    "\n",
    "time_limit=60 #指定T时间内\n",
    "\n",
    "kmf_1 = KaplanMeierFitter().fit(T[ix],  E[ix])\n",
    "rmst_1 = restricted_mean_survival_time(kmf_1, t=time_limit)\n",
    "print(f\"曲线下面积:{rmst_1}\")\n",
    "\n",
    "kmf_2 = KaplanMeierFitter().fit(T[~ix],  E[~ix])\n",
    "rmst_2 = restricted_mean_survival_time(kmf_2, t=time_limit)\n",
    "print(f\"曲线下面积:{rmst_2}\")\n",
    "\n",
    "point_in_time = 60. #指定进行生存差异检验比较的时间\n",
    "#进行生存差异检验：调用 survival_difference_at_fixed_point_in_time_test 函数，传入指定的时间点和两个组别的生存曲线，进行生存差异检验。\n",
    "results = survival_difference_at_fixed_point_in_time_test(point_in_time, kmf_1, kmf_2)\n",
    "results.print_summary()\n"
   ]
  },
  {
   "cell_type": "code",
   "execution_count": 36,
   "id": "65659c0d",
   "metadata": {},
   "outputs": [
    {
     "data": {
      "text/plain": [
       "<AxesSubplot:xlabel='timeline'>"
      ]
     },
     "execution_count": 36,
     "metadata": {},
     "output_type": "execute_result"
    },
    {
     "data": {
      "image/png": "[encoded data removed]",
      "text/plain": [
       "<Figure size 720x864 with 3 Axes>"
      ]
     },
     "metadata": {
      "needs_background": "light"
     },
     "output_type": "display_data"
    }
   ],
   "source": [
    "#把曲线面积绘制出来\n",
    "plt.figure(figsize=(10,12))\n",
    "ax = plt.subplot(311)\n",
    "rmst_plot(kmf_1, t=time_limit, ax=ax)\n",
    "ax = plt.subplot(312)\n",
    "rmst_plot(kmf_2, t=time_limit, ax=ax)\n",
    "ax = plt.subplot(313)\n",
    "rmst_plot(kmf_1, model2=kmf_2, t=time_limit, ax=ax)"
   ]
  },
  {
   "cell_type": "markdown",
   "id": "1d626c4c",
   "metadata": {},
   "source": [
    "### 2. 统计模型部分"
   ]
  },
  {
   "cell_type": "markdown",
   "id": "ce8544f8",
   "metadata": {},
   "source": [
    "#### (2.1）数据预处理"
   ]
  },
  {
   "cell_type": "code",
   "execution_count": 37,
   "id": "980489ca",
   "metadata": {},
   "outputs": [
    {
     "data": {
      "text/html": [
       "<div>\n",
       "<style scoped>\n",
       "    .dataframe tbody tr th:only-of-type {\n",
       "        vertical-align: middle;\n",
       "    }\n",
       "\n",
       "    .dataframe tbody tr th {\n",
       "        vertical-align: top;\n",
       "    }\n",
       "\n",
       "    .dataframe thead th {\n",
       "        text-align: right;\n",
       "    }\n",
       "</style>\n",
       "<table border=\"1\" class=\"dataframe\">\n",
       "  <thead>\n",
       "    <tr style=\"text-align: right;\">\n",
       "      <th></th>\n",
       "      <th>Age</th>\n",
       "      <th>Race</th>\n",
       "      <th>Marital_Status</th>\n",
       "      <th>T_Stage</th>\n",
       "      <th>N_Stage</th>\n",
       "      <th>Sixth_Stage</th>\n",
       "      <th>Grade</th>\n",
       "      <th>A_Stage</th>\n",
       "      <th>Tumor_Size</th>\n",
       "      <th>Estrogen_Status</th>\n",
       "      <th>Progesterone_Status</th>\n",
       "      <th>Regional_Node_Examined</th>\n",
       "      <th>Regional_Node_Positive</th>\n",
       "      <th>Survival_Month</th>\n",
       "      <th>Status</th>\n",
       "      <th>year</th>\n",
       "      <th>age_</th>\n",
       "    </tr>\n",
       "  </thead>\n",
       "  <tbody>\n",
       "    <tr>\n",
       "      <th>0</th>\n",
       "      <td>43</td>\n",
       "      <td>0</td>\n",
       "      <td>0</td>\n",
       "      <td>2</td>\n",
       "      <td>2</td>\n",
       "      <td>4</td>\n",
       "      <td>1</td>\n",
       "      <td>0</td>\n",
       "      <td>40</td>\n",
       "      <td>0</td>\n",
       "      <td>0</td>\n",
       "      <td>19</td>\n",
       "      <td>11</td>\n",
       "      <td>1</td>\n",
       "      <td>0</td>\n",
       "      <td>1.0</td>\n",
       "      <td>(40.0, 50.0]</td>\n",
       "    </tr>\n",
       "    <tr>\n",
       "      <th>1</th>\n",
       "      <td>47</td>\n",
       "      <td>0</td>\n",
       "      <td>0</td>\n",
       "      <td>2</td>\n",
       "      <td>1</td>\n",
       "      <td>2</td>\n",
       "      <td>1</td>\n",
       "      <td>0</td>\n",
       "      <td>45</td>\n",
       "      <td>0</td>\n",
       "      <td>0</td>\n",
       "      <td>25</td>\n",
       "      <td>9</td>\n",
       "      <td>2</td>\n",
       "      <td>0</td>\n",
       "      <td>1.0</td>\n",
       "      <td>(40.0, 50.0]</td>\n",
       "    </tr>\n",
       "    <tr>\n",
       "      <th>2</th>\n",
       "      <td>67</td>\n",
       "      <td>1</td>\n",
       "      <td>0</td>\n",
       "      <td>2</td>\n",
       "      <td>0</td>\n",
       "      <td>1</td>\n",
       "      <td>2</td>\n",
       "      <td>0</td>\n",
       "      <td>25</td>\n",
       "      <td>0</td>\n",
       "      <td>0</td>\n",
       "      <td>4</td>\n",
       "      <td>1</td>\n",
       "      <td>2</td>\n",
       "      <td>1</td>\n",
       "      <td>1.0</td>\n",
       "      <td>NaN</td>\n",
       "    </tr>\n",
       "    <tr>\n",
       "      <th>3</th>\n",
       "      <td>46</td>\n",
       "      <td>1</td>\n",
       "      <td>1</td>\n",
       "      <td>1</td>\n",
       "      <td>0</td>\n",
       "      <td>0</td>\n",
       "      <td>1</td>\n",
       "      <td>0</td>\n",
       "      <td>19</td>\n",
       "      <td>0</td>\n",
       "      <td>0</td>\n",
       "      <td>26</td>\n",
       "      <td>1</td>\n",
       "      <td>2</td>\n",
       "      <td>1</td>\n",
       "      <td>1.0</td>\n",
       "      <td>(40.0, 50.0]</td>\n",
       "    </tr>\n",
       "    <tr>\n",
       "      <th>4</th>\n",
       "      <td>63</td>\n",
       "      <td>1</td>\n",
       "      <td>0</td>\n",
       "      <td>2</td>\n",
       "      <td>1</td>\n",
       "      <td>2</td>\n",
       "      <td>1</td>\n",
       "      <td>0</td>\n",
       "      <td>35</td>\n",
       "      <td>0</td>\n",
       "      <td>0</td>\n",
       "      <td>21</td>\n",
       "      <td>5</td>\n",
       "      <td>3</td>\n",
       "      <td>1</td>\n",
       "      <td>1.0</td>\n",
       "      <td>NaN</td>\n",
       "    </tr>\n",
       "    <tr>\n",
       "      <th>5</th>\n",
       "      <td>49</td>\n",
       "      <td>1</td>\n",
       "      <td>0</td>\n",
       "      <td>2</td>\n",
       "      <td>2</td>\n",
       "      <td>4</td>\n",
       "      <td>1</td>\n",
       "      <td>0</td>\n",
       "      <td>32</td>\n",
       "      <td>0</td>\n",
       "      <td>0</td>\n",
       "      <td>20</td>\n",
       "      <td>11</td>\n",
       "      <td>3</td>\n",
       "      <td>0</td>\n",
       "      <td>1.0</td>\n",
       "      <td>(40.0, 50.0]</td>\n",
       "    </tr>\n",
       "    <tr>\n",
       "      <th>6</th>\n",
       "      <td>64</td>\n",
       "      <td>1</td>\n",
       "      <td>2</td>\n",
       "      <td>2</td>\n",
       "      <td>0</td>\n",
       "      <td>1</td>\n",
       "      <td>1</td>\n",
       "      <td>0</td>\n",
       "      <td>22</td>\n",
       "      <td>0</td>\n",
       "      <td>0</td>\n",
       "      <td>1</td>\n",
       "      <td>1</td>\n",
       "      <td>3</td>\n",
       "      <td>1</td>\n",
       "      <td>1.0</td>\n",
       "      <td>NaN</td>\n",
       "    </tr>\n",
       "    <tr>\n",
       "      <th>7</th>\n",
       "      <td>55</td>\n",
       "      <td>1</td>\n",
       "      <td>0</td>\n",
       "      <td>1</td>\n",
       "      <td>0</td>\n",
       "      <td>0</td>\n",
       "      <td>1</td>\n",
       "      <td>0</td>\n",
       "      <td>15</td>\n",
       "      <td>0</td>\n",
       "      <td>0</td>\n",
       "      <td>9</td>\n",
       "      <td>1</td>\n",
       "      <td>3</td>\n",
       "      <td>0</td>\n",
       "      <td>1.0</td>\n",
       "      <td>(50.0, 60.0]</td>\n",
       "    </tr>\n",
       "    <tr>\n",
       "      <th>8</th>\n",
       "      <td>59</td>\n",
       "      <td>1</td>\n",
       "      <td>2</td>\n",
       "      <td>3</td>\n",
       "      <td>0</td>\n",
       "      <td>2</td>\n",
       "      <td>1</td>\n",
       "      <td>0</td>\n",
       "      <td>70</td>\n",
       "      <td>0</td>\n",
       "      <td>0</td>\n",
       "      <td>9</td>\n",
       "      <td>1</td>\n",
       "      <td>4</td>\n",
       "      <td>1</td>\n",
       "      <td>1.0</td>\n",
       "      <td>(50.0, 60.0]</td>\n",
       "    </tr>\n",
       "    <tr>\n",
       "      <th>9</th>\n",
       "      <td>67</td>\n",
       "      <td>1</td>\n",
       "      <td>0</td>\n",
       "      <td>3</td>\n",
       "      <td>1</td>\n",
       "      <td>2</td>\n",
       "      <td>2</td>\n",
       "      <td>0</td>\n",
       "      <td>55</td>\n",
       "      <td>0</td>\n",
       "      <td>0</td>\n",
       "      <td>9</td>\n",
       "      <td>9</td>\n",
       "      <td>4</td>\n",
       "      <td>1</td>\n",
       "      <td>1.0</td>\n",
       "      <td>NaN</td>\n",
       "    </tr>\n",
       "  </tbody>\n",
       "</table>\n",
       "</div>"
      ],
      "text/plain": [
       "   Age  Race  Marital_Status  T_Stage  N_Stage  Sixth_Stage  Grade  A_Stage  \\\n",
       "0   43     0               0        2        2            4      1        0   \n",
       "1   47     0               0        2        1            2      1        0   \n",
       "2   67     1               0        2        0            1      2        0   \n",
       "3   46     1               1        1        0            0      1        0   \n",
       "4   63     1               0        2        1            2      1        0   \n",
       "5   49     1               0        2        2            4      1        0   \n",
       "6   64     1               2        2        0            1      1        0   \n",
       "7   55     1               0        1        0            0      1        0   \n",
       "8   59     1               2        3        0            2      1        0   \n",
       "9   67     1               0        3        1            2      2        0   \n",
       "\n",
       "   Tumor_Size  Estrogen_Status  Progesterone_Status  Regional_Node_Examined  \\\n",
       "0          40                0                    0                      19   \n",
       "1          45                0                    0                      25   \n",
       "2          25                0                    0                       4   \n",
       "3          19                0                    0                      26   \n",
       "4          35                0                    0                      21   \n",
       "5          32                0                    0                      20   \n",
       "6          22                0                    0                       1   \n",
       "7          15                0                    0                       9   \n",
       "8          70                0                    0                       9   \n",
       "9          55                0                    0                       9   \n",
       "\n",
       "   Regional_Node_Positive  Survival_Month  Status  year          age_  \n",
       "0                      11               1       0   1.0  (40.0, 50.0]  \n",
       "1                       9               2       0   1.0  (40.0, 50.0]  \n",
       "2                       1               2       1   1.0           NaN  \n",
       "3                       1               2       1   1.0  (40.0, 50.0]  \n",
       "4                       5               3       1   1.0           NaN  \n",
       "5                      11               3       0   1.0  (40.0, 50.0]  \n",
       "6                       1               3       1   1.0           NaN  \n",
       "7                       1               3       0   1.0  (50.0, 60.0]  \n",
       "8                       1               4       1   1.0  (50.0, 60.0]  \n",
       "9                       9               4       1   1.0           NaN  "
      ]
     },
     "execution_count": 37,
     "metadata": {},
     "output_type": "execute_result"
    }
   ],
   "source": [
    "df.head(10)"
   ]
  },
  {
   "cell_type": "code",
   "execution_count": 38,
   "id": "59470ebb",
   "metadata": {},
   "outputs": [
    {
     "name": "stdout",
     "output_type": "stream",
     "text": [
      "<class 'pandas.core.frame.DataFrame'>\n",
      "RangeIndex: 4024 entries, 0 to 4023\n",
      "Data columns (total 17 columns):\n",
      " #   Column                  Non-Null Count  Dtype   \n",
      "---  ------                  --------------  -----   \n",
      " 0   Age                     4024 non-null   int64   \n",
      " 1   Race                    4024 non-null   uint16  \n",
      " 2   Marital_Status          4024 non-null   uint16  \n",
      " 3   T_Stage                 4024 non-null   int64   \n",
      " 4   N_Stage                 4024 non-null   int64   \n",
      " 5   Sixth_Stage             4024 non-null   int64   \n",
      " 6   Grade                   4024 non-null   int64   \n",
      " 7   A_Stage                 4024 non-null   uint16  \n",
      " 8   Tumor_Size              4024 non-null   int64   \n",
      " 9   Estrogen_Status         4024 non-null   int64   \n",
      " 10  Progesterone_Status     4024 non-null   int64   \n",
      " 11  Regional_Node_Examined  4024 non-null   int64   \n",
      " 12  Regional_Node_Positive  4024 non-null   int64   \n",
      " 13  Survival_Month          4024 non-null   int64   \n",
      " 14  Status                  4024 non-null   int64   \n",
      " 15  year                    4024 non-null   float64 \n",
      " 16  age_                    2884 non-null   category\n",
      "dtypes: category(1), float64(1), int64(12), uint16(3)\n",
      "memory usage: 436.5 KB\n"
     ]
    }
   ],
   "source": [
    "df.info()"
   ]
  },
  {
   "cell_type": "code",
   "execution_count": 39,
   "id": "61382c74",
   "metadata": {},
   "outputs": [],
   "source": [
    "df['Race']=df['Race'].astype('int64')"
   ]
  },
  {
   "cell_type": "code",
   "execution_count": 40,
   "id": "0cfa0490",
   "metadata": {},
   "outputs": [],
   "source": [
    "df['Marital_Status']=df['Marital_Status'].astype('int64')"
   ]
  },
  {
   "cell_type": "code",
   "execution_count": 41,
   "id": "5a6f045e",
   "metadata": {},
   "outputs": [],
   "source": [
    "df['A_Stage']=df['A_Stage'].astype('int64')"
   ]
  },
  {
   "cell_type": "code",
   "execution_count": 42,
   "id": "b56c65e1",
   "metadata": {},
   "outputs": [],
   "source": [
    "df['year']=df['year'].astype('int64')"
   ]
  },
  {
   "cell_type": "code",
   "execution_count": 43,
   "id": "164b3cd9",
   "metadata": {},
   "outputs": [],
   "source": [
    "df['Survival_Month']=df['Survival_Month'].astype(float)"
   ]
  },
  {
   "cell_type": "code",
   "execution_count": 44,
   "id": "616dd2c0",
   "metadata": {},
   "outputs": [
    {
     "data": {
      "text/plain": [
       "Index(['Age', 'Race', 'Marital_Status', 'T_Stage', 'N_Stage', 'Sixth_Stage',\n",
       "       'Grade', 'A_Stage', 'Tumor_Size', 'Estrogen_Status',\n",
       "       'Progesterone_Status', 'Regional_Node_Examined',\n",
       "       'Regional_Node_Positive', 'Survival_Month', 'Status', 'year', 'age_'],\n",
       "      dtype='object')"
      ]
     },
     "execution_count": 44,
     "metadata": {},
     "output_type": "execute_result"
    }
   ],
   "source": [
    "df.columns"
   ]
  },
  {
   "cell_type": "code",
   "execution_count": 45,
   "id": "779d314c",
   "metadata": {},
   "outputs": [],
   "source": [
    "#将年龄段的结束年龄作为数值型表示\n",
    "df['age_start'] = df['age_'].apply(lambda x: x.left)\n",
    "df['age_end'] = df['age_'].apply(lambda x: x.right)\n",
    "\n",
    "# 将 'age_' 列的数据类型转换为普通的数值型\n",
    "df['age_start'] = df['age_start'].astype(float)\n",
    "df['age_end'] = df['age_end'].astype(float)\n"
   ]
  },
  {
   "cell_type": "code",
   "execution_count": 46,
   "id": "0c0a10df",
   "metadata": {},
   "outputs": [
    {
     "data": {
      "text/html": [
       "<div>\n",
       "<style scoped>\n",
       "    .dataframe tbody tr th:only-of-type {\n",
       "        vertical-align: middle;\n",
       "    }\n",
       "\n",
       "    .dataframe tbody tr th {\n",
       "        vertical-align: top;\n",
       "    }\n",
       "\n",
       "    .dataframe thead th {\n",
       "        text-align: right;\n",
       "    }\n",
       "</style>\n",
       "<table border=\"1\" class=\"dataframe\">\n",
       "  <thead>\n",
       "    <tr style=\"text-align: right;\">\n",
       "      <th></th>\n",
       "      <th>Age</th>\n",
       "      <th>Race</th>\n",
       "      <th>Marital_Status</th>\n",
       "      <th>T_Stage</th>\n",
       "      <th>N_Stage</th>\n",
       "      <th>Sixth_Stage</th>\n",
       "      <th>Grade</th>\n",
       "      <th>A_Stage</th>\n",
       "      <th>Tumor_Size</th>\n",
       "      <th>Estrogen_Status</th>\n",
       "      <th>Progesterone_Status</th>\n",
       "      <th>Regional_Node_Examined</th>\n",
       "      <th>Regional_Node_Positive</th>\n",
       "      <th>Survival_Month</th>\n",
       "      <th>Status</th>\n",
       "      <th>year</th>\n",
       "      <th>age_</th>\n",
       "      <th>age_start</th>\n",
       "      <th>age_end</th>\n",
       "    </tr>\n",
       "  </thead>\n",
       "  <tbody>\n",
       "    <tr>\n",
       "      <th>0</th>\n",
       "      <td>43</td>\n",
       "      <td>0</td>\n",
       "      <td>0</td>\n",
       "      <td>2</td>\n",
       "      <td>2</td>\n",
       "      <td>4</td>\n",
       "      <td>1</td>\n",
       "      <td>0</td>\n",
       "      <td>40</td>\n",
       "      <td>0</td>\n",
       "      <td>0</td>\n",
       "      <td>19</td>\n",
       "      <td>11</td>\n",
       "      <td>1.0</td>\n",
       "      <td>0</td>\n",
       "      <td>1</td>\n",
       "      <td>(40.0, 50.0]</td>\n",
       "      <td>40.0</td>\n",
       "      <td>50.0</td>\n",
       "    </tr>\n",
       "    <tr>\n",
       "      <th>1</th>\n",
       "      <td>47</td>\n",
       "      <td>0</td>\n",
       "      <td>0</td>\n",
       "      <td>2</td>\n",
       "      <td>1</td>\n",
       "      <td>2</td>\n",
       "      <td>1</td>\n",
       "      <td>0</td>\n",
       "      <td>45</td>\n",
       "      <td>0</td>\n",
       "      <td>0</td>\n",
       "      <td>25</td>\n",
       "      <td>9</td>\n",
       "      <td>2.0</td>\n",
       "      <td>0</td>\n",
       "      <td>1</td>\n",
       "      <td>(40.0, 50.0]</td>\n",
       "      <td>40.0</td>\n",
       "      <td>50.0</td>\n",
       "    </tr>\n",
       "    <tr>\n",
       "      <th>2</th>\n",
       "      <td>67</td>\n",
       "      <td>1</td>\n",
       "      <td>0</td>\n",
       "      <td>2</td>\n",
       "      <td>0</td>\n",
       "      <td>1</td>\n",
       "      <td>2</td>\n",
       "      <td>0</td>\n",
       "      <td>25</td>\n",
       "      <td>0</td>\n",
       "      <td>0</td>\n",
       "      <td>4</td>\n",
       "      <td>1</td>\n",
       "      <td>2.0</td>\n",
       "      <td>1</td>\n",
       "      <td>1</td>\n",
       "      <td>NaN</td>\n",
       "      <td>NaN</td>\n",
       "      <td>NaN</td>\n",
       "    </tr>\n",
       "    <tr>\n",
       "      <th>3</th>\n",
       "      <td>46</td>\n",
       "      <td>1</td>\n",
       "      <td>1</td>\n",
       "      <td>1</td>\n",
       "      <td>0</td>\n",
       "      <td>0</td>\n",
       "      <td>1</td>\n",
       "      <td>0</td>\n",
       "      <td>19</td>\n",
       "      <td>0</td>\n",
       "      <td>0</td>\n",
       "      <td>26</td>\n",
       "      <td>1</td>\n",
       "      <td>2.0</td>\n",
       "      <td>1</td>\n",
       "      <td>1</td>\n",
       "      <td>(40.0, 50.0]</td>\n",
       "      <td>40.0</td>\n",
       "      <td>50.0</td>\n",
       "    </tr>\n",
       "    <tr>\n",
       "      <th>4</th>\n",
       "      <td>63</td>\n",
       "      <td>1</td>\n",
       "      <td>0</td>\n",
       "      <td>2</td>\n",
       "      <td>1</td>\n",
       "      <td>2</td>\n",
       "      <td>1</td>\n",
       "      <td>0</td>\n",
       "      <td>35</td>\n",
       "      <td>0</td>\n",
       "      <td>0</td>\n",
       "      <td>21</td>\n",
       "      <td>5</td>\n",
       "      <td>3.0</td>\n",
       "      <td>1</td>\n",
       "      <td>1</td>\n",
       "      <td>NaN</td>\n",
       "      <td>NaN</td>\n",
       "      <td>NaN</td>\n",
       "    </tr>\n",
       "  </tbody>\n",
       "</table>\n",
       "</div>"
      ],
      "text/plain": [
       "   Age  Race  Marital_Status  T_Stage  N_Stage  Sixth_Stage  Grade  A_Stage  \\\n",
       "0   43     0               0        2        2            4      1        0   \n",
       "1   47     0               0        2        1            2      1        0   \n",
       "2   67     1               0        2        0            1      2        0   \n",
       "3   46     1               1        1        0            0      1        0   \n",
       "4   63     1               0        2        1            2      1        0   \n",
       "\n",
       "   Tumor_Size  Estrogen_Status  Progesterone_Status  Regional_Node_Examined  \\\n",
       "0          40                0                    0                      19   \n",
       "1          45                0                    0                      25   \n",
       "2          25                0                    0                       4   \n",
       "3          19                0                    0                      26   \n",
       "4          35                0                    0                      21   \n",
       "\n",
       "   Regional_Node_Positive  Survival_Month  Status  year          age_  \\\n",
       "0                      11             1.0       0     1  (40.0, 50.0]   \n",
       "1                       9             2.0       0     1  (40.0, 50.0]   \n",
       "2                       1             2.0       1     1           NaN   \n",
       "3                       1             2.0       1     1  (40.0, 50.0]   \n",
       "4                       5             3.0       1     1           NaN   \n",
       "\n",
       "   age_start  age_end  \n",
       "0       40.0     50.0  \n",
       "1       40.0     50.0  \n",
       "2        NaN      NaN  \n",
       "3       40.0     50.0  \n",
       "4        NaN      NaN  "
      ]
     },
     "execution_count": 46,
     "metadata": {},
     "output_type": "execute_result"
    }
   ],
   "source": [
    "df.head()"
   ]
  },
  {
   "cell_type": "code",
   "execution_count": 47,
   "id": "b1e822a7",
   "metadata": {},
   "outputs": [
    {
     "name": "stdout",
     "output_type": "stream",
     "text": [
      "每个字段的缺失值数量：\n",
      "Age                          0\n",
      "Race                         0\n",
      "Marital_Status               0\n",
      "T_Stage                      0\n",
      "N_Stage                      0\n",
      "Sixth_Stage                  0\n",
      "Grade                        0\n",
      "A_Stage                      0\n",
      "Tumor_Size                   0\n",
      "Estrogen_Status              0\n",
      "Progesterone_Status          0\n",
      "Regional_Node_Examined       0\n",
      "Regional_Node_Positive       0\n",
      "Survival_Month               0\n",
      "Status                       0\n",
      "year                         0\n",
      "age_                      1140\n",
      "age_start                 1140\n",
      "age_end                   1140\n",
      "dtype: int64\n"
     ]
    }
   ],
   "source": [
    "# 计算每个字段的缺失值数量\n",
    "missing_values = df.isnull().sum()\n",
    "\n",
    "# 打印每个字段的缺失值数量\n",
    "print(\"每个字段的缺失值数量：\")\n",
    "print(missing_values)\n"
   ]
  },
  {
   "cell_type": "code",
   "execution_count": 48,
   "id": "a971ddbb",
   "metadata": {},
   "outputs": [
    {
     "name": "stdout",
     "output_type": "stream",
     "text": [
      "age_ 字段的所有唯一值：\n",
      "[(40.0, 50.0], NaN, (50.0, 60.0], (0.0, 40.0]]\n",
      "Categories (3, interval[int64, right]): [(0, 40] < (40, 50] < (50, 60]]\n"
     ]
    }
   ],
   "source": [
    "# 获取 'age_' 字段的所有唯一值\n",
    "unique_age_ranges = df['age_'].unique()\n",
    "\n",
    "# 打印 'age_' 字段的所有唯一值\n",
    "print(\"age_ 字段的所有唯一值：\")\n",
    "print(unique_age_ranges)"
   ]
  },
  {
   "cell_type": "code",
   "execution_count": 49,
   "id": "dc190085",
   "metadata": {},
   "outputs": [
    {
     "name": "stdout",
     "output_type": "stream",
     "text": [
      "NaN 的数据数量： 1140\n"
     ]
    }
   ],
   "source": [
    "# 显示 NaN 的数据数量\n",
    "nan_count = df['age_'].isnull().sum()\n",
    "print(\"NaN 的数据数量：\", nan_count)\n",
    "\n",
    "# 删除含有 NaN 值的行\n",
    "df.dropna(subset=['age_'], inplace=True)"
   ]
  },
  {
   "cell_type": "code",
   "execution_count": 50,
   "id": "b4ae7d92",
   "metadata": {},
   "outputs": [
    {
     "name": "stdout",
     "output_type": "stream",
     "text": [
      "<class 'pandas.core.frame.DataFrame'>\n",
      "Index: 2884 entries, 0 to 4022\n",
      "Data columns (total 19 columns):\n",
      " #   Column                  Non-Null Count  Dtype   \n",
      "---  ------                  --------------  -----   \n",
      " 0   Age                     2884 non-null   int64   \n",
      " 1   Race                    2884 non-null   int64   \n",
      " 2   Marital_Status          2884 non-null   int64   \n",
      " 3   T_Stage                 2884 non-null   int64   \n",
      " 4   N_Stage                 2884 non-null   int64   \n",
      " 5   Sixth_Stage             2884 non-null   int64   \n",
      " 6   Grade                   2884 non-null   int64   \n",
      " 7   A_Stage                 2884 non-null   int64   \n",
      " 8   Tumor_Size              2884 non-null   int64   \n",
      " 9   Estrogen_Status         2884 non-null   int64   \n",
      " 10  Progesterone_Status     2884 non-null   int64   \n",
      " 11  Regional_Node_Examined  2884 non-null   int64   \n",
      " 12  Regional_Node_Positive  2884 non-null   int64   \n",
      " 13  Survival_Month          2884 non-null   float64 \n",
      " 14  Status                  2884 non-null   int64   \n",
      " 15  year                    2884 non-null   int64   \n",
      " 16  age_                    2884 non-null   category\n",
      " 17  age_start               2884 non-null   float64 \n",
      " 18  age_end                 2884 non-null   float64 \n",
      "dtypes: category(1), float64(3), int64(15)\n",
      "memory usage: 431.2 KB\n"
     ]
    }
   ],
   "source": [
    "df.info()"
   ]
  },
  {
   "cell_type": "code",
   "execution_count": 51,
   "id": "0de8cdfa",
   "metadata": {},
   "outputs": [],
   "source": [
    "### 对age进行处理，因为age是一个时间段，真的很难处理，所以删掉了\n",
    "# 定义区间映射\n",
    "age_range_mapping = {\n",
    "    '(0.0, 40.0]': 20.0,\n",
    "    '(40.0, 50.0]': 45.0,\n",
    "    '(50.0, 60.0]': 55.0\n",
    "}\n",
    "\n",
    "# 将区间映射应用到 'age_' 字段\n",
    "df['age_'] = df['age_'].map(age_range_mapping)\n",
    "\n",
    "# 删除 'age_' 列\n",
    "df.drop(columns=['age_'], inplace=True)"
   ]
  },
  {
   "cell_type": "code",
   "execution_count": 52,
   "id": "9346a866",
   "metadata": {},
   "outputs": [],
   "source": [
    "df.drop(columns=['age_start'], inplace=True)\n",
    "\n",
    "df.drop(columns=['age_end'], inplace=True)"
   ]
  },
  {
   "cell_type": "code",
   "execution_count": 53,
   "id": "5384dcf7",
   "metadata": {},
   "outputs": [
    {
     "name": "stdout",
     "output_type": "stream",
     "text": [
      "<class 'pandas.core.frame.DataFrame'>\n",
      "Index: 2884 entries, 0 to 4022\n",
      "Data columns (total 16 columns):\n",
      " #   Column                  Non-Null Count  Dtype  \n",
      "---  ------                  --------------  -----  \n",
      " 0   Age                     2884 non-null   int64  \n",
      " 1   Race                    2884 non-null   int64  \n",
      " 2   Marital_Status          2884 non-null   int64  \n",
      " 3   T_Stage                 2884 non-null   int64  \n",
      " 4   N_Stage                 2884 non-null   int64  \n",
      " 5   Sixth_Stage             2884 non-null   int64  \n",
      " 6   Grade                   2884 non-null   int64  \n",
      " 7   A_Stage                 2884 non-null   int64  \n",
      " 8   Tumor_Size              2884 non-null   int64  \n",
      " 9   Estrogen_Status         2884 non-null   int64  \n",
      " 10  Progesterone_Status     2884 non-null   int64  \n",
      " 11  Regional_Node_Examined  2884 non-null   int64  \n",
      " 12  Regional_Node_Positive  2884 non-null   int64  \n",
      " 13  Survival_Month          2884 non-null   float64\n",
      " 14  Status                  2884 non-null   int64  \n",
      " 15  year                    2884 non-null   int64  \n",
      "dtypes: float64(1), int64(15)\n",
      "memory usage: 383.0 KB\n"
     ]
    }
   ],
   "source": [
    "df.info()"
   ]
  },
  {
   "cell_type": "code",
   "execution_count": 54,
   "id": "bd34fe3f",
   "metadata": {},
   "outputs": [
    {
     "data": {
      "text/plain": [
       "Index(['Age', 'Race', 'Marital_Status', 'T_Stage', 'N_Stage', 'Sixth_Stage',\n",
       "       'Grade', 'A_Stage', 'Tumor_Size', 'Estrogen_Status',\n",
       "       'Progesterone_Status', 'Regional_Node_Examined',\n",
       "       'Regional_Node_Positive', 'Survival_Month', 'Status', 'year'],\n",
       "      dtype='object')"
      ]
     },
     "execution_count": 54,
     "metadata": {},
     "output_type": "execute_result"
    }
   ],
   "source": [
    "df.columns"
   ]
  },
  {
   "cell_type": "code",
   "execution_count": 55,
   "id": "dfafcccf",
   "metadata": {},
   "outputs": [
    {
     "name": "stdout",
     "output_type": "stream",
     "text": [
      "Status\n",
      "0    2497\n",
      "1     387\n",
      "Name: count, dtype: int64\n"
     ]
    }
   ],
   "source": [
    "#统计失效时间和删失事件的数量\n",
    "print(df['Status'].value_counts())"
   ]
  },
  {
   "cell_type": "code",
   "execution_count": 56,
   "id": "ad5e2e43",
   "metadata": {},
   "outputs": [
    {
     "data": {
      "text/html": [
       "<div>\n",
       "<style scoped>\n",
       "    .dataframe tbody tr th:only-of-type {\n",
       "        vertical-align: middle;\n",
       "    }\n",
       "\n",
       "    .dataframe tbody tr th {\n",
       "        vertical-align: top;\n",
       "    }\n",
       "\n",
       "    .dataframe thead th {\n",
       "        text-align: right;\n",
       "    }\n",
       "</style>\n",
       "<table border=\"1\" class=\"dataframe\">\n",
       "  <thead>\n",
       "    <tr style=\"text-align: right;\">\n",
       "      <th></th>\n",
       "      <th>Age</th>\n",
       "      <th>Race</th>\n",
       "      <th>Marital_Status</th>\n",
       "      <th>T_Stage</th>\n",
       "      <th>N_Stage</th>\n",
       "      <th>Sixth_Stage</th>\n",
       "      <th>Grade</th>\n",
       "      <th>A_Stage</th>\n",
       "      <th>Tumor_Size</th>\n",
       "      <th>Estrogen_Status</th>\n",
       "      <th>Progesterone_Status</th>\n",
       "      <th>Regional_Node_Examined</th>\n",
       "      <th>Regional_Node_Positive</th>\n",
       "      <th>Survival_Month</th>\n",
       "      <th>Status</th>\n",
       "      <th>year</th>\n",
       "    </tr>\n",
       "  </thead>\n",
       "  <tbody>\n",
       "    <tr>\n",
       "      <th>0</th>\n",
       "      <td>43</td>\n",
       "      <td>0</td>\n",
       "      <td>0</td>\n",
       "      <td>2</td>\n",
       "      <td>2</td>\n",
       "      <td>4</td>\n",
       "      <td>1</td>\n",
       "      <td>0</td>\n",
       "      <td>40</td>\n",
       "      <td>0</td>\n",
       "      <td>0</td>\n",
       "      <td>19</td>\n",
       "      <td>11</td>\n",
       "      <td>1.0</td>\n",
       "      <td>0</td>\n",
       "      <td>1</td>\n",
       "    </tr>\n",
       "    <tr>\n",
       "      <th>1</th>\n",
       "      <td>47</td>\n",
       "      <td>0</td>\n",
       "      <td>0</td>\n",
       "      <td>2</td>\n",
       "      <td>1</td>\n",
       "      <td>2</td>\n",
       "      <td>1</td>\n",
       "      <td>0</td>\n",
       "      <td>45</td>\n",
       "      <td>0</td>\n",
       "      <td>0</td>\n",
       "      <td>25</td>\n",
       "      <td>9</td>\n",
       "      <td>2.0</td>\n",
       "      <td>0</td>\n",
       "      <td>1</td>\n",
       "    </tr>\n",
       "    <tr>\n",
       "      <th>3</th>\n",
       "      <td>46</td>\n",
       "      <td>1</td>\n",
       "      <td>1</td>\n",
       "      <td>1</td>\n",
       "      <td>0</td>\n",
       "      <td>0</td>\n",
       "      <td>1</td>\n",
       "      <td>0</td>\n",
       "      <td>19</td>\n",
       "      <td>0</td>\n",
       "      <td>0</td>\n",
       "      <td>26</td>\n",
       "      <td>1</td>\n",
       "      <td>2.0</td>\n",
       "      <td>1</td>\n",
       "      <td>1</td>\n",
       "    </tr>\n",
       "    <tr>\n",
       "      <th>5</th>\n",
       "      <td>49</td>\n",
       "      <td>1</td>\n",
       "      <td>0</td>\n",
       "      <td>2</td>\n",
       "      <td>2</td>\n",
       "      <td>4</td>\n",
       "      <td>1</td>\n",
       "      <td>0</td>\n",
       "      <td>32</td>\n",
       "      <td>0</td>\n",
       "      <td>0</td>\n",
       "      <td>20</td>\n",
       "      <td>11</td>\n",
       "      <td>3.0</td>\n",
       "      <td>0</td>\n",
       "      <td>1</td>\n",
       "    </tr>\n",
       "    <tr>\n",
       "      <th>7</th>\n",
       "      <td>55</td>\n",
       "      <td>1</td>\n",
       "      <td>0</td>\n",
       "      <td>1</td>\n",
       "      <td>0</td>\n",
       "      <td>0</td>\n",
       "      <td>1</td>\n",
       "      <td>0</td>\n",
       "      <td>15</td>\n",
       "      <td>0</td>\n",
       "      <td>0</td>\n",
       "      <td>9</td>\n",
       "      <td>1</td>\n",
       "      <td>3.0</td>\n",
       "      <td>0</td>\n",
       "      <td>1</td>\n",
       "    </tr>\n",
       "  </tbody>\n",
       "</table>\n",
       "</div>"
      ],
      "text/plain": [
       "   Age  Race  Marital_Status  T_Stage  N_Stage  Sixth_Stage  Grade  A_Stage  \\\n",
       "0   43     0               0        2        2            4      1        0   \n",
       "1   47     0               0        2        1            2      1        0   \n",
       "3   46     1               1        1        0            0      1        0   \n",
       "5   49     1               0        2        2            4      1        0   \n",
       "7   55     1               0        1        0            0      1        0   \n",
       "\n",
       "   Tumor_Size  Estrogen_Status  Progesterone_Status  Regional_Node_Examined  \\\n",
       "0          40                0                    0                      19   \n",
       "1          45                0                    0                      25   \n",
       "3          19                0                    0                      26   \n",
       "5          32                0                    0                      20   \n",
       "7          15                0                    0                       9   \n",
       "\n",
       "   Regional_Node_Positive  Survival_Month  Status  year  \n",
       "0                      11             1.0       0     1  \n",
       "1                       9             2.0       0     1  \n",
       "3                       1             2.0       1     1  \n",
       "5                      11             3.0       0     1  \n",
       "7                       1             3.0       0     1  "
      ]
     },
     "execution_count": 56,
     "metadata": {},
     "output_type": "execute_result"
    }
   ],
   "source": [
    "df.head()"
   ]
  },
  {
   "cell_type": "markdown",
   "id": "085c0f7f",
   "metadata": {},
   "source": [
    "#### (2.2) 预测生存时间"
   ]
  },
  {
   "cell_type": "code",
   "execution_count": 57,
   "id": "775710d0",
   "metadata": {},
   "outputs": [
    {
     "data": {
      "text/html": [
       "<div>\n",
       "<style scoped>\n",
       "    .dataframe tbody tr th:only-of-type {\n",
       "        vertical-align: middle;\n",
       "    }\n",
       "\n",
       "    .dataframe tbody tr th {\n",
       "        vertical-align: top;\n",
       "    }\n",
       "\n",
       "    .dataframe thead th {\n",
       "        text-align: right;\n",
       "    }\n",
       "</style>\n",
       "<table border=\"1\" class=\"dataframe\">\n",
       "  <thead>\n",
       "    <tr style=\"text-align: right;\">\n",
       "      <th></th>\n",
       "      <th>Age</th>\n",
       "      <th>Race</th>\n",
       "      <th>Marital_Status</th>\n",
       "      <th>T_Stage</th>\n",
       "      <th>N_Stage</th>\n",
       "      <th>Sixth_Stage</th>\n",
       "      <th>Grade</th>\n",
       "      <th>A_Stage</th>\n",
       "      <th>Tumor_Size</th>\n",
       "      <th>Estrogen_Status</th>\n",
       "      <th>Progesterone_Status</th>\n",
       "      <th>Regional_Node_Examined</th>\n",
       "      <th>Regional_Node_Positive</th>\n",
       "      <th>Survival_Month</th>\n",
       "      <th>Status</th>\n",
       "      <th>year</th>\n",
       "    </tr>\n",
       "  </thead>\n",
       "  <tbody>\n",
       "    <tr>\n",
       "      <th>0</th>\n",
       "      <td>43</td>\n",
       "      <td>0</td>\n",
       "      <td>0</td>\n",
       "      <td>2</td>\n",
       "      <td>2</td>\n",
       "      <td>4</td>\n",
       "      <td>1</td>\n",
       "      <td>0</td>\n",
       "      <td>0.405693</td>\n",
       "      <td>0</td>\n",
       "      <td>0</td>\n",
       "      <td>0.554470</td>\n",
       "      <td>11</td>\n",
       "      <td>1.0</td>\n",
       "      <td>0</td>\n",
       "      <td>1</td>\n",
       "    </tr>\n",
       "    <tr>\n",
       "      <th>1</th>\n",
       "      <td>47</td>\n",
       "      <td>0</td>\n",
       "      <td>0</td>\n",
       "      <td>2</td>\n",
       "      <td>1</td>\n",
       "      <td>2</td>\n",
       "      <td>1</td>\n",
       "      <td>0</td>\n",
       "      <td>0.637876</td>\n",
       "      <td>0</td>\n",
       "      <td>0</td>\n",
       "      <td>1.301709</td>\n",
       "      <td>9</td>\n",
       "      <td>2.0</td>\n",
       "      <td>0</td>\n",
       "      <td>1</td>\n",
       "    </tr>\n",
       "    <tr>\n",
       "      <th>3</th>\n",
       "      <td>46</td>\n",
       "      <td>1</td>\n",
       "      <td>1</td>\n",
       "      <td>1</td>\n",
       "      <td>0</td>\n",
       "      <td>0</td>\n",
       "      <td>1</td>\n",
       "      <td>0</td>\n",
       "      <td>-0.569477</td>\n",
       "      <td>0</td>\n",
       "      <td>0</td>\n",
       "      <td>1.426249</td>\n",
       "      <td>1</td>\n",
       "      <td>2.0</td>\n",
       "      <td>1</td>\n",
       "      <td>1</td>\n",
       "    </tr>\n",
       "    <tr>\n",
       "      <th>5</th>\n",
       "      <td>49</td>\n",
       "      <td>1</td>\n",
       "      <td>0</td>\n",
       "      <td>2</td>\n",
       "      <td>2</td>\n",
       "      <td>4</td>\n",
       "      <td>1</td>\n",
       "      <td>0</td>\n",
       "      <td>0.034200</td>\n",
       "      <td>0</td>\n",
       "      <td>0</td>\n",
       "      <td>0.679010</td>\n",
       "      <td>11</td>\n",
       "      <td>3.0</td>\n",
       "      <td>0</td>\n",
       "      <td>1</td>\n",
       "    </tr>\n",
       "    <tr>\n",
       "      <th>7</th>\n",
       "      <td>55</td>\n",
       "      <td>1</td>\n",
       "      <td>0</td>\n",
       "      <td>1</td>\n",
       "      <td>0</td>\n",
       "      <td>0</td>\n",
       "      <td>1</td>\n",
       "      <td>0</td>\n",
       "      <td>-0.755223</td>\n",
       "      <td>0</td>\n",
       "      <td>0</td>\n",
       "      <td>-0.690929</td>\n",
       "      <td>1</td>\n",
       "      <td>3.0</td>\n",
       "      <td>0</td>\n",
       "      <td>1</td>\n",
       "    </tr>\n",
       "    <tr>\n",
       "      <th>8</th>\n",
       "      <td>59</td>\n",
       "      <td>1</td>\n",
       "      <td>2</td>\n",
       "      <td>3</td>\n",
       "      <td>0</td>\n",
       "      <td>2</td>\n",
       "      <td>1</td>\n",
       "      <td>0</td>\n",
       "      <td>1.798792</td>\n",
       "      <td>0</td>\n",
       "      <td>0</td>\n",
       "      <td>-0.690929</td>\n",
       "      <td>1</td>\n",
       "      <td>4.0</td>\n",
       "      <td>1</td>\n",
       "      <td>1</td>\n",
       "    </tr>\n",
       "    <tr>\n",
       "      <th>11</th>\n",
       "      <td>49</td>\n",
       "      <td>1</td>\n",
       "      <td>1</td>\n",
       "      <td>2</td>\n",
       "      <td>0</td>\n",
       "      <td>1</td>\n",
       "      <td>1</td>\n",
       "      <td>0</td>\n",
       "      <td>0.312819</td>\n",
       "      <td>0</td>\n",
       "      <td>1</td>\n",
       "      <td>0.056311</td>\n",
       "      <td>3</td>\n",
       "      <td>4.0</td>\n",
       "      <td>1</td>\n",
       "      <td>1</td>\n",
       "    </tr>\n",
       "    <tr>\n",
       "      <th>15</th>\n",
       "      <td>53</td>\n",
       "      <td>1</td>\n",
       "      <td>4</td>\n",
       "      <td>1</td>\n",
       "      <td>0</td>\n",
       "      <td>0</td>\n",
       "      <td>1</td>\n",
       "      <td>0</td>\n",
       "      <td>-0.662350</td>\n",
       "      <td>0</td>\n",
       "      <td>0</td>\n",
       "      <td>-1.687248</td>\n",
       "      <td>1</td>\n",
       "      <td>4.0</td>\n",
       "      <td>0</td>\n",
       "      <td>1</td>\n",
       "    </tr>\n",
       "    <tr>\n",
       "      <th>17</th>\n",
       "      <td>58</td>\n",
       "      <td>2</td>\n",
       "      <td>3</td>\n",
       "      <td>1</td>\n",
       "      <td>1</td>\n",
       "      <td>2</td>\n",
       "      <td>1</td>\n",
       "      <td>0</td>\n",
       "      <td>-1.358900</td>\n",
       "      <td>0</td>\n",
       "      <td>1</td>\n",
       "      <td>-0.441849</td>\n",
       "      <td>4</td>\n",
       "      <td>4.0</td>\n",
       "      <td>1</td>\n",
       "      <td>1</td>\n",
       "    </tr>\n",
       "    <tr>\n",
       "      <th>19</th>\n",
       "      <td>31</td>\n",
       "      <td>1</td>\n",
       "      <td>1</td>\n",
       "      <td>2</td>\n",
       "      <td>0</td>\n",
       "      <td>1</td>\n",
       "      <td>1</td>\n",
       "      <td>0</td>\n",
       "      <td>0.498566</td>\n",
       "      <td>0</td>\n",
       "      <td>0</td>\n",
       "      <td>-0.690929</td>\n",
       "      <td>3</td>\n",
       "      <td>5.0</td>\n",
       "      <td>0</td>\n",
       "      <td>1</td>\n",
       "    </tr>\n",
       "    <tr>\n",
       "      <th>20</th>\n",
       "      <td>31</td>\n",
       "      <td>2</td>\n",
       "      <td>2</td>\n",
       "      <td>2</td>\n",
       "      <td>1</td>\n",
       "      <td>2</td>\n",
       "      <td>2</td>\n",
       "      <td>0</td>\n",
       "      <td>-0.058674</td>\n",
       "      <td>1</td>\n",
       "      <td>1</td>\n",
       "      <td>-0.192769</td>\n",
       "      <td>4</td>\n",
       "      <td>5.0</td>\n",
       "      <td>1</td>\n",
       "      <td>1</td>\n",
       "    </tr>\n",
       "    <tr>\n",
       "      <th>21</th>\n",
       "      <td>41</td>\n",
       "      <td>2</td>\n",
       "      <td>2</td>\n",
       "      <td>1</td>\n",
       "      <td>0</td>\n",
       "      <td>0</td>\n",
       "      <td>1</td>\n",
       "      <td>0</td>\n",
       "      <td>-0.523040</td>\n",
       "      <td>1</td>\n",
       "      <td>1</td>\n",
       "      <td>-1.562708</td>\n",
       "      <td>2</td>\n",
       "      <td>5.0</td>\n",
       "      <td>1</td>\n",
       "      <td>1</td>\n",
       "    </tr>\n",
       "    <tr>\n",
       "      <th>22</th>\n",
       "      <td>57</td>\n",
       "      <td>1</td>\n",
       "      <td>0</td>\n",
       "      <td>1</td>\n",
       "      <td>0</td>\n",
       "      <td>0</td>\n",
       "      <td>1</td>\n",
       "      <td>0</td>\n",
       "      <td>-0.848097</td>\n",
       "      <td>0</td>\n",
       "      <td>0</td>\n",
       "      <td>-0.441849</td>\n",
       "      <td>1</td>\n",
       "      <td>5.0</td>\n",
       "      <td>1</td>\n",
       "      <td>1</td>\n",
       "    </tr>\n",
       "    <tr>\n",
       "      <th>23</th>\n",
       "      <td>40</td>\n",
       "      <td>1</td>\n",
       "      <td>2</td>\n",
       "      <td>1</td>\n",
       "      <td>0</td>\n",
       "      <td>0</td>\n",
       "      <td>0</td>\n",
       "      <td>0</td>\n",
       "      <td>-0.987407</td>\n",
       "      <td>0</td>\n",
       "      <td>0</td>\n",
       "      <td>-1.438168</td>\n",
       "      <td>2</td>\n",
       "      <td>5.0</td>\n",
       "      <td>0</td>\n",
       "      <td>1</td>\n",
       "    </tr>\n",
       "    <tr>\n",
       "      <th>26</th>\n",
       "      <td>49</td>\n",
       "      <td>1</td>\n",
       "      <td>1</td>\n",
       "      <td>2</td>\n",
       "      <td>2</td>\n",
       "      <td>4</td>\n",
       "      <td>2</td>\n",
       "      <td>0</td>\n",
       "      <td>0.870059</td>\n",
       "      <td>0</td>\n",
       "      <td>1</td>\n",
       "      <td>-0.317309</td>\n",
       "      <td>12</td>\n",
       "      <td>6.0</td>\n",
       "      <td>1</td>\n",
       "      <td>1</td>\n",
       "    </tr>\n",
       "    <tr>\n",
       "      <th>28</th>\n",
       "      <td>49</td>\n",
       "      <td>1</td>\n",
       "      <td>2</td>\n",
       "      <td>2</td>\n",
       "      <td>2</td>\n",
       "      <td>4</td>\n",
       "      <td>2</td>\n",
       "      <td>0</td>\n",
       "      <td>0.405693</td>\n",
       "      <td>1</td>\n",
       "      <td>1</td>\n",
       "      <td>0.429930</td>\n",
       "      <td>16</td>\n",
       "      <td>6.0</td>\n",
       "      <td>1</td>\n",
       "      <td>1</td>\n",
       "    </tr>\n",
       "    <tr>\n",
       "      <th>31</th>\n",
       "      <td>51</td>\n",
       "      <td>1</td>\n",
       "      <td>0</td>\n",
       "      <td>1</td>\n",
       "      <td>0</td>\n",
       "      <td>0</td>\n",
       "      <td>1</td>\n",
       "      <td>0</td>\n",
       "      <td>-0.801660</td>\n",
       "      <td>0</td>\n",
       "      <td>0</td>\n",
       "      <td>-1.189088</td>\n",
       "      <td>3</td>\n",
       "      <td>6.0</td>\n",
       "      <td>1</td>\n",
       "      <td>1</td>\n",
       "    </tr>\n",
       "    <tr>\n",
       "      <th>32</th>\n",
       "      <td>46</td>\n",
       "      <td>2</td>\n",
       "      <td>2</td>\n",
       "      <td>3</td>\n",
       "      <td>1</td>\n",
       "      <td>2</td>\n",
       "      <td>2</td>\n",
       "      <td>0</td>\n",
       "      <td>3.191891</td>\n",
       "      <td>1</td>\n",
       "      <td>1</td>\n",
       "      <td>-1.189088</td>\n",
       "      <td>5</td>\n",
       "      <td>7.0</td>\n",
       "      <td>1</td>\n",
       "      <td>1</td>\n",
       "    </tr>\n",
       "    <tr>\n",
       "      <th>34</th>\n",
       "      <td>58</td>\n",
       "      <td>1</td>\n",
       "      <td>0</td>\n",
       "      <td>2</td>\n",
       "      <td>2</td>\n",
       "      <td>4</td>\n",
       "      <td>1</td>\n",
       "      <td>0</td>\n",
       "      <td>-0.476604</td>\n",
       "      <td>0</td>\n",
       "      <td>1</td>\n",
       "      <td>0.056311</td>\n",
       "      <td>14</td>\n",
       "      <td>7.0</td>\n",
       "      <td>1</td>\n",
       "      <td>1</td>\n",
       "    </tr>\n",
       "    <tr>\n",
       "      <th>35</th>\n",
       "      <td>42</td>\n",
       "      <td>1</td>\n",
       "      <td>2</td>\n",
       "      <td>1</td>\n",
       "      <td>0</td>\n",
       "      <td>0</td>\n",
       "      <td>1</td>\n",
       "      <td>0</td>\n",
       "      <td>-1.033843</td>\n",
       "      <td>0</td>\n",
       "      <td>0</td>\n",
       "      <td>-0.441849</td>\n",
       "      <td>2</td>\n",
       "      <td>7.0</td>\n",
       "      <td>0</td>\n",
       "      <td>1</td>\n",
       "    </tr>\n",
       "  </tbody>\n",
       "</table>\n",
       "</div>"
      ],
      "text/plain": [
       "    Age  Race  Marital_Status  T_Stage  N_Stage  Sixth_Stage  Grade  A_Stage  \\\n",
       "0    43     0               0        2        2            4      1        0   \n",
       "1    47     0               0        2        1            2      1        0   \n",
       "3    46     1               1        1        0            0      1        0   \n",
       "5    49     1               0        2        2            4      1        0   \n",
       "7    55     1               0        1        0            0      1        0   \n",
       "8    59     1               2        3        0            2      1        0   \n",
       "11   49     1               1        2        0            1      1        0   \n",
       "15   53     1               4        1        0            0      1        0   \n",
       "17   58     2               3        1        1            2      1        0   \n",
       "19   31     1               1        2        0            1      1        0   \n",
       "20   31     2               2        2        1            2      2        0   \n",
       "21   41     2               2        1        0            0      1        0   \n",
       "22   57     1               0        1        0            0      1        0   \n",
       "23   40     1               2        1        0            0      0        0   \n",
       "26   49     1               1        2        2            4      2        0   \n",
       "28   49     1               2        2        2            4      2        0   \n",
       "31   51     1               0        1        0            0      1        0   \n",
       "32   46     2               2        3        1            2      2        0   \n",
       "34   58     1               0        2        2            4      1        0   \n",
       "35   42     1               2        1        0            0      1        0   \n",
       "\n",
       "    Tumor_Size  Estrogen_Status  Progesterone_Status  Regional_Node_Examined  \\\n",
       "0     0.405693                0                    0                0.554470   \n",
       "1     0.637876                0                    0                1.301709   \n",
       "3    -0.569477                0                    0                1.426249   \n",
       "5     0.034200                0                    0                0.679010   \n",
       "7    -0.755223                0                    0               -0.690929   \n",
       "8     1.798792                0                    0               -0.690929   \n",
       "11    0.312819                0                    1                0.056311   \n",
       "15   -0.662350                0                    0               -1.687248   \n",
       "17   -1.358900                0                    1               -0.441849   \n",
       "19    0.498566                0                    0               -0.690929   \n",
       "20   -0.058674                1                    1               -0.192769   \n",
       "21   -0.523040                1                    1               -1.562708   \n",
       "22   -0.848097                0                    0               -0.441849   \n",
       "23   -0.987407                0                    0               -1.438168   \n",
       "26    0.870059                0                    1               -0.317309   \n",
       "28    0.405693                1                    1                0.429930   \n",
       "31   -0.801660                0                    0               -1.189088   \n",
       "32    3.191891                1                    1               -1.189088   \n",
       "34   -0.476604                0                    1                0.056311   \n",
       "35   -1.033843                0                    0               -0.441849   \n",
       "\n",
       "    Regional_Node_Positive  Survival_Month  Status  year  \n",
       "0                       11             1.0       0     1  \n",
       "1                        9             2.0       0     1  \n",
       "3                        1             2.0       1     1  \n",
       "5                       11             3.0       0     1  \n",
       "7                        1             3.0       0     1  \n",
       "8                        1             4.0       1     1  \n",
       "11                       3             4.0       1     1  \n",
       "15                       1             4.0       0     1  \n",
       "17                       4             4.0       1     1  \n",
       "19                       3             5.0       0     1  \n",
       "20                       4             5.0       1     1  \n",
       "21                       2             5.0       1     1  \n",
       "22                       1             5.0       1     1  \n",
       "23                       2             5.0       0     1  \n",
       "26                      12             6.0       1     1  \n",
       "28                      16             6.0       1     1  \n",
       "31                       3             6.0       1     1  \n",
       "32                       5             7.0       1     1  \n",
       "34                      14             7.0       1     1  \n",
       "35                       2             7.0       0     1  "
      ]
     },
     "execution_count": 57,
     "metadata": {},
     "output_type": "execute_result"
    }
   ],
   "source": [
    "#对数据进行标准化处理\n",
    "from sklearn.preprocessing import StandardScaler\n",
    "\n",
    "features_to_scale=['Tumor_Size','Regional_Node_Examined']\n",
    "\n",
    "#初始化StandardScaler对象\n",
    "scaler=StandardScaler()\n",
    "\n",
    "#对特征进行标准化处理\n",
    "df[features_to_scale] = scaler.fit_transform(df[features_to_scale])\n",
    "\n",
    "df.head(20)"
   ]
  },
  {
   "cell_type": "code",
   "execution_count": 58,
   "id": "e92207b5",
   "metadata": {},
   "outputs": [
    {
     "data": {
      "text/html": [
       "<div>\n",
       "<style scoped>\n",
       "    .dataframe tbody tr th:only-of-type {\n",
       "        vertical-align: middle;\n",
       "    }\n",
       "\n",
       "    .dataframe tbody tr th {\n",
       "        vertical-align: top;\n",
       "    }\n",
       "\n",
       "    .dataframe thead th {\n",
       "        text-align: right;\n",
       "    }\n",
       "</style>\n",
       "<table border=\"1\" class=\"dataframe\">\n",
       "  <thead>\n",
       "    <tr style=\"text-align: right;\">\n",
       "      <th></th>\n",
       "      <th>Age</th>\n",
       "      <th>Race</th>\n",
       "      <th>Marital_Status</th>\n",
       "      <th>T_Stage</th>\n",
       "      <th>N_Stage</th>\n",
       "      <th>Sixth_Stage</th>\n",
       "      <th>Grade</th>\n",
       "      <th>A_Stage</th>\n",
       "      <th>Tumor_Size</th>\n",
       "      <th>Estrogen_Status</th>\n",
       "      <th>Progesterone_Status</th>\n",
       "      <th>Regional_Node_Examined</th>\n",
       "      <th>Regional_Node_Positive</th>\n",
       "      <th>Survival_Month</th>\n",
       "      <th>Status</th>\n",
       "      <th>year</th>\n",
       "    </tr>\n",
       "  </thead>\n",
       "  <tbody>\n",
       "    <tr>\n",
       "      <th>396</th>\n",
       "      <td>44</td>\n",
       "      <td>1</td>\n",
       "      <td>0</td>\n",
       "      <td>2</td>\n",
       "      <td>0</td>\n",
       "      <td>1</td>\n",
       "      <td>2</td>\n",
       "      <td>0</td>\n",
       "      <td>0.405693</td>\n",
       "      <td>0</td>\n",
       "      <td>0</td>\n",
       "      <td>1.177170</td>\n",
       "      <td>2</td>\n",
       "      <td>43.0</td>\n",
       "      <td>1</td>\n",
       "      <td>4</td>\n",
       "    </tr>\n",
       "    <tr>\n",
       "      <th>1735</th>\n",
       "      <td>59</td>\n",
       "      <td>1</td>\n",
       "      <td>0</td>\n",
       "      <td>1</td>\n",
       "      <td>0</td>\n",
       "      <td>0</td>\n",
       "      <td>2</td>\n",
       "      <td>0</td>\n",
       "      <td>-0.662350</td>\n",
       "      <td>0</td>\n",
       "      <td>0</td>\n",
       "      <td>-1.313628</td>\n",
       "      <td>1</td>\n",
       "      <td>68.0</td>\n",
       "      <td>0</td>\n",
       "      <td>6</td>\n",
       "    </tr>\n",
       "    <tr>\n",
       "      <th>3155</th>\n",
       "      <td>46</td>\n",
       "      <td>1</td>\n",
       "      <td>0</td>\n",
       "      <td>1</td>\n",
       "      <td>0</td>\n",
       "      <td>0</td>\n",
       "      <td>0</td>\n",
       "      <td>0</td>\n",
       "      <td>-1.266027</td>\n",
       "      <td>0</td>\n",
       "      <td>0</td>\n",
       "      <td>0.429930</td>\n",
       "      <td>2</td>\n",
       "      <td>92.0</td>\n",
       "      <td>0</td>\n",
       "      <td>8</td>\n",
       "    </tr>\n",
       "    <tr>\n",
       "      <th>2180</th>\n",
       "      <td>49</td>\n",
       "      <td>1</td>\n",
       "      <td>1</td>\n",
       "      <td>2</td>\n",
       "      <td>0</td>\n",
       "      <td>1</td>\n",
       "      <td>2</td>\n",
       "      <td>0</td>\n",
       "      <td>0.405693</td>\n",
       "      <td>0</td>\n",
       "      <td>0</td>\n",
       "      <td>0.679010</td>\n",
       "      <td>2</td>\n",
       "      <td>76.0</td>\n",
       "      <td>0</td>\n",
       "      <td>7</td>\n",
       "    </tr>\n",
       "    <tr>\n",
       "      <th>1893</th>\n",
       "      <td>44</td>\n",
       "      <td>1</td>\n",
       "      <td>0</td>\n",
       "      <td>4</td>\n",
       "      <td>2</td>\n",
       "      <td>4</td>\n",
       "      <td>1</td>\n",
       "      <td>1</td>\n",
       "      <td>3.563385</td>\n",
       "      <td>0</td>\n",
       "      <td>0</td>\n",
       "      <td>0.180851</td>\n",
       "      <td>14</td>\n",
       "      <td>71.0</td>\n",
       "      <td>1</td>\n",
       "      <td>6</td>\n",
       "    </tr>\n",
       "    <tr>\n",
       "      <th>34</th>\n",
       "      <td>58</td>\n",
       "      <td>1</td>\n",
       "      <td>0</td>\n",
       "      <td>2</td>\n",
       "      <td>2</td>\n",
       "      <td>4</td>\n",
       "      <td>1</td>\n",
       "      <td>0</td>\n",
       "      <td>-0.476604</td>\n",
       "      <td>0</td>\n",
       "      <td>1</td>\n",
       "      <td>0.056311</td>\n",
       "      <td>14</td>\n",
       "      <td>7.0</td>\n",
       "      <td>1</td>\n",
       "      <td>1</td>\n",
       "    </tr>\n",
       "    <tr>\n",
       "      <th>868</th>\n",
       "      <td>54</td>\n",
       "      <td>0</td>\n",
       "      <td>0</td>\n",
       "      <td>1</td>\n",
       "      <td>0</td>\n",
       "      <td>0</td>\n",
       "      <td>1</td>\n",
       "      <td>0</td>\n",
       "      <td>-0.569477</td>\n",
       "      <td>0</td>\n",
       "      <td>0</td>\n",
       "      <td>-0.192769</td>\n",
       "      <td>2</td>\n",
       "      <td>54.0</td>\n",
       "      <td>0</td>\n",
       "      <td>5</td>\n",
       "    </tr>\n",
       "    <tr>\n",
       "      <th>909</th>\n",
       "      <td>49</td>\n",
       "      <td>1</td>\n",
       "      <td>0</td>\n",
       "      <td>2</td>\n",
       "      <td>1</td>\n",
       "      <td>2</td>\n",
       "      <td>1</td>\n",
       "      <td>0</td>\n",
       "      <td>0.173509</td>\n",
       "      <td>0</td>\n",
       "      <td>0</td>\n",
       "      <td>-0.690929</td>\n",
       "      <td>8</td>\n",
       "      <td>55.0</td>\n",
       "      <td>0</td>\n",
       "      <td>5</td>\n",
       "    </tr>\n",
       "    <tr>\n",
       "      <th>2275</th>\n",
       "      <td>43</td>\n",
       "      <td>1</td>\n",
       "      <td>0</td>\n",
       "      <td>1</td>\n",
       "      <td>0</td>\n",
       "      <td>0</td>\n",
       "      <td>1</td>\n",
       "      <td>0</td>\n",
       "      <td>-0.755223</td>\n",
       "      <td>0</td>\n",
       "      <td>0</td>\n",
       "      <td>-0.940008</td>\n",
       "      <td>2</td>\n",
       "      <td>77.0</td>\n",
       "      <td>0</td>\n",
       "      <td>7</td>\n",
       "    </tr>\n",
       "    <tr>\n",
       "      <th>1638</th>\n",
       "      <td>51</td>\n",
       "      <td>1</td>\n",
       "      <td>0</td>\n",
       "      <td>1</td>\n",
       "      <td>0</td>\n",
       "      <td>0</td>\n",
       "      <td>1</td>\n",
       "      <td>0</td>\n",
       "      <td>-1.358900</td>\n",
       "      <td>0</td>\n",
       "      <td>1</td>\n",
       "      <td>-0.690929</td>\n",
       "      <td>2</td>\n",
       "      <td>66.0</td>\n",
       "      <td>0</td>\n",
       "      <td>6</td>\n",
       "    </tr>\n",
       "    <tr>\n",
       "      <th>2716</th>\n",
       "      <td>36</td>\n",
       "      <td>0</td>\n",
       "      <td>0</td>\n",
       "      <td>1</td>\n",
       "      <td>1</td>\n",
       "      <td>2</td>\n",
       "      <td>1</td>\n",
       "      <td>0</td>\n",
       "      <td>-0.940970</td>\n",
       "      <td>0</td>\n",
       "      <td>0</td>\n",
       "      <td>0.803550</td>\n",
       "      <td>6</td>\n",
       "      <td>84.0</td>\n",
       "      <td>0</td>\n",
       "      <td>7</td>\n",
       "    </tr>\n",
       "    <tr>\n",
       "      <th>2244</th>\n",
       "      <td>37</td>\n",
       "      <td>1</td>\n",
       "      <td>2</td>\n",
       "      <td>2</td>\n",
       "      <td>2</td>\n",
       "      <td>4</td>\n",
       "      <td>2</td>\n",
       "      <td>1</td>\n",
       "      <td>0.173509</td>\n",
       "      <td>0</td>\n",
       "      <td>0</td>\n",
       "      <td>0.429930</td>\n",
       "      <td>18</td>\n",
       "      <td>77.0</td>\n",
       "      <td>0</td>\n",
       "      <td>7</td>\n",
       "    </tr>\n",
       "    <tr>\n",
       "      <th>3305</th>\n",
       "      <td>58</td>\n",
       "      <td>1</td>\n",
       "      <td>0</td>\n",
       "      <td>2</td>\n",
       "      <td>0</td>\n",
       "      <td>1</td>\n",
       "      <td>1</td>\n",
       "      <td>0</td>\n",
       "      <td>-0.058674</td>\n",
       "      <td>0</td>\n",
       "      <td>1</td>\n",
       "      <td>-0.441849</td>\n",
       "      <td>2</td>\n",
       "      <td>95.0</td>\n",
       "      <td>0</td>\n",
       "      <td>8</td>\n",
       "    </tr>\n",
       "    <tr>\n",
       "      <th>2119</th>\n",
       "      <td>60</td>\n",
       "      <td>1</td>\n",
       "      <td>1</td>\n",
       "      <td>2</td>\n",
       "      <td>0</td>\n",
       "      <td>1</td>\n",
       "      <td>1</td>\n",
       "      <td>0</td>\n",
       "      <td>0.173509</td>\n",
       "      <td>0</td>\n",
       "      <td>0</td>\n",
       "      <td>-1.562708</td>\n",
       "      <td>1</td>\n",
       "      <td>75.0</td>\n",
       "      <td>0</td>\n",
       "      <td>7</td>\n",
       "    </tr>\n",
       "    <tr>\n",
       "      <th>2654</th>\n",
       "      <td>53</td>\n",
       "      <td>1</td>\n",
       "      <td>0</td>\n",
       "      <td>1</td>\n",
       "      <td>0</td>\n",
       "      <td>0</td>\n",
       "      <td>1</td>\n",
       "      <td>0</td>\n",
       "      <td>-0.755223</td>\n",
       "      <td>1</td>\n",
       "      <td>1</td>\n",
       "      <td>-1.562708</td>\n",
       "      <td>2</td>\n",
       "      <td>83.0</td>\n",
       "      <td>0</td>\n",
       "      <td>7</td>\n",
       "    </tr>\n",
       "    <tr>\n",
       "      <th>2679</th>\n",
       "      <td>56</td>\n",
       "      <td>1</td>\n",
       "      <td>1</td>\n",
       "      <td>2</td>\n",
       "      <td>0</td>\n",
       "      <td>1</td>\n",
       "      <td>0</td>\n",
       "      <td>0</td>\n",
       "      <td>-0.058674</td>\n",
       "      <td>0</td>\n",
       "      <td>0</td>\n",
       "      <td>-1.313628</td>\n",
       "      <td>1</td>\n",
       "      <td>84.0</td>\n",
       "      <td>0</td>\n",
       "      <td>7</td>\n",
       "    </tr>\n",
       "    <tr>\n",
       "      <th>3944</th>\n",
       "      <td>50</td>\n",
       "      <td>1</td>\n",
       "      <td>0</td>\n",
       "      <td>1</td>\n",
       "      <td>0</td>\n",
       "      <td>0</td>\n",
       "      <td>1</td>\n",
       "      <td>0</td>\n",
       "      <td>-0.615914</td>\n",
       "      <td>0</td>\n",
       "      <td>1</td>\n",
       "      <td>4.290666</td>\n",
       "      <td>1</td>\n",
       "      <td>106.0</td>\n",
       "      <td>0</td>\n",
       "      <td>9</td>\n",
       "    </tr>\n",
       "    <tr>\n",
       "      <th>1267</th>\n",
       "      <td>58</td>\n",
       "      <td>2</td>\n",
       "      <td>0</td>\n",
       "      <td>3</td>\n",
       "      <td>1</td>\n",
       "      <td>2</td>\n",
       "      <td>1</td>\n",
       "      <td>0</td>\n",
       "      <td>3.191891</td>\n",
       "      <td>0</td>\n",
       "      <td>0</td>\n",
       "      <td>0.305390</td>\n",
       "      <td>4</td>\n",
       "      <td>61.0</td>\n",
       "      <td>0</td>\n",
       "      <td>6</td>\n",
       "    </tr>\n",
       "    <tr>\n",
       "      <th>2249</th>\n",
       "      <td>60</td>\n",
       "      <td>1</td>\n",
       "      <td>1</td>\n",
       "      <td>2</td>\n",
       "      <td>0</td>\n",
       "      <td>1</td>\n",
       "      <td>1</td>\n",
       "      <td>0</td>\n",
       "      <td>-0.105110</td>\n",
       "      <td>1</td>\n",
       "      <td>1</td>\n",
       "      <td>0.679010</td>\n",
       "      <td>1</td>\n",
       "      <td>77.0</td>\n",
       "      <td>0</td>\n",
       "      <td>7</td>\n",
       "    </tr>\n",
       "    <tr>\n",
       "      <th>2098</th>\n",
       "      <td>44</td>\n",
       "      <td>0</td>\n",
       "      <td>0</td>\n",
       "      <td>1</td>\n",
       "      <td>0</td>\n",
       "      <td>0</td>\n",
       "      <td>2</td>\n",
       "      <td>0</td>\n",
       "      <td>-0.987407</td>\n",
       "      <td>0</td>\n",
       "      <td>0</td>\n",
       "      <td>-1.313628</td>\n",
       "      <td>1</td>\n",
       "      <td>74.0</td>\n",
       "      <td>0</td>\n",
       "      <td>7</td>\n",
       "    </tr>\n",
       "  </tbody>\n",
       "</table>\n",
       "</div>"
      ],
      "text/plain": [
       "      Age  Race  Marital_Status  T_Stage  N_Stage  Sixth_Stage  Grade  \\\n",
       "396    44     1               0        2        0            1      2   \n",
       "1735   59     1               0        1        0            0      2   \n",
       "3155   46     1               0        1        0            0      0   \n",
       "2180   49     1               1        2        0            1      2   \n",
       "1893   44     1               0        4        2            4      1   \n",
       "34     58     1               0        2        2            4      1   \n",
       "868    54     0               0        1        0            0      1   \n",
       "909    49     1               0        2        1            2      1   \n",
       "2275   43     1               0        1        0            0      1   \n",
       "1638   51     1               0        1        0            0      1   \n",
       "2716   36     0               0        1        1            2      1   \n",
       "2244   37     1               2        2        2            4      2   \n",
       "3305   58     1               0        2        0            1      1   \n",
       "2119   60     1               1        2        0            1      1   \n",
       "2654   53     1               0        1        0            0      1   \n",
       "2679   56     1               1        2        0            1      0   \n",
       "3944   50     1               0        1        0            0      1   \n",
       "1267   58     2               0        3        1            2      1   \n",
       "2249   60     1               1        2        0            1      1   \n",
       "2098   44     0               0        1        0            0      2   \n",
       "\n",
       "      A_Stage  Tumor_Size  Estrogen_Status  Progesterone_Status  \\\n",
       "396         0    0.405693                0                    0   \n",
       "1735        0   -0.662350                0                    0   \n",
       "3155        0   -1.266027                0                    0   \n",
       "2180        0    0.405693                0                    0   \n",
       "1893        1    3.563385                0                    0   \n",
       "34          0   -0.476604                0                    1   \n",
       "868         0   -0.569477                0                    0   \n",
       "909         0    0.173509                0                    0   \n",
       "2275        0   -0.755223                0                    0   \n",
       "1638        0   -1.358900                0                    1   \n",
       "2716        0   -0.940970                0                    0   \n",
       "2244        1    0.173509                0                    0   \n",
       "3305        0   -0.058674                0                    1   \n",
       "2119        0    0.173509                0                    0   \n",
       "2654        0   -0.755223                1                    1   \n",
       "2679        0   -0.058674                0                    0   \n",
       "3944        0   -0.615914                0                    1   \n",
       "1267        0    3.191891                0                    0   \n",
       "2249        0   -0.105110                1                    1   \n",
       "2098        0   -0.987407                0                    0   \n",
       "\n",
       "      Regional_Node_Examined  Regional_Node_Positive  Survival_Month  Status  \\\n",
       "396                 1.177170                       2            43.0       1   \n",
       "1735               -1.313628                       1            68.0       0   \n",
       "3155                0.429930                       2            92.0       0   \n",
       "2180                0.679010                       2            76.0       0   \n",
       "1893                0.180851                      14            71.0       1   \n",
       "34                  0.056311                      14             7.0       1   \n",
       "868                -0.192769                       2            54.0       0   \n",
       "909                -0.690929                       8            55.0       0   \n",
       "2275               -0.940008                       2            77.0       0   \n",
       "1638               -0.690929                       2            66.0       0   \n",
       "2716                0.803550                       6            84.0       0   \n",
       "2244                0.429930                      18            77.0       0   \n",
       "3305               -0.441849                       2            95.0       0   \n",
       "2119               -1.562708                       1            75.0       0   \n",
       "2654               -1.562708                       2            83.0       0   \n",
       "2679               -1.313628                       1            84.0       0   \n",
       "3944                4.290666                       1           106.0       0   \n",
       "1267                0.305390                       4            61.0       0   \n",
       "2249                0.679010                       1            77.0       0   \n",
       "2098               -1.313628                       1            74.0       0   \n",
       "\n",
       "      year  \n",
       "396      4  \n",
       "1735     6  \n",
       "3155     8  \n",
       "2180     7  \n",
       "1893     6  \n",
       "34       1  \n",
       "868      5  \n",
       "909      5  \n",
       "2275     7  \n",
       "1638     6  \n",
       "2716     7  \n",
       "2244     7  \n",
       "3305     8  \n",
       "2119     7  \n",
       "2654     7  \n",
       "2679     7  \n",
       "3944     9  \n",
       "1267     6  \n",
       "2249     7  \n",
       "2098     7  "
      ]
     },
     "execution_count": 58,
     "metadata": {},
     "output_type": "execute_result"
    }
   ],
   "source": [
    "from lifelines import CoxPHFitter\n",
    "from sklearn.model_selection import train_test_split\n",
    "from lifelines.utils import concordance_index\n",
    "from lifelines import utils\n",
    "from sklearn.metrics import mean_squared_error\n",
    "\n",
    "# 划分数据集为训练集和测试集\n",
    "df_train, df_test = train_test_split(df, test_size=0.3, random_state=42)\n",
    "\n",
    "df_train.head(20)"
   ]
  },
  {
   "cell_type": "markdown",
   "id": "31c50b67",
   "metadata": {},
   "source": [
    "\n",
    "#### (2.2.1) 比例风险模型"
   ]
  },
  {
   "cell_type": "markdown",
   "id": "9cba1d9a",
   "metadata": {},
   "source": [
    "#### （2.2.1.1）Cox比例风险模型"
   ]
  },
  {
   "cell_type": "code",
   "execution_count": 59,
   "id": "0de450f5",
   "metadata": {},
   "outputs": [
    {
     "name": "stdout",
     "output_type": "stream",
     "text": [
      "Index(['Race', 'T_Stage', 'N_Stage', 'Sixth_Stage', 'Grade', 'Estrogen_Status',\n",
      "       'Progesterone_Status', 'year'],\n",
      "      dtype='object', name='covariate')\n"
     ]
    }
   ],
   "source": [
    "cox_model=CoxPHFitter(penalizer=0.1)\n",
    "\n",
    "cox_model.fit(df_train,'Survival_Month','Status')\n",
    "\n",
    "threshold = 0.1\n",
    "\n",
    "# 输出特征系数\n",
    "#print(cox_model.summary) \n",
    "#打印摘要信息\n",
    "#每个特征的系数coef、系数的指数exp(coef)、系数的标准错误se(coef)、系数的95%置信区间下限coef lower 95%\n",
    "#系数的95%置信上限coef upper 95%、系数指数的95%置信下限exp(coef) lower 95%\n",
    "#cmp to：系数显著值>0———>该特征对生存时间有正面影响，否则为负面影响\n",
    "#z：z统计量（z值越大，系数的显著性越高）\n",
    "#p：p值，系数的显著性水平\n",
    "\n",
    "# 根据特征系数筛选特征\n",
    "selected_features = cox_model.summary.index[cox_model.summary['coef'].abs() > threshold]\n",
    "\n",
    "print(selected_features)"
   ]
  },
  {
   "cell_type": "code",
   "execution_count": 60,
   "id": "08395fbb",
   "metadata": {},
   "outputs": [
    {
     "data": {
      "image/png": "[encoded data removed]",
      "text/plain": [
       "<Figure size 864x576 with 1 Axes>"
      ]
     },
     "metadata": {
      "needs_background": "light"
     },
     "output_type": "display_data"
    }
   ],
   "source": [
    "import matplotlib.pyplot as plt\n",
    "\n",
    "# 获取 Cox 比例风险模型的摘要信息\n",
    "summary_df_cox = cox_model.summary\n",
    "\n",
    "# 选择需要显示的字段\n",
    "selected_columns = ['coef', 'coef lower 95%', 'coef upper 95%', 'z', 'p', 'cmp to']\n",
    "\n",
    "# 筛选出需要显示的列\n",
    "summary_df_cox = summary_df_cox[selected_columns]\n",
    "\n",
    "# 将数据四舍五入到后两位\n",
    "summary_df_cox = summary_df_cox.round(3)\n",
    "\n",
    "# 创建一个新的列来存储特征名称\n",
    "summary_df_cox['features'] = summary_df_cox.index\n",
    "\n",
    "# 将 features 列放在第一列\n",
    "summary_df_cox = summary_df_cox[['features'] + selected_columns]\n",
    "\n",
    "# 创建一个新的图表\n",
    "fig, ax = plt.subplots(figsize=(12, 8))\n",
    "\n",
    "# 添加标题\n",
    "plt.text(0.5, 0.87, 'Cox Proportional Hazard Model Summary', fontsize=18, fontweight='bold',\n",
    "         horizontalalignment='center', verticalalignment='center', transform=ax.transAxes,\n",
    "         bbox=dict(facecolor='lightgrey', alpha=0.5, edgecolor='none'))\n",
    "\n",
    "\n",
    "# 隐藏坐标轴\n",
    "ax.axis('off')\n",
    "\n",
    "# 将 DataFrame 转换为表格\n",
    "table = ax.table(cellText=summary_df_cox.values,\n",
    "                 colLabels=summary_df_cox.columns,\n",
    "                 loc='center',\n",
    "                 cellLoc='center')  \n",
    "\n",
    "# 设置表格字体大小\n",
    "table.auto_set_font_size(False)\n",
    "table.set_fontsize(14)\n",
    "\n",
    "# 设置表头字体加粗\n",
    "for (i, j), cell in table.get_celld().items():\n",
    "    if i == 0:\n",
    "        cell.set_text_props(fontweight='bold')\n",
    "\n",
    "# 在第一列中添加特征名称\n",
    "for i, feature_name in enumerate(summary_df_cox.index):\n",
    "    table[(i+1, 0)].get_text().set_text(feature_name)\n",
    "\n",
    "# 调整表格布局\n",
    "table.auto_set_column_width(col=list(range(len(summary_df_cox.columns))))\n",
    "\n",
    "# 调整单元格间距\n",
    "table.scale(1.5, 1.5)\n",
    "\n",
    "# 保存图片\n",
    "plt.savefig('cox_model_summary.png', bbox_inches='tight', pad_inches=0.5)\n"
   ]
  },
  {
   "cell_type": "code",
   "execution_count": 61,
   "id": "99fc26ef",
   "metadata": {},
   "outputs": [
    {
     "name": "stdout",
     "output_type": "stream",
     "text": [
      "680      89.666340\n",
      "2054     99.057245\n",
      "3347    101.220642\n",
      "2250     95.097486\n",
      "1542     95.804975\n",
      "           ...    \n",
      "489      79.264797\n",
      "3711    101.411133\n",
      "4012    104.751978\n",
      "2987    103.750047\n",
      "2810    104.120262\n",
      "Length: 866, dtype: float64\n"
     ]
    }
   ],
   "source": [
    "# 使用测试集数据进行预测\n",
    "predicted_survival_cox = cox_model.predict_expectation(df_test)\n",
    "\n",
    "# 输出预测的生存时间\n",
    "print(predicted_survival_cox)"
   ]
  },
  {
   "cell_type": "code",
   "execution_count": 62,
   "id": "ec030101",
   "metadata": {},
   "outputs": [
    {
     "name": "stdout",
     "output_type": "stream",
     "text": [
      "Cox Concordance Index: 0.9477656970455969\n"
     ]
    }
   ],
   "source": [
    "# 计算 Concordance Index\n",
    "c_index_cox = concordance_index(df_test['Survival_Month'], predicted_survival_cox,df_test['Status'])\n",
    "print(\"Cox Concordance Index:\", c_index_cox)"
   ]
  },
  {
   "cell_type": "code",
   "execution_count": 63,
   "id": "d39b175c",
   "metadata": {},
   "outputs": [
    {
     "name": "stdout",
     "output_type": "stream",
     "text": [
      "Cox Brier Score: 0.05223430295440314\n"
     ]
    }
   ],
   "source": [
    "# 计算 Brier Score\n",
    "brier_score_cox = utils.concordance_index(df_test['Survival_Month'], -predicted_survival_cox, df_test['Status'])\n",
    "print(\"Cox Brier Score:\", brier_score_cox)"
   ]
  },
  {
   "cell_type": "code",
   "execution_count": 64,
   "id": "d19dbf51",
   "metadata": {},
   "outputs": [
    {
     "name": "stdout",
     "output_type": "stream",
     "text": [
      "Cox RMSE: 24.327380443292697\n"
     ]
    }
   ],
   "source": [
    "# 计算RMSE\n",
    "RMSE_cox=np.sqrt(mean_squared_error(df_test['Survival_Month'],predicted_survival_cox))\n",
    "print(\"Cox RMSE:\",RMSE_cox)"
   ]
  },
  {
   "cell_type": "code",
   "execution_count": 65,
   "id": "1cf3a788",
   "metadata": {},
   "outputs": [
    {
     "name": "stdout",
     "output_type": "stream",
     "text": [
      "Cox SSE: 512517.36637551815\n"
     ]
    }
   ],
   "source": [
    "# 计算残差平方和\n",
    "residuals_cox=df_test['Survival_Month']-predicted_survival_cox\n",
    "sse_cox=np.sum(residuals_cox**2)\n",
    "print(\"Cox SSE:\",sse_cox)"
   ]
  },
  {
   "cell_type": "markdown",
   "id": "16e753cb",
   "metadata": {},
   "source": [
    "#### (2.2.1.2) Weibull比例风险模型"
   ]
  },
  {
   "cell_type": "code",
   "execution_count": 66,
   "id": "fd2dcbf5",
   "metadata": {},
   "outputs": [],
   "source": [
    "from lifelines import WeibullAFTFitter"
   ]
  },
  {
   "cell_type": "code",
   "execution_count": 67,
   "id": "2fa6fe5a",
   "metadata": {},
   "outputs": [],
   "source": [
    "weibull_model=WeibullAFTFitter()\n",
    "\n",
    "weibull_model.fit(df_train,duration_col='Survival_Month',event_col='Status')\n",
    "\n",
    "predicted_survival_weibull=weibull_model.predict_expectation(df_test)"
   ]
  },
  {
   "cell_type": "code",
   "execution_count": 68,
   "id": "99e493f6",
   "metadata": {},
   "outputs": [
    {
     "name": "stdout",
     "output_type": "stream",
     "text": [
      "                                 coef  coef lower 95%  coef upper 95%       z  \\\n",
      "param   covariate                                                               \n",
      "lambda_ A_Stage                -0.026          -0.120           0.067  -0.553   \n",
      "        Age                     0.004           0.001           0.006   2.491   \n",
      "        Estrogen_Status        -0.042          -0.104           0.019  -1.348   \n",
      "        Grade                  -0.035          -0.070          -0.000  -1.970   \n",
      "        Marital_Status         -0.009          -0.029           0.010  -0.921   \n",
      "        N_Stage                -0.001          -0.077           0.076  -0.018   \n",
      "        Progesterone_Status    -0.075          -0.129          -0.020  -2.686   \n",
      "        Race                   -0.040          -0.094           0.014  -1.441   \n",
      "        Regional_Node_Examined  0.030           0.005           0.055   2.322   \n",
      "        Regional_Node_Positive -0.002          -0.008           0.004  -0.601   \n",
      "        Sixth_Stage            -0.035          -0.086           0.016  -1.352   \n",
      "        T_Stage                -0.085          -0.132          -0.038  -3.537   \n",
      "        Tumor_Size              0.048           0.018           0.078   3.113   \n",
      "        year                    0.348           0.330           0.366  37.242   \n",
      "        Intercept               2.670           2.491           2.849  29.204   \n",
      "rho_    Intercept               1.815           1.714           1.916  35.307   \n",
      "\n",
      "                                    p  cmp to  \n",
      "param   covariate                              \n",
      "lambda_ A_Stage                 0.581     0.0  \n",
      "        Age                     0.013     0.0  \n",
      "        Estrogen_Status         0.178     0.0  \n",
      "        Grade                   0.049     0.0  \n",
      "        Marital_Status          0.357     0.0  \n",
      "        N_Stage                 0.986     0.0  \n",
      "        Progesterone_Status     0.007     0.0  \n",
      "        Race                    0.150     0.0  \n",
      "        Regional_Node_Examined  0.020     0.0  \n",
      "        Regional_Node_Positive  0.548     0.0  \n",
      "        Sixth_Stage             0.176     0.0  \n",
      "        T_Stage                 0.000     0.0  \n",
      "        Tumor_Size              0.002     0.0  \n",
      "        year                    0.000     0.0  \n",
      "        Intercept               0.000     0.0  \n",
      "rho_    Intercept               0.000     0.0  \n"
     ]
    },
    {
     "data": {
      "image/png": "[encoded data removed]",
      "text/plain": [
       "<Figure size 864x576 with 1 Axes>"
      ]
     },
     "metadata": {
      "needs_background": "light"
     },
     "output_type": "display_data"
    }
   ],
   "source": [
    "import matplotlib.pyplot as plt\n",
    "\n",
    "# 获取 Cox 比例风险模型的摘要信息\n",
    "summary_df_weibull = weibull_model.summary\n",
    "\n",
    "# 选择需要显示的字段\n",
    "selected_columns = ['coef', 'coef lower 95%', 'coef upper 95%', 'z', 'p', 'cmp to']\n",
    "\n",
    "# 筛选出需要显示的列\n",
    "summary_df_weibull = summary_df_weibull[selected_columns]\n",
    "\n",
    "# 将数据四舍五入到后两位\n",
    "summary_df_weibull = summary_df_weibull.round(3)\n",
    "print(summary_df_weibull)\n",
    "\n",
    "# 创建一个新的列来存储特征名称\n",
    "summary_df_weibull['features'] = summary_df_weibull.index\n",
    "\n",
    "# 将 features 列放在第一列\n",
    "summary_df_weibull = summary_df_weibull[['features'] + selected_columns]\n",
    "\n",
    "# 创建一个新的图表\n",
    "fig, ax = plt.subplots(figsize=(12, 8))\n",
    "\n",
    "# 添加标题\n",
    "plt.text(0.5, 0.87, 'Weibull Proportional Hazard Model Summary', fontsize=18, fontweight='bold',\n",
    "         horizontalalignment='center', verticalalignment='center', transform=ax.transAxes,\n",
    "         bbox=dict(facecolor='lightgrey', alpha=0.5, edgecolor='none'))\n",
    "\n",
    "# 隐藏坐标轴\n",
    "ax.axis('off')\n",
    "\n",
    "# 将 DataFrame 转换为表格\n",
    "table = ax.table(cellText=summary_df_weibull.values,\n",
    "                 colLabels=summary_df_weibull.columns,\n",
    "                 loc='center',\n",
    "                 cellLoc='center')  \n",
    "\n",
    "# 设置表格字体大小\n",
    "table.auto_set_font_size(False)\n",
    "table.set_fontsize(14)\n",
    "\n",
    "# 设置表头字体加粗\n",
    "for (i, j), cell in table.get_celld().items():\n",
    "    if i == 0:\n",
    "        cell.set_text_props(fontweight='bold')\n",
    "\n",
    "# 在第一列中添加特征名称\n",
    "for i, feature_name in enumerate(summary_df_weibull.index):\n",
    "    table[(i+1, 0)].get_text().set_text(feature_name)\n",
    "\n",
    "# 调整表格布局\n",
    "table.auto_set_column_width(col=list(range(len(summary_df_weibull.columns))))\n",
    "\n",
    "# 调整单元格间距\n",
    "table.scale(1.5, 1.5)\n",
    "\n",
    "# 保存图片\n",
    "plt.savefig('weibull_model_summary.png', bbox_inches='tight', pad_inches=0.5)\n"
   ]
  },
  {
   "cell_type": "code",
   "execution_count": 69,
   "id": "2d77e03d",
   "metadata": {},
   "outputs": [
    {
     "name": "stdout",
     "output_type": "stream",
     "text": [
      "Weibull Concordance Index: 0.972027096260033\n"
     ]
    }
   ],
   "source": [
    "# 计算 Concordance Index\n",
    "c_index_weibull = concordance_index(df_test['Survival_Month'], predicted_survival_weibull, df_test['Status'])\n",
    "print(\"Weibull Concordance Index:\", c_index_weibull)"
   ]
  },
  {
   "cell_type": "code",
   "execution_count": 70,
   "id": "977f3897",
   "metadata": {},
   "outputs": [
    {
     "name": "stdout",
     "output_type": "stream",
     "text": [
      "Weibull Brier Score: 0.027972903739966984\n"
     ]
    }
   ],
   "source": [
    "# 计算 Brier Score\n",
    "brier_score_weibull = utils.concordance_index(df_test['Survival_Month'], -predicted_survival_weibull, df_test['Status'])\n",
    "print(\"Weibull Brier Score:\", brier_score_weibull)"
   ]
  },
  {
   "cell_type": "code",
   "execution_count": 71,
   "id": "31720310",
   "metadata": {},
   "outputs": [
    {
     "name": "stdout",
     "output_type": "stream",
     "text": [
      "Weibull RMSE: 86.70689100814964\n"
     ]
    }
   ],
   "source": [
    "# 计算RMSE\n",
    "RMSE_weibull=np.sqrt(mean_squared_error(df_test['Survival_Month'],predicted_survival_weibull))\n",
    "print(\"Weibull RMSE:\",RMSE_weibull)"
   ]
  },
  {
   "cell_type": "code",
   "execution_count": 72,
   "id": "3cb6ad23",
   "metadata": {},
   "outputs": [
    {
     "name": "stdout",
     "output_type": "stream",
     "text": [
      "Weibull SSE: 6510661.565227055\n"
     ]
    }
   ],
   "source": [
    "# 计算残差平方和\n",
    "residuals_weibull=df_test['Survival_Month']-predicted_survival_weibull\n",
    "sse_weibull=np.sum(residuals_weibull**2)\n",
    "print(\"Weibull SSE:\",sse_weibull)"
   ]
  },
  {
   "cell_type": "markdown",
   "id": "a17c45c6",
   "metadata": {},
   "source": [
    "#### (2.3) 加速失效时间模型"
   ]
  },
  {
   "cell_type": "markdown",
   "id": "bf26a7bd",
   "metadata": {},
   "source": [
    "#### (2.3.1) 对数正态分布的加速失效时间模型"
   ]
  },
  {
   "cell_type": "code",
   "execution_count": 73,
   "id": "82badec4",
   "metadata": {},
   "outputs": [
    {
     "name": "stdout",
     "output_type": "stream",
     "text": [
      "680      78.290213\n",
      "2054    174.006760\n",
      "3347    241.992666\n",
      "2250    149.302937\n",
      "1542    110.957521\n",
      "           ...    \n",
      "489      53.280010\n",
      "3711    309.453847\n",
      "4012    414.575533\n",
      "2987    284.410123\n",
      "2810    311.912655\n",
      "Length: 866, dtype: float64\n"
     ]
    }
   ],
   "source": [
    "from lifelines import LogNormalAFTFitter\n",
    "from lifelines.datasets import load_rossi\n",
    "from sklearn.model_selection import train_test_split\n",
    "\n",
    "# 创建对数正态分布的加速失效时间模型对象\n",
    "aft_model = LogNormalAFTFitter()\n",
    "\n",
    "# 使用训练集数据拟合对数正态分布的AFT模型\n",
    "aft_model.fit(df_train, duration_col='Survival_Month', event_col='Status')\n",
    "\n",
    "# 使用测试集数据进行预测\n",
    "predicted_survival_aft= aft_model.predict_expectation(df_test)\n",
    "\n",
    "# 输出预测的生存时间\n",
    "print(predicted_survival_aft)\n"
   ]
  },
  {
   "cell_type": "code",
   "execution_count": 74,
   "id": "b03371a4",
   "metadata": {},
   "outputs": [
    {
     "name": "stdout",
     "output_type": "stream",
     "text": [
      "                                coef  coef lower 95%  coef upper 95%       z  \\\n",
      "param  covariate                                                               \n",
      "mu_    A_Stage                 0.064          -0.102           0.229   0.754   \n",
      "       Age                     0.004           0.000           0.008   1.978   \n",
      "       Estrogen_Status        -0.082          -0.187           0.023  -1.535   \n",
      "       Grade                  -0.042          -0.091           0.007  -1.685   \n",
      "       Marital_Status         -0.014          -0.044           0.015  -0.934   \n",
      "       N_Stage                -0.002          -0.119           0.116  -0.026   \n",
      "       Progesterone_Status    -0.117          -0.201          -0.034  -2.761   \n",
      "       Race                   -0.058          -0.133           0.016  -1.528   \n",
      "       Regional_Node_Examined  0.037           0.004           0.070   2.171   \n",
      "       Regional_Node_Positive -0.007          -0.017           0.002  -1.536   \n",
      "       Sixth_Stage            -0.036          -0.111           0.039  -0.936   \n",
      "       T_Stage                -0.088          -0.163          -0.014  -2.331   \n",
      "       Tumor_Size              0.045           0.002           0.088   2.030   \n",
      "       year                    0.373           0.355           0.392  39.255   \n",
      "       Intercept               2.623           2.355           2.891  19.174   \n",
      "sigma_ Intercept              -1.052          -1.138          -0.965 -23.799   \n",
      "\n",
      "                                   p  cmp to  \n",
      "param  covariate                              \n",
      "mu_    A_Stage                 0.451     0.0  \n",
      "       Age                     0.048     0.0  \n",
      "       Estrogen_Status         0.125     0.0  \n",
      "       Grade                   0.092     0.0  \n",
      "       Marital_Status          0.350     0.0  \n",
      "       N_Stage                 0.979     0.0  \n",
      "       Progesterone_Status     0.006     0.0  \n",
      "       Race                    0.126     0.0  \n",
      "       Regional_Node_Examined  0.030     0.0  \n",
      "       Regional_Node_Positive  0.124     0.0  \n",
      "       Sixth_Stage             0.349     0.0  \n",
      "       T_Stage                 0.020     0.0  \n",
      "       Tumor_Size              0.042     0.0  \n",
      "       year                    0.000     0.0  \n",
      "       Intercept               0.000     0.0  \n",
      "sigma_ Intercept               0.000     0.0  \n"
     ]
    }
   ],
   "source": [
    "import pandas as pd\n",
    "import matplotlib.pyplot as plt\n",
    "\n",
    "# 获取 AFT 模型的摘要信息\n",
    "summary_df_aft = aft_model.summary\n",
    "\n",
    "# 选择需要显示的字段\n",
    "selected_columns = ['coef', 'coef lower 95%', 'coef upper 95%', 'z', 'p', 'cmp to']\n",
    "\n",
    "# 筛选出需要显示的列\n",
    "summary_df_aft = summary_df_aft[selected_columns]\n",
    "\n",
    "\n",
    "summary_df_aft = summary_df_aft.round(3)\n",
    "\n",
    "print(summary_df_aft)"
   ]
  },
  {
   "cell_type": "code",
   "execution_count": 75,
   "id": "13adafcb",
   "metadata": {},
   "outputs": [
    {
     "name": "stdout",
     "output_type": "stream",
     "text": [
      "aft Concordance Index: 0.9717538566630615\n"
     ]
    }
   ],
   "source": [
    "# 计算一致性指数\n",
    "c_index_aft = concordance_index(df_test['Survival_Month'], predicted_survival_aft, event_observed=df_test['Status'])\n",
    "\n",
    "# 输出一致性指数\n",
    "print(\"aft Concordance Index:\", c_index_aft)"
   ]
  },
  {
   "cell_type": "code",
   "execution_count": 76,
   "id": "2d15270f",
   "metadata": {},
   "outputs": [
    {
     "name": "stdout",
     "output_type": "stream",
     "text": [
      "aft Brier Score: 0.02824614333693858\n"
     ]
    }
   ],
   "source": [
    "# 计算 Brier Score\n",
    "brier_score_aft = utils.concordance_index(df_test['Survival_Month'], -predicted_survival_aft, df_test['Status'])\n",
    "print(\"aft Brier Score:\", brier_score_aft)"
   ]
  },
  {
   "cell_type": "code",
   "execution_count": 77,
   "id": "e97e8a88",
   "metadata": {},
   "outputs": [
    {
     "name": "stdout",
     "output_type": "stream",
     "text": [
      "Aft RMSE: 135.48948505714992\n"
     ]
    }
   ],
   "source": [
    "# 计算RMSE\n",
    "RMSE_aft=np.sqrt(mean_squared_error(df_test['Survival_Month'],predicted_survival_aft))\n",
    "print(\"Aft RMSE:\",RMSE_aft)"
   ]
  },
  {
   "cell_type": "code",
   "execution_count": 78,
   "id": "b23d9c3c",
   "metadata": {},
   "outputs": [
    {
     "name": "stdout",
     "output_type": "stream",
     "text": [
      "Aft SSE: 15897508.885870729\n"
     ]
    }
   ],
   "source": [
    "# 计算残差平方和\n",
    "residuals_aft=df_test['Survival_Month']-predicted_survival_aft\n",
    "sse_aft=np.sum(residuals_aft**2)\n",
    "print(\"Aft SSE:\",sse_aft)"
   ]
  },
  {
   "cell_type": "markdown",
   "id": "6b64c740",
   "metadata": {},
   "source": [
    "### 比较Cox、Weibull、aft三种模型"
   ]
  },
  {
   "cell_type": "markdown",
   "id": "69ea4c55",
   "metadata": {},
   "source": [
    "#### 1. 绘制生存曲线"
   ]
  },
  {
   "cell_type": "code",
   "execution_count": 79,
   "id": "6154ea76",
   "metadata": {},
   "outputs": [
    {
     "data": {
      "image/png": "[encoded data removed]",
      "text/plain": [
       "<Figure size 432x288 with 1 Axes>"
      ]
     },
     "metadata": {
      "needs_background": "light"
     },
     "output_type": "display_data"
    }
   ],
   "source": [
    "import matplotlib.pyplot as plt\n",
    "from lifelines import KaplanMeierFitter\n",
    "\n",
    "# 创建 Kaplan-Meier 生存曲线对象\n",
    "kmf_cox = KaplanMeierFitter()\n",
    "kmf_weibull = KaplanMeierFitter()\n",
    "kmf_aft = KaplanMeierFitter()\n",
    "kmf_raw=KaplanMeierFitter()\n",
    "\n",
    "event_times_cox = predicted_survival_cox\n",
    "event_observed_cox = df_test['Status']\n",
    "event_times_weibull = predicted_survival_weibull\n",
    "event_observed_weibull = df_test['Status']\n",
    "event_times_aft = predicted_survival_aft\n",
    "event_observed_aft = df_test['Status']\n",
    "event_times_raw=df_test['Survival_Month']\n",
    "event_observed_raw=df_test['Status']\n",
    "\n",
    "# 根据事件数据和生存时间数据拟合 Kaplan-Meier 生存曲线\n",
    "kmf_cox.fit(event_times_cox, event_observed=event_observed_cox)\n",
    "kmf_weibull.fit(event_times_weibull, event_observed=event_observed_weibull)\n",
    "kmf_aft.fit(event_times_aft, event_observed=event_observed_aft)\n",
    "kmf_raw.fit(event_times_raw,event_observed=event_observed_raw)\n",
    "\n",
    "# 绘制生存曲线\n",
    "kmf_cox.plot(label='Cox Model')\n",
    "kmf_weibull.plot(label='Weibull Model')\n",
    "kmf_aft.plot(label='AFT Model')\n",
    "kmf_raw.plot(label='True Values')\n",
    "\n",
    "# 添加标题和标签\n",
    "plt.title('Survival Curves of Three Models')\n",
    "plt.xlabel('Time')\n",
    "plt.ylabel('Survival Probability')\n",
    "\n",
    "# 添加图例\n",
    "plt.legend()\n",
    "\n",
    "# 显示图表\n",
    "plt.show()\n"
   ]
  },
  {
   "cell_type": "markdown",
   "id": "0b5fb057",
   "metadata": {},
   "source": [
    "1. C-index: 评估模型对样本的排列顺序是否正确，C-index越接近1表示模型的预测越准确<br>\n",
    "2. Brier Score: 用于评估生存模型的预测准确度，是对模型预测与实际观察值之间的差异进行平方后的平均值，越接近0表示模型的预测越准确<br>\n",
    "3. Log-rank Test: 用于比较不同生存曲线之间的差异是否显著<br>\n",
    "4. Calibration Plot: 用于观察模型的预测值与实际观察值之间的关系，以评估模型的校准性能"
   ]
  },
  {
   "cell_type": "markdown",
   "id": "5e9f4795",
   "metadata": {},
   "source": [
    "#### 2. Kruskai-Wallis检验"
   ]
  },
  {
   "cell_type": "code",
   "execution_count": 80,
   "id": "ff0b1c8e",
   "metadata": {},
   "outputs": [],
   "source": [
    "from scipy.stats import kruskal"
   ]
  },
  {
   "cell_type": "code",
   "execution_count": 81,
   "id": "6f1d7f38",
   "metadata": {},
   "outputs": [
    {
     "name": "stdout",
     "output_type": "stream",
     "text": [
      "Kruskal-Wallis test statistic: 216.68666273284907\n",
      "P-value: 8.85297089723347e-48\n"
     ]
    }
   ],
   "source": [
    "group1_survival_times=predicted_survival_cox\n",
    "group2_survival_times=predicted_survival_weibull\n",
    "group3_survival_times=predicted_survival_aft\n",
    "\n",
    "# 执行Kruskal-Wallis检验\n",
    "statistic, p_value = kruskal(group1_survival_times, group2_survival_times, group3_survival_times)\n",
    "\n",
    "# 输出结果\n",
    "print(\"Kruskal-Wallis test statistic:\", statistic)\n",
    "print(\"P-value:\", p_value)"
   ]
  },
  {
   "cell_type": "markdown",
   "id": "012112a3",
   "metadata": {},
   "source": [
    "1. Kruskal-Wallis检验统计量（Kruskal-Wallis test statistic）：这个值是根据样本数据计算出来的统计量，用于衡量三个或多个组之间的差异程度。较大的统计量表示组之间的差异较大。<br>\n",
    "2. p-value：p-value表示在原假设为真的情况下，观察到与实际数据一样极端或更极端结果的概率。在这个情况下，p-value非常接近零，通常小于显著性水平（通常为0.05）。<br>\n",
    "因此，我们可以拒绝原假设，并得出结论：三组生存时间存在显著差异。"
   ]
  },
  {
   "cell_type": "markdown",
   "id": "135abe56",
   "metadata": {},
   "source": [
    "### 3. 模型平均方法"
   ]
  },
  {
   "cell_type": "code",
   "execution_count": 82,
   "id": "053816a4",
   "metadata": {},
   "outputs": [],
   "source": [
    "from sklearn.metrics import mean_squared_error, mean_absolute_error\n",
    "from sklearn.metrics import r2_score\n",
    "from sklearn.metrics import accuracy_score"
   ]
  },
  {
   "cell_type": "markdown",
   "id": "64f777f3",
   "metadata": {},
   "source": [
    "#### (3.1) 贝叶斯模型平均方法"
   ]
  },
  {
   "cell_type": "code",
   "execution_count": 83,
   "id": "915ac100",
   "metadata": {},
   "outputs": [
    {
     "name": "stdout",
     "output_type": "stream",
     "text": [
      "-1589.8011046316587\n",
      "-1209.1679382521206\n",
      "-1275.3240773244738\n"
     ]
    }
   ],
   "source": [
    "# 计算 Cox 比例风险模型的似然度\n",
    "cox_log_likelihood = cox_model.log_likelihood_\n",
    "print(cox_log_likelihood)\n",
    "\n",
    "# 计算 Weibull 比例风险模型的似然度\n",
    "weibull_log_likelihood = weibull_model.log_likelihood_\n",
    "print(weibull_log_likelihood)\n",
    "\n",
    "# 计算对数正态分布的加速失效时间模型的似然度\n",
    "aft_log_likelihood = aft_model.log_likelihood_\n",
    "print(aft_log_likelihood)"
   ]
  },
  {
   "cell_type": "code",
   "execution_count": 84,
   "id": "827d37fb",
   "metadata": {},
   "outputs": [],
   "source": [
    "# 将似然度放入数组中\n",
    "log_likelihoods = np.array([cox_log_likelihood, weibull_log_likelihood, aft_log_likelihood])"
   ]
  },
  {
   "cell_type": "code",
   "execution_count": 85,
   "id": "bf8f2c82",
   "metadata": {},
   "outputs": [
    {
     "data": {
      "text/plain": [
       "array([-1589.80110463, -1209.16793825, -1275.32407732])"
      ]
     },
     "execution_count": 85,
     "metadata": {},
     "output_type": "execute_result"
    }
   ],
   "source": [
    "log_likelihoods"
   ]
  },
  {
   "cell_type": "code",
   "execution_count": 86,
   "id": "6e6d6d0a",
   "metadata": {},
   "outputs": [],
   "source": [
    "# 假设每个模型的先验权重相等\n",
    "prior_weights = np.ones(3) / 3\n",
    "\n",
    "# 计算证据（evidence），即所有模型的先验权重乘以其似然度的总和\n",
    "evidence = np.sum(prior_weights * log_likelihoods)"
   ]
  },
  {
   "cell_type": "code",
   "execution_count": 87,
   "id": "19853a70",
   "metadata": {},
   "outputs": [],
   "source": [
    "# 计算后验权重（作为贝叶斯模型平均中每个模型的权重）\n",
    "posterior_weights = (prior_weights * log_likelihoods) / evidence"
   ]
  },
  {
   "cell_type": "code",
   "execution_count": 88,
   "id": "fb2c5e45",
   "metadata": {},
   "outputs": [
    {
     "data": {
      "text/plain": [
       "array([0.39020293, 0.29677981, 0.31301726])"
      ]
     },
     "execution_count": 88,
     "metadata": {},
     "output_type": "execute_result"
    }
   ],
   "source": [
    "posterior_weights"
   ]
  },
  {
   "cell_type": "code",
   "execution_count": 89,
   "id": "43be4fe1",
   "metadata": {},
   "outputs": [],
   "source": [
    "# 利用后验权重对每个模型的预测结果进行加权平均\n",
    "predicted_survival_bayes = (posterior_weights[0] * predicted_survival_cox +\n",
    "                               posterior_weights[1] * predicted_survival_weibull +\n",
    "                               posterior_weights[2] * predicted_survival_aft)"
   ]
  },
  {
   "cell_type": "code",
   "execution_count": 90,
   "id": "413958da",
   "metadata": {},
   "outputs": [
    {
     "data": {
      "text/plain": [
       "680      78.725972\n",
       "2054    133.862410\n",
       "3347    171.169543\n",
       "2250    120.449518\n",
       "1542     98.686201\n",
       "           ...    \n",
       "489      61.178784\n",
       "3711    211.401425\n",
       "4012    260.490615\n",
       "2987    193.308136\n",
       "2810    207.064517\n",
       "Length: 866, dtype: float64"
      ]
     },
     "execution_count": 90,
     "metadata": {},
     "output_type": "execute_result"
    }
   ],
   "source": [
    "predicted_survival_bayes"
   ]
  },
  {
   "cell_type": "code",
   "execution_count": 91,
   "id": "31883979",
   "metadata": {},
   "outputs": [
    {
     "name": "stdout",
     "output_type": "stream",
     "text": [
      "Bayes Concordance Index: 0.9693174702567313\n"
     ]
    }
   ],
   "source": [
    "# 计算CI值\n",
    "c_index_bayes = concordance_index(df_test['Survival_Month'], predicted_survival_bayes,df_test['Status'])\n",
    "\n",
    "print(\"Bayes Concordance Index:\", c_index_bayes)"
   ]
  },
  {
   "cell_type": "code",
   "execution_count": 92,
   "id": "d7ceac98",
   "metadata": {},
   "outputs": [
    {
     "name": "stdout",
     "output_type": "stream",
     "text": [
      "Bayes RMSE: 72.10696139036597\n"
     ]
    }
   ],
   "source": [
    "# 计算RMSE（均方根误差）\n",
    "RMSE_bayes=np.sqrt(mean_squared_error(df_test['Survival_Month'],predicted_survival_bayes))\n",
    "print(\"Bayes RMSE:\",RMSE_bayes)"
   ]
  },
  {
   "cell_type": "code",
   "execution_count": 93,
   "id": "a413a073",
   "metadata": {},
   "outputs": [
    {
     "name": "stdout",
     "output_type": "stream",
     "text": [
      "Bayes Brier Score: 0.030682529743268627\n"
     ]
    }
   ],
   "source": [
    "# 计算 Brier Score\n",
    "brier_score_bayes = utils.concordance_index(df_test['Survival_Month'], -predicted_survival_bayes, df_test['Status'])\n",
    "print(\"Bayes Brier Score:\", brier_score_bayes)"
   ]
  },
  {
   "cell_type": "code",
   "execution_count": 94,
   "id": "5db60397",
   "metadata": {},
   "outputs": [
    {
     "name": "stdout",
     "output_type": "stream",
     "text": [
      "Bayes MAE: 58.15201929330543\n"
     ]
    }
   ],
   "source": [
    "# 计算平均绝对误差\n",
    "mae_bayes = mean_absolute_error(df_test['Survival_Month'],predicted_survival_bayes)\n",
    "print(\"Bayes MAE:\", mae_bayes)"
   ]
  },
  {
   "cell_type": "markdown",
   "id": "b92d57a0",
   "metadata": {},
   "source": [
    "#### (3.2) Bagging"
   ]
  },
  {
   "cell_type": "code",
   "execution_count": 95,
   "id": "c42a2705",
   "metadata": {},
   "outputs": [
    {
     "name": "stderr",
     "output_type": "stream",
     "text": [
      "/Users/linjiaxi/Anaconda/anaconda3/lib/python3.9/site-packages/sklearn/ensemble/_base.py:156: FutureWarning: `base_estimator` was renamed to `estimator` in version 1.2 and will be removed in 1.4.\n",
      "  warnings.warn(\n"
     ]
    },
    {
     "name": "stdout",
     "output_type": "stream",
     "text": [
      "Bagging Model MSE: 18.422090069284067\n"
     ]
    }
   ],
   "source": [
    "from sklearn.ensemble import BaggingRegressor\n",
    "from sklearn.model_selection import train_test_split\n",
    "from lifelines import CoxPHFitter, WeibullAFTFitter\n",
    "from sklearn.metrics import mean_squared_error\n",
    "\n",
    "X_train=df_train.drop(columns=['Survival_Month','Status'],inplace=False)\n",
    "y_train=df_train['Survival_Month']\n",
    "X_test=df_test.drop(columns=['Survival_Month','Status'],inplace=False)\n",
    "y_test=df_test['Survival_Month']\n",
    "\n",
    "# 定义 BaggingRegressor 模型对象\n",
    "bagging_model = BaggingRegressor(base_estimator=None, n_estimators=10, random_state=42)\n",
    "\n",
    "# 将 Cox 和 Weibull 模型的预测结果作为训练数据\n",
    "bagging_X_train = pd.DataFrame({\n",
    "    'Cox_Predictions': cox_model.predict_expectation(X_train),\n",
    "    'Weibull_Predictions': aft_model.predict_expectation(X_train),\n",
    "    'Aft_Predicions':aft_model.predict_expectation(X_train)\n",
    "})\n",
    "\n",
    "# 将 Cox 和 Weibull 模型的预测结果作为测试数据\n",
    "bagging_X_test = pd.DataFrame({\n",
    "    'Cox_Predictions': cox_model.predict_expectation(X_test),\n",
    "    'Weibull_Predictions': aft_model.predict_expectation(X_test),\n",
    "    'Aft_Predicions':aft_model.predict_expectation(X_test)\n",
    "})\n",
    "\n",
    "# 拟合 BaggingRegressor 模型\n",
    "bagging_model.fit(bagging_X_train, y_train)\n",
    "\n",
    "# 使用 BaggingRegressor 进行预测\n",
    "predicted_survival_bagging = bagging_model.predict(bagging_X_test)\n",
    "\n",
    "# 输出预测的生存时间\n",
    "# print(predicted_survival_bagging)\n",
    "\n",
    "# 计算预测结果的均方误差\n",
    "mse_bagging = mean_squared_error(y_test, predicted_survival_bagging)\n",
    "print(\"Bagging Model MSE:\", mse_bagging)\n"
   ]
  },
  {
   "cell_type": "code",
   "execution_count": 96,
   "id": "d58e46d8",
   "metadata": {},
   "outputs": [
    {
     "name": "stdout",
     "output_type": "stream",
     "text": [
      "Bagging Concordance Index: 0.9667558490351227\n"
     ]
    }
   ],
   "source": [
    "# 计算CI值\n",
    "c_index_bagging = concordance_index(df_test['Survival_Month'], predicted_survival_bagging,df_test['Status'])\n",
    "\n",
    "print(\"Bagging Concordance Index:\", c_index_bagging)"
   ]
  },
  {
   "cell_type": "code",
   "execution_count": 97,
   "id": "96717df1",
   "metadata": {},
   "outputs": [
    {
     "name": "stdout",
     "output_type": "stream",
     "text": [
      "Bagging Brier Score: 0.033244150964877324\n"
     ]
    }
   ],
   "source": [
    "# 计算 Brier Score\n",
    "brier_score_bagging = utils.concordance_index(df_test['Survival_Month'], -predicted_survival_bagging, df_test['Status'])\n",
    "print(\"Bagging Brier Score:\", brier_score_bagging)"
   ]
  },
  {
   "cell_type": "code",
   "execution_count": 98,
   "id": "31613701",
   "metadata": {},
   "outputs": [
    {
     "name": "stdout",
     "output_type": "stream",
     "text": [
      "Bagging MAE: 3.5137413394919164\n"
     ]
    }
   ],
   "source": [
    "# 计算平均绝对误差\n",
    "mae_bagging = mean_absolute_error(df_test['Survival_Month'],predicted_survival_bagging)\n",
    "print(\"Bagging MAE:\", mae_bagging)"
   ]
  },
  {
   "cell_type": "code",
   "execution_count": 99,
   "id": "35a49924",
   "metadata": {},
   "outputs": [
    {
     "name": "stdout",
     "output_type": "stream",
     "text": [
      "Bayes RMSE: 4.292096232528351\n"
     ]
    }
   ],
   "source": [
    "# 计算RMSE（均方根误差）\n",
    "RMSE_bagging=np.sqrt(mean_squared_error(df_test['Survival_Month'],predicted_survival_bagging))\n",
    "print(\"Bayes RMSE:\",RMSE_bagging)"
   ]
  },
  {
   "cell_type": "code",
   "execution_count": 100,
   "id": "b5daeb83",
   "metadata": {},
   "outputs": [
    {
     "name": "stdout",
     "output_type": "stream",
     "text": [
      "Bagging R-squared: 0.9628160985161198\n"
     ]
    }
   ],
   "source": [
    "# 计算R平方（绝对系数）\n",
    "r2_bagging=r2_score(df_test['Survival_Month'],predicted_survival_bagging)\n",
    "print(\"Bagging R-squared:\",r2_bagging)"
   ]
  },
  {
   "cell_type": "markdown",
   "id": "4f761ca2",
   "metadata": {},
   "source": [
    "#### (3.3) 加权模型平均方法"
   ]
  },
  {
   "cell_type": "markdown",
   "id": "404c670e",
   "metadata": {},
   "source": [
    "#### (3.3.1) AIC信息准则"
   ]
  },
  {
   "cell_type": "code",
   "execution_count": 101,
   "id": "38bec69a",
   "metadata": {},
   "outputs": [],
   "source": [
    "## 1.Cox比例风险模型\n",
    "# 计算 log-likelihood\n",
    "cox_log_likelihood = cox_model.log_likelihood_\n",
    "\n",
    "# 获取参数数量\n",
    "cox_num_params = cox_model.params_.shape[0]\n",
    "\n",
    "# 计算 AIC\n",
    "cox_aic = -2 * cox_log_likelihood + 2 * cox_num_params\n",
    "\n",
    "\n",
    "## 2.Weibull比例风险模型\n",
    "# 计算 log-likelihood\n",
    "weibull_log_likelihood = weibull_model.log_likelihood_\n",
    "\n",
    "# 获取参数数量\n",
    "weibull_num_params = weibull_model.params_.shape[0]\n",
    "\n",
    "# 计算 AIC\n",
    "weibull_aic = -2 * weibull_log_likelihood + 2 * weibull_num_params\n",
    "\n",
    "\n",
    "## 3.对数正态分布的加速失效时间模型\n",
    "# 计算 log-likelihood\n",
    "aft_log_likelihood = aft_model.log_likelihood_\n",
    "\n",
    "# 获取参数数量\n",
    "aft_num_params = aft_model.params_.shape[0]\n",
    "\n",
    "# 计算 AIC\n",
    "aft_aic = -2 * aft_log_likelihood + 2 * aft_num_params\n"
   ]
  },
  {
   "cell_type": "code",
   "execution_count": 102,
   "id": "f00beafa",
   "metadata": {},
   "outputs": [
    {
     "data": {
      "text/plain": [
       "-1589.8011046316587"
      ]
     },
     "execution_count": 102,
     "metadata": {},
     "output_type": "execute_result"
    }
   ],
   "source": [
    "cox_log_likelihood"
   ]
  },
  {
   "cell_type": "code",
   "execution_count": 103,
   "id": "fa3d6f5d",
   "metadata": {},
   "outputs": [
    {
     "data": {
      "text/plain": [
       "-1209.1679382521206"
      ]
     },
     "execution_count": 103,
     "metadata": {},
     "output_type": "execute_result"
    }
   ],
   "source": [
    "weibull_log_likelihood"
   ]
  },
  {
   "cell_type": "code",
   "execution_count": 104,
   "id": "cca3a4c2",
   "metadata": {},
   "outputs": [
    {
     "data": {
      "text/plain": [
       "-1275.3240773244738"
      ]
     },
     "execution_count": 104,
     "metadata": {},
     "output_type": "execute_result"
    }
   ],
   "source": [
    "aft_log_likelihood"
   ]
  },
  {
   "cell_type": "code",
   "execution_count": 105,
   "id": "7014158a",
   "metadata": {},
   "outputs": [],
   "source": [
    "aic_values=[cox_aic,weibull_aic,aft_aic]"
   ]
  },
  {
   "cell_type": "code",
   "execution_count": 106,
   "id": "ac275c51",
   "metadata": {},
   "outputs": [
    {
     "data": {
      "text/plain": [
       "[3207.6022092633175, 2450.3358765042412, 2582.6481546489476]"
      ]
     },
     "execution_count": 106,
     "metadata": {},
     "output_type": "execute_result"
    }
   ],
   "source": [
    "aic_values"
   ]
  },
  {
   "cell_type": "code",
   "execution_count": 107,
   "id": "8e9d317a",
   "metadata": {},
   "outputs": [
    {
     "name": "stdout",
     "output_type": "stream",
     "text": [
      "AIC 权重值: [3.64506415e-165 1.00000000e+000 1.85675181e-029]\n"
     ]
    }
   ],
   "source": [
    "#计算AIC差异\n",
    "delta_aic=np.array(aic_values)-np.min(aic_values)\n",
    "\n",
    "#计算权重\n",
    "weights_aic=np.exp(-0.5*delta_aic)\n",
    "weights_aic/=np.sum(weights_aic)\n",
    "\n",
    "print(\"AIC 权重值:\",weights_aic)"
   ]
  },
  {
   "cell_type": "code",
   "execution_count": 108,
   "id": "8acd5884",
   "metadata": {},
   "outputs": [],
   "source": [
    "# 利用后验权重对每个模型的预测结果进行加权平均\n",
    "predicted_survival_aic = (weights_aic[0] * predicted_survival_cox +\n",
    "                               weights_aic[1] * predicted_survival_weibull +\n",
    "                               weights_aic[2] * predicted_survival_aft)"
   ]
  },
  {
   "cell_type": "code",
   "execution_count": 109,
   "id": "417e8b43",
   "metadata": {},
   "outputs": [
    {
     "data": {
      "text/plain": [
       "680      64.801293\n",
       "2054    137.283137\n",
       "3347    188.439606\n",
       "2250    123.350047\n",
       "1542     89.531696\n",
       "           ...    \n",
       "489      45.730421\n",
       "3711    252.598409\n",
       "4012    302.738883\n",
       "2987    214.971787\n",
       "2810    231.829921\n",
       "Length: 866, dtype: float64"
      ]
     },
     "execution_count": 109,
     "metadata": {},
     "output_type": "execute_result"
    }
   ],
   "source": [
    "predicted_survival_aic"
   ]
  },
  {
   "cell_type": "code",
   "execution_count": 110,
   "id": "3728b407",
   "metadata": {},
   "outputs": [
    {
     "name": "stdout",
     "output_type": "stream",
     "text": [
      "AIC Concordance Index: 0.972027096260033\n"
     ]
    }
   ],
   "source": [
    "# 计算CI值\n",
    "c_index_aic = concordance_index(df_test['Survival_Month'], predicted_survival_aic,df_test['Status'])\n",
    "\n",
    "print(\"AIC Concordance Index:\", c_index_aic)"
   ]
  },
  {
   "cell_type": "code",
   "execution_count": 111,
   "id": "15260a25",
   "metadata": {},
   "outputs": [
    {
     "name": "stdout",
     "output_type": "stream",
     "text": [
      "AIC RMSE: 86.70689100814964\n"
     ]
    }
   ],
   "source": [
    "# 计算RMSE（均方根误差）\n",
    "RMSE_aic=np.sqrt(mean_squared_error(df_test['Survival_Month'],predicted_survival_aic))\n",
    "print(\"AIC RMSE:\",RMSE_aic)"
   ]
  },
  {
   "cell_type": "code",
   "execution_count": 112,
   "id": "0a066cb3",
   "metadata": {},
   "outputs": [
    {
     "name": "stdout",
     "output_type": "stream",
     "text": [
      "AIC Brier Score: 0.027972903739966984\n"
     ]
    }
   ],
   "source": [
    "# 计算 Brier Score\n",
    "brier_score_aic = utils.concordance_index(df_test['Survival_Month'], -predicted_survival_aic, df_test['Status'])\n",
    "print(\"AIC Brier Score:\", brier_score_aic)"
   ]
  },
  {
   "cell_type": "code",
   "execution_count": 113,
   "id": "0f1ea2a6",
   "metadata": {},
   "outputs": [
    {
     "name": "stdout",
     "output_type": "stream",
     "text": [
      "AIC MAE: 63.07702262661253\n"
     ]
    }
   ],
   "source": [
    "# 计算平均绝对误差MAE\n",
    "mae_aic = mean_absolute_error(df_test['Survival_Month'],predicted_survival_aic)\n",
    "print(\"AIC MAE:\", mae_aic)"
   ]
  },
  {
   "cell_type": "code",
   "execution_count": 114,
   "id": "e707b465",
   "metadata": {},
   "outputs": [
    {
     "name": "stdout",
     "output_type": "stream",
     "text": [
      "AIC R-squared: -14.174810730683918\n"
     ]
    }
   ],
   "source": [
    "# 计算R平方（绝对系数）\n",
    "r2_aic=r2_score(df_test['Survival_Month'],predicted_survival_aic)\n",
    "print(\"AIC R-squared:\",r2_aic)"
   ]
  },
  {
   "cell_type": "markdown",
   "id": "17cce8f6",
   "metadata": {},
   "source": [
    "#### (3.3.2) BIC信息准则"
   ]
  },
  {
   "cell_type": "code",
   "execution_count": 115,
   "id": "d5b63b69",
   "metadata": {},
   "outputs": [],
   "source": [
    "log_likelihoods=[cox_log_likelihood,weibull_log_likelihood,aft_log_likelihood ]\n",
    "num_params=[cox_num_params,weibull_num_params,aft_num_params]"
   ]
  },
  {
   "cell_type": "code",
   "execution_count": 116,
   "id": "86eaf6e2",
   "metadata": {},
   "outputs": [],
   "source": [
    "n=len(df_train)"
   ]
  },
  {
   "cell_type": "code",
   "execution_count": 117,
   "id": "75436217",
   "metadata": {},
   "outputs": [],
   "source": [
    "# 计算BIC值\n",
    "bic_values = [-2 * log_likelihood + num_params * np.log(n) for log_likelihood, num_params in zip(log_likelihoods, num_params)]\n"
   ]
  },
  {
   "cell_type": "code",
   "execution_count": 118,
   "id": "52031663",
   "metadata": {},
   "outputs": [
    {
     "data": {
      "text/plain": [
       "[3286.140280076107, 2540.0936717188583, 2672.4059498635647]"
      ]
     },
     "execution_count": 118,
     "metadata": {},
     "output_type": "execute_result"
    }
   ],
   "source": [
    "bic_values"
   ]
  },
  {
   "cell_type": "code",
   "execution_count": 119,
   "id": "1969e82c",
   "metadata": {},
   "outputs": [],
   "source": [
    "# 计算BIC差异\n",
    "delta_bic = np.array(bic_values) - np.min(bic_values)\n",
    "\n",
    "# 计算权重\n",
    "weights_bic = np.exp(-0.5 * delta_bic)\n",
    "weights_bic /= np.sum(weights_bic)"
   ]
  },
  {
   "cell_type": "code",
   "execution_count": 120,
   "id": "e7bd1e8e",
   "metadata": {},
   "outputs": [
    {
     "name": "stdout",
     "output_type": "stream",
     "text": [
      "BIC 权重值: [9.95491082e-163 1.00000000e+000 1.85675181e-029]\n"
     ]
    }
   ],
   "source": [
    "print(\"BIC 权重值:\", weights_bic)"
   ]
  },
  {
   "cell_type": "code",
   "execution_count": 121,
   "id": "bf64dd5a",
   "metadata": {},
   "outputs": [],
   "source": [
    "# 利用后验权重对每个模型的预测结果进行加权平均\n",
    "predicted_survival_bic = (weights_bic[0] * predicted_survival_cox +\n",
    "                               weights_bic[1] * predicted_survival_weibull +\n",
    "                               weights_bic[2] * predicted_survival_aft)"
   ]
  },
  {
   "cell_type": "code",
   "execution_count": 122,
   "id": "2e8c449d",
   "metadata": {},
   "outputs": [
    {
     "data": {
      "text/plain": [
       "680      64.801293\n",
       "2054    137.283137\n",
       "3347    188.439606\n",
       "2250    123.350047\n",
       "1542     89.531696\n",
       "           ...    \n",
       "489      45.730421\n",
       "3711    252.598409\n",
       "4012    302.738883\n",
       "2987    214.971787\n",
       "2810    231.829921\n",
       "Length: 866, dtype: float64"
      ]
     },
     "execution_count": 122,
     "metadata": {},
     "output_type": "execute_result"
    }
   ],
   "source": [
    "predicted_survival_bic"
   ]
  },
  {
   "cell_type": "code",
   "execution_count": 123,
   "id": "cb2d61b0",
   "metadata": {},
   "outputs": [
    {
     "name": "stdout",
     "output_type": "stream",
     "text": [
      "BIC Concordance Index: 0.972027096260033\n"
     ]
    }
   ],
   "source": [
    "# 计算CI值\n",
    "c_index_bic = concordance_index(df_test['Survival_Month'], predicted_survival_bic,df_test['Status'])\n",
    "\n",
    "print(\"BIC Concordance Index:\", c_index_bic)"
   ]
  },
  {
   "cell_type": "code",
   "execution_count": 124,
   "id": "c7245dfa",
   "metadata": {},
   "outputs": [
    {
     "name": "stdout",
     "output_type": "stream",
     "text": [
      "BIC RMSE: 86.70689100814964\n"
     ]
    }
   ],
   "source": [
    "# 计算RMSE（均方根误差）\n",
    "RMSE_bic=np.sqrt(mean_squared_error(df_test['Survival_Month'],predicted_survival_bic))\n",
    "print(\"BIC RMSE:\",RMSE_bic)"
   ]
  },
  {
   "cell_type": "code",
   "execution_count": 125,
   "id": "2df04dd4",
   "metadata": {},
   "outputs": [
    {
     "name": "stdout",
     "output_type": "stream",
     "text": [
      "BIC Brier Score: 0.027972903739966984\n"
     ]
    }
   ],
   "source": [
    "# 计算 Brier Score\n",
    "brier_score_bic = utils.concordance_index(df_test['Survival_Month'], -predicted_survival_bic, df_test['Status'])\n",
    "print(\"BIC Brier Score:\", brier_score_bic)"
   ]
  },
  {
   "cell_type": "code",
   "execution_count": 126,
   "id": "6abb9872",
   "metadata": {},
   "outputs": [
    {
     "name": "stdout",
     "output_type": "stream",
     "text": [
      "BIC MAE: 63.07702262661253\n"
     ]
    }
   ],
   "source": [
    "# 计算平均绝对误差\n",
    "mae_bic = mean_absolute_error(df_test['Survival_Month'],predicted_survival_bic)\n",
    "print(\"BIC MAE:\", mae_bic)"
   ]
  },
  {
   "cell_type": "code",
   "execution_count": 127,
   "id": "516b480a",
   "metadata": {},
   "outputs": [
    {
     "name": "stdout",
     "output_type": "stream",
     "text": [
      "BIC R-squared: -14.174810730683918\n"
     ]
    }
   ],
   "source": [
    "# 计算R平方（绝对系数）\n",
    "r2_bic=r2_score(df_test['Survival_Month'],predicted_survival_bic)\n",
    "print(\"BIC R-squared:\",r2_bic)"
   ]
  },
  {
   "cell_type": "markdown",
   "id": "fb655be0",
   "metadata": {},
   "source": [
    "#### (3.3.2) Mallows准则"
   ]
  },
  {
   "cell_type": "code",
   "execution_count": 130,
   "id": "971ef19b",
   "metadata": {},
   "outputs": [
    {
     "name": "stdout",
     "output_type": "stream",
     "text": [
      "Optimal weights: [ 0.32948169  1.91120321 -1.2406849 ]\n"
     ]
    }
   ],
   "source": [
    "from scipy.optimize import minimize\n",
    "\n",
    "# 定义模型的预测结果\n",
    "# 这里假设有三个模型，每个模型的预测结果保存在一个numpy数组中\n",
    "cox_predictions = predicted_survival_cox\n",
    "weibull_predictions = predicted_survival_weibull\n",
    "aft_predictions = predicted_survival_aft\n",
    "\n",
    "# 定义目标函数，即Mallows方法中的距离函数\n",
    "def distance(weights):\n",
    "    weighted_avg = weights[0]*predicted_survival_cox + weights[1]*predicted_survival_weibull + weights[2]*predicted_survival_aft    \n",
    "# 这里使用简单的欧氏距离作为距离函数，你也可以选择其他的距离度量方式\n",
    "    return np.linalg.norm(weighted_avg - df_test['Survival_Month'])\n",
    "\n",
    "# 初始权重猜测值\n",
    "initial_weights = np.array([0.33, 0.33, 0.34])\n",
    "\n",
    "# 约束条件，权重之和为1\n",
    "constraints = ({'type': 'eq', 'fun': lambda weights: np.sum(weights) - 1})\n",
    "\n",
    "# 最小化目标函数\n",
    "result = minimize(distance, initial_weights, constraints=constraints)\n",
    "\n",
    "# 输出结果\n",
    "weights_mallows = result.x\n",
    "print(\"Optimal weights:\", weights_mallows)\n"
   ]
  },
  {
   "cell_type": "code",
   "execution_count": 131,
   "id": "70e5e5e4",
   "metadata": {},
   "outputs": [],
   "source": [
    "# 利用权重对每个模型的预测结果进行加权平均\n",
    "predicted_survival_mallows = (weights_mallows[0] * predicted_survival_cox +\n",
    "                               weights_mallows[1] * predicted_survival_weibull +\n",
    "                               weights_mallows[2] * predicted_survival_aft)"
   ]
  },
  {
   "cell_type": "code",
   "execution_count": 132,
   "id": "bdcb7a6e",
   "metadata": {},
   "outputs": [
    {
     "name": "stdout",
     "output_type": "stream",
     "text": [
      "Mallows Concordance Index: 0.9596402345306541\n"
     ]
    }
   ],
   "source": [
    "# 计算CI值\n",
    "c_index_mallows = concordance_index(df_test['Survival_Month'], predicted_survival_mallows,df_test['Status'])\n",
    "\n",
    "print(\"Mallows Concordance Index:\", c_index_mallows)"
   ]
  },
  {
   "cell_type": "code",
   "execution_count": 133,
   "id": "93e81df9",
   "metadata": {},
   "outputs": [
    {
     "name": "stdout",
     "output_type": "stream",
     "text": [
      "Mallows RMSE: 7.2059632114867735\n"
     ]
    }
   ],
   "source": [
    "# 计算RMSE（均方根误差）\n",
    "RMSE_mallows=np.sqrt(mean_squared_error(df_test['Survival_Month'],predicted_survival_mallows))\n",
    "print(\"Mallows RMSE:\",RMSE_mallows)"
   ]
  },
  {
   "cell_type": "code",
   "execution_count": 134,
   "id": "0d13be62",
   "metadata": {},
   "outputs": [
    {
     "name": "stdout",
     "output_type": "stream",
     "text": [
      "Mallows Brier Score: 0.040359765469345936\n"
     ]
    }
   ],
   "source": [
    "# 计算 Brier Score\n",
    "brier_score_mallows = utils.concordance_index(df_test['Survival_Month'], -predicted_survival_mallows, df_test['Status'])\n",
    "print(\"Mallows Brier Score:\", brier_score_mallows)"
   ]
  },
  {
   "cell_type": "code",
   "execution_count": 135,
   "id": "fb9e2143",
   "metadata": {},
   "outputs": [
    {
     "name": "stdout",
     "output_type": "stream",
     "text": [
      "Mallows MAE: 5.119272676880917\n"
     ]
    }
   ],
   "source": [
    "# 计算平均绝对误差\n",
    "mae_mallows = mean_absolute_error(df_test['Survival_Month'],predicted_survival_mallows)\n",
    "print(\"Mallows MAE:\", mae_mallows)"
   ]
  },
  {
   "cell_type": "code",
   "execution_count": 136,
   "id": "e3933377",
   "metadata": {},
   "outputs": [
    {
     "name": "stdout",
     "output_type": "stream",
     "text": [
      "Mallows R-squared: 0.8951906239376789\n"
     ]
    }
   ],
   "source": [
    "# 计算R平方（绝对系数）\n",
    "r2_mallows=r2_score(df_test['Survival_Month'],predicted_survival_mallows)\n",
    "print(\"Mallows R-squared:\",r2_mallows)"
   ]
  },
  {
   "cell_type": "markdown",
   "id": "335b6610",
   "metadata": {},
   "source": [
    "#### (3.3.3) Jackknife准则"
   ]
  },
  {
   "cell_type": "code",
   "execution_count": 135,
   "id": "709e8cca",
   "metadata": {},
   "outputs": [],
   "source": [
    "predictions=np.array([predicted_survival_cox,predicted_survival_weibull,predicted_survival_aft])\n",
    "def jackknife_weights(data):\n",
    "    \"\"\"\n",
    "    使用Jackknife准则计算数据的权重\n",
    "    \n",
    "    参数：\n",
    "    - data: 一个包含n个样本的numpy数组\n",
    "    \n",
    "    返回值：\n",
    "    - weights: 一个包含n个样本权重的numpy数组\n",
    "    \"\"\"\n",
    "    n = len(data)\n",
    "    mean_full = np.mean(data)\n",
    "    weights = np.zeros(n)\n",
    "    \n",
    "    for i in range(n):\n",
    "        data_jk = np.delete(data, i)  # 删除第i个样本\n",
    "        mean_jk = np.mean(data_jk)\n",
    "        weights[i] = (n - 1) / n * (mean_jk - mean_full)**2\n",
    "    \n",
    "    # 标准化权重\n",
    "    weights /= np.sum(weights)\n",
    "    \n",
    "    return weights"
   ]
  },
  {
   "cell_type": "code",
   "execution_count": 136,
   "id": "61ee7f5f",
   "metadata": {},
   "outputs": [
    {
     "name": "stdout",
     "output_type": "stream",
     "text": [
      "[0.46530982 0.28499823 0.24969195]\n"
     ]
    }
   ],
   "source": [
    "weights_jackknife=jackknife_weights(predictions)\n",
    "print(weights_jackknife)"
   ]
  },
  {
   "cell_type": "code",
   "execution_count": 137,
   "id": "27386501",
   "metadata": {},
   "outputs": [],
   "source": [
    "predicted_survival_jackknife=(weights_jackknife[0] * predicted_survival_cox +\n",
    "                               weights_jackknife[1] * predicted_survival_weibull +\n",
    "                               weights_jackknife[2] * predicted_survival_aft)"
   ]
  },
  {
   "cell_type": "code",
   "execution_count": 138,
   "id": "6dc884b4",
   "metadata": {},
   "outputs": [
    {
     "name": "stdout",
     "output_type": "stream",
     "text": [
      "Jackknife Concordance Index: 0.9684294415665737\n"
     ]
    }
   ],
   "source": [
    "# 计算CI值\n",
    "c_index_jackknife = concordance_index(df_test['Survival_Month'], predicted_survival_jackknife,df_test['Status'])\n",
    "\n",
    "print(\"Jackknife Concordance Index:\", c_index_jackknife)"
   ]
  },
  {
   "cell_type": "code",
   "execution_count": 139,
   "id": "6adbcd88",
   "metadata": {},
   "outputs": [
    {
     "name": "stdout",
     "output_type": "stream",
     "text": [
      "Jackknife RMSE: 63.49383648751396\n"
     ]
    }
   ],
   "source": [
    "# 计算RMSE（均方根误差）\n",
    "RMSE_jackknife=np.sqrt(mean_squared_error(df_test['Survival_Month'],predicted_survival_jackknife))\n",
    "print(\"Jackknife RMSE:\",RMSE_jackknife)"
   ]
  },
  {
   "cell_type": "code",
   "execution_count": 140,
   "id": "dfcd1c03",
   "metadata": {},
   "outputs": [
    {
     "name": "stdout",
     "output_type": "stream",
     "text": [
      "Jackknnife Brier Score: 0.03157055843342631\n"
     ]
    }
   ],
   "source": [
    "# 计算 Brier Score\n",
    "brier_score_jackknife = utils.concordance_index(df_test['Survival_Month'], -predicted_survival_jackknife, df_test['Status'])\n",
    "print(\"Jackknnife Brier Score:\", brier_score_jackknife)"
   ]
  },
  {
   "cell_type": "code",
   "execution_count": 141,
   "id": "72cb20d0",
   "metadata": {},
   "outputs": [
    {
     "name": "stdout",
     "output_type": "stream",
     "text": [
      "Jackknife MAE: 52.546829169509365\n"
     ]
    }
   ],
   "source": [
    "# 计算平均绝对误差\n",
    "mae_jackknife = mean_absolute_error(df_test['Survival_Month'],predicted_survival_jackknife)\n",
    "print(\"Jackknife MAE:\", mae_jackknife)"
   ]
  },
  {
   "cell_type": "code",
   "execution_count": 142,
   "id": "1630e2e4",
   "metadata": {},
   "outputs": [
    {
     "name": "stdout",
     "output_type": "stream",
     "text": [
      "Jackknife R-squared: -7.137278740368243\n"
     ]
    }
   ],
   "source": [
    "# 计算R平方（绝对系数）\n",
    "r2_jackknife=r2_score(df_test['Survival_Month'],predicted_survival_jackknife)\n",
    "print(\"Jackknife R-squared:\",r2_jackknife)"
   ]
  },
  {
   "cell_type": "markdown",
   "id": "75873214",
   "metadata": {},
   "source": [
    "### 比较贝叶斯、Bagging、AIC、BIC、Mallows、Jackknife六个模型"
   ]
  },
  {
   "cell_type": "code",
   "execution_count": 1,
   "id": "d041e86f",
   "metadata": {},
   "outputs": [
    {
     "ename": "NameError",
     "evalue": "name 'predicted_survival_bayes' is not defined",
     "output_type": "error",
     "traceback": [
      "\u001b[0;31m---------------------------------------------------------------------------\u001b[0m",
      "\u001b[0;31mNameError\u001b[0m                                 Traceback (most recent call last)",
      "\u001b[0;32m/var/folders/0b/fx5b7rgn6rl61000z85h05fw0000gn/T/ipykernel_64412/730154399.py\u001b[0m in \u001b[0;36m<module>\u001b[0;34m\u001b[0m\n\u001b[1;32m     12\u001b[0m \u001b[0;34m\u001b[0m\u001b[0m\n\u001b[1;32m     13\u001b[0m \u001b[0;31m# 根据预测的生存时间数据拟合 Kaplan-Meier 生存曲线\u001b[0m\u001b[0;34m\u001b[0m\u001b[0;34m\u001b[0m\u001b[0m\n\u001b[0;32m---> 14\u001b[0;31m \u001b[0mkmf_bayes\u001b[0m\u001b[0;34m.\u001b[0m\u001b[0mfit\u001b[0m\u001b[0;34m(\u001b[0m\u001b[0mpredicted_survival_bayes\u001b[0m\u001b[0;34m,\u001b[0m \u001b[0mlabel\u001b[0m\u001b[0;34m=\u001b[0m\u001b[0;34m'Bayes Model'\u001b[0m\u001b[0;34m,\u001b[0m\u001b[0mci_show\u001b[0m\u001b[0;34m=\u001b[0m\u001b[0;32mTrue\u001b[0m\u001b[0;34m)\u001b[0m\u001b[0;34m\u001b[0m\u001b[0;34m\u001b[0m\u001b[0m\n\u001b[0m\u001b[1;32m     15\u001b[0m \u001b[0mkmf_bagging\u001b[0m\u001b[0;34m.\u001b[0m\u001b[0mfit\u001b[0m\u001b[0;34m(\u001b[0m\u001b[0mpredicted_survival_bagging\u001b[0m\u001b[0;34m,\u001b[0m \u001b[0mlabel\u001b[0m\u001b[0;34m=\u001b[0m\u001b[0;34m'Bagging Model'\u001b[0m\u001b[0;34m,\u001b[0m\u001b[0mci_show\u001b[0m\u001b[0;34m=\u001b[0m\u001b[0;32mTrue\u001b[0m\u001b[0;34m)\u001b[0m\u001b[0;34m\u001b[0m\u001b[0;34m\u001b[0m\u001b[0m\n\u001b[1;32m     16\u001b[0m \u001b[0mkmf_aic\u001b[0m\u001b[0;34m.\u001b[0m\u001b[0mfit\u001b[0m\u001b[0;34m(\u001b[0m\u001b[0mpredicted_survival_aic\u001b[0m\u001b[0;34m,\u001b[0m \u001b[0mlabel\u001b[0m\u001b[0;34m=\u001b[0m\u001b[0;34m'AIC Model'\u001b[0m\u001b[0;34m,\u001b[0m\u001b[0mci_show\u001b[0m\u001b[0;34m=\u001b[0m\u001b[0;32mTrue\u001b[0m\u001b[0;34m)\u001b[0m\u001b[0;34m\u001b[0m\u001b[0;34m\u001b[0m\u001b[0m\n",
      "\u001b[0;31mNameError\u001b[0m: name 'predicted_survival_bayes' is not defined"
     ]
    }
   ],
   "source": [
    "import matplotlib.pyplot as plt\n",
    "from lifelines import KaplanMeierFitter\n",
    "\n",
    "# 创建 Kaplan-Meier 生存曲线对象\n",
    "kmf_bayes = KaplanMeierFitter()\n",
    "kmf_bagging = KaplanMeierFitter()\n",
    "kmf_aic = KaplanMeierFitter()\n",
    "kmf_bic = KaplanMeierFitter()\n",
    "kmf_mallows=KaplanMeierFitter()\n",
    "kmf_jackknife=KaplanMeierFitter()\n",
    "kmf_raw=KaplanMeierFitter()\n",
    "\n",
    "# 根据预测的生存时间数据拟合 Kaplan-Meier 生存曲线\n",
    "kmf_bayes.fit(predicted_survival_bayes, label='Bayes Model',ci_show=True)\n",
    "kmf_bagging.fit(predicted_survival_bagging, label='Bagging Model',ci_show=True)\n",
    "kmf_aic.fit(predicted_survival_aic, label='AIC Model',ci_show=True)\n",
    "kmf_bic.fit(predicted_survival_bic, label='BIC Model',ci_show=True)\n",
    "kmf_mallows.fit(df_test['Survival_Month'],label='Mallows Model',ci_show=True)\n",
    "kmf_jackknife.fit(df_test['Survival_Month'],label='Jackknife Model',ci_show=True)\n",
    "kmf_raw.fit(df_test['Survival_Month'],label='True Values',ci_show=True)\n",
    "\n",
    "\n",
    "# 绘制生存曲线\n",
    "kmf_bayes.plot()\n",
    "kmf_bagging.plot()\n",
    "kmf_aic.plot()\n",
    "kmf_bic.plot()\n",
    "kmf_mallows.plot()\n",
    "kmf_jackknife.plot()\n",
    "kmf_raw.plot()\n",
    "\n",
    "# 添加标题和标签\n",
    "plt.title('Survival Curves of Six Models')\n",
    "plt.xlabel('Time')\n",
    "plt.ylabel('Survival Probability')\n",
    "\n",
    "# 添加图例\n",
    "plt.legend()\n",
    "\n",
    "# 显示图表\n",
    "plt.show()\n"
   ]
  },
  {
   "cell_type": "code",
   "execution_count": 144,
   "id": "8a1597da",
   "metadata": {},
   "outputs": [
    {
     "name": "stdout",
     "output_type": "stream",
     "text": [
      "Kruskal-Wallis test statistic: 1008.6450519679889\n",
      "P-value: 8.076576125985366e-216\n"
     ]
    }
   ],
   "source": [
    "#对六种模型平均方法进行Kruskal-Wallis检验\n",
    "group1_survival_times=predicted_survival_bayes\n",
    "group2_survival_times=predicted_survival_bagging\n",
    "group3_survival_times=predicted_survival_aic\n",
    "group4_survival_times=predicted_survival_bic\n",
    "group5_survival_times=predicted_survival_mallows\n",
    "group6_survival_times=predicted_survival_jackknife\n",
    "\n",
    "# 执行Kruskal-Wallis检验\n",
    "statistic, p_value = kruskal(group1_survival_times, group2_survival_times, group3_survival_times,group4_survival_times,group5_survival_times,group6_survival_times)\n",
    "\n",
    "# 输出结果\n",
    "print(\"Kruskal-Wallis test statistic:\", statistic)\n",
    "print(\"P-value:\", p_value)"
   ]
  },
  {
   "cell_type": "code",
   "execution_count": 145,
   "id": "c66057ca",
   "metadata": {},
   "outputs": [
    {
     "name": "stdout",
     "output_type": "stream",
     "text": [
      "Levene检验统计量: 275.7637726940321\n",
      "P 值: 2.8949656312197614e-262\n",
      "拒绝原假设，各组方差不相等\n"
     ]
    }
   ],
   "source": [
    "from scipy.stats import levene\n",
    "\n",
    "# 执行Levene检验\n",
    "statistic, p_value = levene(predicted_survival_bayes, predicted_survival_bagging, predicted_survival_aic, predicted_survival_bic, predicted_survival_mallows, predicted_survival_jackknife)\n",
    "\n",
    "# 输出结果\n",
    "print(\"Levene检验统计量:\", statistic)\n",
    "print(\"P 值:\", p_value)\n",
    "\n",
    "# 判断是否拒绝原假设\n",
    "alpha = 0.05  # 显著性水平\n",
    "if p_value < alpha:\n",
    "    print(\"拒绝原假设，各组方差不相等\")\n",
    "else:\n",
    "    print(\"接受原假设，各组方差相等\")"
   ]
  },
  {
   "cell_type": "code",
   "execution_count": 146,
   "id": "a970e34e",
   "metadata": {},
   "outputs": [
    {
     "name": "stdout",
     "output_type": "stream",
     "text": [
      "F 统计量: 230.19281138105063\n",
      "P 值: 1.4245793891361723e-222\n",
      "拒绝原假设，六种方法之间存在显著差异\n"
     ]
    }
   ],
   "source": [
    "#进行多因素方差分析（ANOVA）\n",
    "from scipy.stats import f_oneway\n",
    "f_statistic, p_value = f_oneway(predicted_survival_bayes, predicted_survival_bagging, predicted_survival_aic, predicted_survival_bic, predicted_survival_mallows, predicted_survival_jackknife)\n",
    "\n",
    "# 输出结果\n",
    "print(\"F 统计量:\", f_statistic)\n",
    "print(\"P 值:\", p_value)\n",
    "\n",
    "# 判断是否拒绝原假设\n",
    "alpha = 0.05  # 显著性水平\n",
    "if p_value < alpha:\n",
    "    print(\"拒绝原假设，六种方法之间存在显著差异\")\n",
    "else:\n",
    "    print(\"接受原假设，六种方法之间不存在显著差异\")"
   ]
  },
  {
   "cell_type": "code",
   "execution_count": 147,
   "id": "71352e4a",
   "metadata": {},
   "outputs": [
    {
     "ename": "ValueError",
     "evalue": "array length 5196 does not match index length 866",
     "output_type": "error",
     "traceback": [
      "\u001b[0;31m---------------------------------------------------------------------------\u001b[0m",
      "\u001b[0;31mValueError\u001b[0m                                Traceback (most recent call last)",
      "\u001b[0;32m/var/folders/0b/fx5b7rgn6rl61000z85h05fw0000gn/T/ipykernel_56277/37383309.py\u001b[0m in \u001b[0;36m<module>\u001b[0;34m\u001b[0m\n\u001b[1;32m      4\u001b[0m \u001b[0;34m\u001b[0m\u001b[0m\n\u001b[1;32m      5\u001b[0m \u001b[0;31m# 将数据整理成适合Tukey的格式\u001b[0m\u001b[0;34m\u001b[0m\u001b[0;34m\u001b[0m\u001b[0m\n\u001b[0;32m----> 6\u001b[0;31m data = pd.DataFrame({'Method': ['predicted_survival_bayes']*len(predicted_survival_bayes) + ['predicted_survival_bagging']*len(predicted_survival_bagging) + ['predicted_survival_aic']*len(predicted_survival_aic) + ['predicted_survival_bic']*len(predicted_survival_bic) + ['predicted_survival_mallows']*len(predicted_survival_mallows) + ['predicted_survival_jackknife']*len(predicted_survival_jackknife),\n\u001b[0m\u001b[1;32m      7\u001b[0m                      'Result': predicted_survival_bayes + predicted_survival_bagging + predicted_survival_aic + predicted_survival_bic + predicted_survival_mallows + predicted_survival_jackknife})\n\u001b[1;32m      8\u001b[0m \u001b[0;34m\u001b[0m\u001b[0m\n",
      "\u001b[0;32m~/Anaconda/anaconda3/lib/python3.9/site-packages/pandas/core/frame.py\u001b[0m in \u001b[0;36m__init__\u001b[0;34m(self, data, index, columns, dtype, copy)\u001b[0m\n\u001b[1;32m    707\u001b[0m         \u001b[0;32melif\u001b[0m \u001b[0misinstance\u001b[0m\u001b[0;34m(\u001b[0m\u001b[0mdata\u001b[0m\u001b[0;34m,\u001b[0m \u001b[0mdict\u001b[0m\u001b[0;34m)\u001b[0m\u001b[0;34m:\u001b[0m\u001b[0;34m\u001b[0m\u001b[0;34m\u001b[0m\u001b[0m\n\u001b[1;32m    708\u001b[0m             \u001b[0;31m# GH#38939 de facto copy defaults to False only in non-dict cases\u001b[0m\u001b[0;34m\u001b[0m\u001b[0;34m\u001b[0m\u001b[0m\n\u001b[0;32m--> 709\u001b[0;31m             \u001b[0mmgr\u001b[0m \u001b[0;34m=\u001b[0m \u001b[0mdict_to_mgr\u001b[0m\u001b[0;34m(\u001b[0m\u001b[0mdata\u001b[0m\u001b[0;34m,\u001b[0m \u001b[0mindex\u001b[0m\u001b[0;34m,\u001b[0m \u001b[0mcolumns\u001b[0m\u001b[0;34m,\u001b[0m \u001b[0mdtype\u001b[0m\u001b[0;34m=\u001b[0m\u001b[0mdtype\u001b[0m\u001b[0;34m,\u001b[0m \u001b[0mcopy\u001b[0m\u001b[0;34m=\u001b[0m\u001b[0mcopy\u001b[0m\u001b[0;34m,\u001b[0m \u001b[0mtyp\u001b[0m\u001b[0;34m=\u001b[0m\u001b[0mmanager\u001b[0m\u001b[0;34m)\u001b[0m\u001b[0;34m\u001b[0m\u001b[0;34m\u001b[0m\u001b[0m\n\u001b[0m\u001b[1;32m    710\u001b[0m         \u001b[0;32melif\u001b[0m \u001b[0misinstance\u001b[0m\u001b[0;34m(\u001b[0m\u001b[0mdata\u001b[0m\u001b[0;34m,\u001b[0m \u001b[0mma\u001b[0m\u001b[0;34m.\u001b[0m\u001b[0mMaskedArray\u001b[0m\u001b[0;34m)\u001b[0m\u001b[0;34m:\u001b[0m\u001b[0;34m\u001b[0m\u001b[0;34m\u001b[0m\u001b[0m\n\u001b[1;32m    711\u001b[0m             \u001b[0;32mfrom\u001b[0m \u001b[0mnumpy\u001b[0m\u001b[0;34m.\u001b[0m\u001b[0mma\u001b[0m \u001b[0;32mimport\u001b[0m \u001b[0mmrecords\u001b[0m\u001b[0;34m\u001b[0m\u001b[0;34m\u001b[0m\u001b[0m\n",
      "\u001b[0;32m~/Anaconda/anaconda3/lib/python3.9/site-packages/pandas/core/internals/construction.py\u001b[0m in \u001b[0;36mdict_to_mgr\u001b[0;34m(data, index, columns, dtype, typ, copy)\u001b[0m\n\u001b[1;32m    479\u001b[0m             \u001b[0marrays\u001b[0m \u001b[0;34m=\u001b[0m \u001b[0;34m[\u001b[0m\u001b[0mx\u001b[0m\u001b[0;34m.\u001b[0m\u001b[0mcopy\u001b[0m\u001b[0;34m(\u001b[0m\u001b[0;34m)\u001b[0m \u001b[0;32mif\u001b[0m \u001b[0mhasattr\u001b[0m\u001b[0;34m(\u001b[0m\u001b[0mx\u001b[0m\u001b[0;34m,\u001b[0m \u001b[0;34m\"dtype\"\u001b[0m\u001b[0;34m)\u001b[0m \u001b[0;32melse\u001b[0m \u001b[0mx\u001b[0m \u001b[0;32mfor\u001b[0m \u001b[0mx\u001b[0m \u001b[0;32min\u001b[0m \u001b[0marrays\u001b[0m\u001b[0;34m]\u001b[0m\u001b[0;34m\u001b[0m\u001b[0;34m\u001b[0m\u001b[0m\n\u001b[1;32m    480\u001b[0m \u001b[0;34m\u001b[0m\u001b[0m\n\u001b[0;32m--> 481\u001b[0;31m     \u001b[0;32mreturn\u001b[0m \u001b[0marrays_to_mgr\u001b[0m\u001b[0;34m(\u001b[0m\u001b[0marrays\u001b[0m\u001b[0;34m,\u001b[0m \u001b[0mcolumns\u001b[0m\u001b[0;34m,\u001b[0m \u001b[0mindex\u001b[0m\u001b[0;34m,\u001b[0m \u001b[0mdtype\u001b[0m\u001b[0;34m=\u001b[0m\u001b[0mdtype\u001b[0m\u001b[0;34m,\u001b[0m \u001b[0mtyp\u001b[0m\u001b[0;34m=\u001b[0m\u001b[0mtyp\u001b[0m\u001b[0;34m,\u001b[0m \u001b[0mconsolidate\u001b[0m\u001b[0;34m=\u001b[0m\u001b[0mcopy\u001b[0m\u001b[0;34m)\u001b[0m\u001b[0;34m\u001b[0m\u001b[0;34m\u001b[0m\u001b[0m\n\u001b[0m\u001b[1;32m    482\u001b[0m \u001b[0;34m\u001b[0m\u001b[0m\n\u001b[1;32m    483\u001b[0m \u001b[0;34m\u001b[0m\u001b[0m\n",
      "\u001b[0;32m~/Anaconda/anaconda3/lib/python3.9/site-packages/pandas/core/internals/construction.py\u001b[0m in \u001b[0;36marrays_to_mgr\u001b[0;34m(arrays, columns, index, dtype, verify_integrity, typ, consolidate)\u001b[0m\n\u001b[1;32m    113\u001b[0m         \u001b[0;31m# figure out the index, if necessary\u001b[0m\u001b[0;34m\u001b[0m\u001b[0;34m\u001b[0m\u001b[0m\n\u001b[1;32m    114\u001b[0m         \u001b[0;32mif\u001b[0m \u001b[0mindex\u001b[0m \u001b[0;32mis\u001b[0m \u001b[0;32mNone\u001b[0m\u001b[0;34m:\u001b[0m\u001b[0;34m\u001b[0m\u001b[0;34m\u001b[0m\u001b[0m\n\u001b[0;32m--> 115\u001b[0;31m             \u001b[0mindex\u001b[0m \u001b[0;34m=\u001b[0m \u001b[0m_extract_index\u001b[0m\u001b[0;34m(\u001b[0m\u001b[0marrays\u001b[0m\u001b[0;34m)\u001b[0m\u001b[0;34m\u001b[0m\u001b[0;34m\u001b[0m\u001b[0m\n\u001b[0m\u001b[1;32m    116\u001b[0m         \u001b[0;32melse\u001b[0m\u001b[0;34m:\u001b[0m\u001b[0;34m\u001b[0m\u001b[0;34m\u001b[0m\u001b[0m\n\u001b[1;32m    117\u001b[0m             \u001b[0mindex\u001b[0m \u001b[0;34m=\u001b[0m \u001b[0mensure_index\u001b[0m\u001b[0;34m(\u001b[0m\u001b[0mindex\u001b[0m\u001b[0;34m)\u001b[0m\u001b[0;34m\u001b[0m\u001b[0;34m\u001b[0m\u001b[0m\n",
      "\u001b[0;32m~/Anaconda/anaconda3/lib/python3.9/site-packages/pandas/core/internals/construction.py\u001b[0m in \u001b[0;36m_extract_index\u001b[0;34m(data)\u001b[0m\n\u001b[1;32m    666\u001b[0m                     \u001b[0;34mf\"length {len(index)}\"\u001b[0m\u001b[0;34m\u001b[0m\u001b[0;34m\u001b[0m\u001b[0m\n\u001b[1;32m    667\u001b[0m                 )\n\u001b[0;32m--> 668\u001b[0;31m                 \u001b[0;32mraise\u001b[0m \u001b[0mValueError\u001b[0m\u001b[0;34m(\u001b[0m\u001b[0mmsg\u001b[0m\u001b[0;34m)\u001b[0m\u001b[0;34m\u001b[0m\u001b[0;34m\u001b[0m\u001b[0m\n\u001b[0m\u001b[1;32m    669\u001b[0m         \u001b[0;32melse\u001b[0m\u001b[0;34m:\u001b[0m\u001b[0;34m\u001b[0m\u001b[0;34m\u001b[0m\u001b[0m\n\u001b[1;32m    670\u001b[0m             \u001b[0mindex\u001b[0m \u001b[0;34m=\u001b[0m \u001b[0mdefault_index\u001b[0m\u001b[0;34m(\u001b[0m\u001b[0mlengths\u001b[0m\u001b[0;34m[\u001b[0m\u001b[0;36m0\u001b[0m\u001b[0;34m]\u001b[0m\u001b[0;34m)\u001b[0m\u001b[0;34m\u001b[0m\u001b[0;34m\u001b[0m\u001b[0m\n",
      "\u001b[0;31mValueError\u001b[0m: array length 5196 does not match index length 866"
     ]
    }
   ],
   "source": [
    "import pandas as pd\n",
    "from statsmodels.stats.multicomp import pairwise_tukeyhsd\n",
    "\n",
    "\n",
    "# 将数据整理成适合Tukey的格式\n",
    "data = pd.DataFrame({'Method': ['predicted_survival_bayes']*len(predicted_survival_bayes) + ['predicted_survival_bagging']*len(predicted_survival_bagging) + ['predicted_survival_aic']*len(predicted_survival_aic) + ['predicted_survival_bic']*len(predicted_survival_bic) + ['predicted_survival_mallows']*len(predicted_survival_mallows) + ['predicted_survival_jackknife']*len(predicted_survival_jackknife),\n",
    "                     'Result': predicted_survival_bayes + predicted_survival_bagging + predicted_survival_aic + predicted_survival_bic + predicted_survival_mallows + predicted_survival_jackknife})\n",
    "\n",
    "# 执行Tukey的HSD检验\n",
    "result = pairwise_tukeyhsd(data['Result'], data['Method'])\n",
    "\n",
    "# 输出检验结果\n",
    "print(result)\n"
   ]
  }
 ],
 "metadata": {
  "kernelspec": {
   "display_name": "Python 3 (ipykernel)",
   "language": "python",
   "name": "python3"
  },
  "language_info": {
   "codemirror_mode": {
    "name": "ipython",
    "version": 3
   },
   "file_extension": ".py",
   "mimetype": "text/x-python",
   "name": "python",
   "nbconvert_exporter": "python",
   "pygments_lexer": "ipython3",
   "version": "3.9.7"
  }
 },
 "nbformat": 4,
 "nbformat_minor": 5
}
